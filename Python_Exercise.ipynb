{
 "cells": [
  {
   "cell_type": "markdown",
   "metadata": {},
   "source": [
    "# Python Exercise"
   ]
  },
  {
   "cell_type": "markdown",
   "metadata": {},
   "source": [
    "## 1. Input\n"
   ]
  },
  {
   "cell_type": "code",
   "execution_count": 59,
   "metadata": {},
   "outputs": [],
   "source": [
    "import math\n",
    "from math import *\n",
    "from matplotlib import pyplot as plt\n",
    "from random import *\n"
   ]
  },
  {
   "cell_type": "code",
   "execution_count": 60,
   "metadata": {},
   "outputs": [
    {
     "name": "stdout",
     "output_type": "stream",
     "text": [
      "Your number squared: 9\n",
      "You entered three values:  1 2 3\n",
      "[1, 2, 3]\n"
     ]
    }
   ],
   "source": [
    "# Write a program that asks the user for their name and how many times to print it. The program\n",
    "# should print out the user’s name the specified number of times.\n",
    "\n",
    "# uncomment below\n",
    "# num = eval(input('Enter a number then hit ENTER: '))\n",
    "num=3\n",
    "print('Your number squared:', num*num)\n",
    "\n",
    "# input multiple values all at once: \n",
    "# uncomment below\n",
    "# x, y, z = input (\"Enter three scores separated by a comma:\").split(\",\")\n",
    "x, y, z = 1, 2, 3\n",
    "print('You entered three values: ', x, y, z)\n",
    "\n",
    "# input multiple numbers as a list\n",
    "# uncomment below\n",
    "# mylist = [eval(x) for x in input('enter 3 numbers separated by comma and hit ENTER ').split(',')]\n",
    "mylist=[1,2,3]\n",
    "print(mylist)"
   ]
  },
  {
   "cell_type": "code",
   "execution_count": 61,
   "metadata": {},
   "outputs": [
    {
     "name": "stdout",
     "output_type": "stream",
     "text": [
      "alice\n",
      "alice\n",
      "alice\n"
     ]
    }
   ],
   "source": [
    "# Write a program that asks the user for their name and how many times to print it. The program\n",
    "# should print out the user’s name the specified number of times.\n",
    "\n",
    "# uncomment below\n",
    "# username=input('Please enter your name and hit EHTER: ')\n",
    "username='alice'\n",
    "# times = eval(input('How many times to print, then hit NETER: '))\n",
    "times=3\n",
    "\n",
    "for num in range(times): \n",
    "    print(username)"
   ]
  },
  {
   "cell_type": "markdown",
   "metadata": {},
   "source": [
    "## 2. For Loops"
   ]
  },
  {
   "cell_type": "code",
   "execution_count": 62,
   "metadata": {},
   "outputs": [
    {
     "name": "stdout",
     "output_type": "stream",
     "text": [
      "alice\n",
      "alice\n",
      "alice\n"
     ]
    }
   ],
   "source": [
    "# Print your name 3 times.\n",
    "name = 'alice'\n",
    "for i in range(3): \n",
    "    print(name)"
   ]
  },
  {
   "cell_type": "code",
   "execution_count": 63,
   "metadata": {},
   "outputs": [
    {
     "name": "stdout",
     "output_type": "stream",
     "text": [
      "alicealicealicealicealicealicealicealicealicealicealicealicealicealicealicealicealicealicealicealicealicealicealicealicealicealicealicealicealicealicealicealicealicealicealice"
     ]
    }
   ],
   "source": [
    "# Print your name to fill the screen\n",
    "for i in range(35): \n",
    "    print(name, end='')"
   ]
  },
  {
   "cell_type": "code",
   "execution_count": 64,
   "metadata": {},
   "outputs": [
    {
     "name": "stdout",
     "output_type": "stream",
     "text": [
      "8, 11, 14, 17, 20, 23, 26, 29, 32, 35, 38, 41, 44, 47, 50, 53, 56, 59, 62, 65, 68, 71, 74, 77, 80, 83, 86, 89, \n",
      "\n",
      "100, 98, 96, 94, 92, 90, 88, 86, 84, 82, 80, 78, 76, 74, 72, 70, 68, 66, 64, 62, 60, 58, 56, 54, 52, 50, 48, 46, 44, 42, 40, 38, 36, 34, 32, 30, 28, 26, 24, 22, 20, 18, 16, 14, 12, 10, 8, 6, 4, 2, "
     ]
    }
   ],
   "source": [
    "# Write a program that uses a for loop to print the numbers 8, 11, 14, 17, 20, . . . , 83, 86, 89.\n",
    "for i in range(1000): \n",
    "    if 8+i*3<=89: \n",
    "        print(8+i*3,end=', ')\n",
    "print('\\n')\n",
    "\n",
    "# Write a program that uses a for loop to print the numbers 100, 98, 96, . . . , 4, 2.\n",
    "for i in range(1000): \n",
    "    if 100-i*2>0: \n",
    "        print(100-i*2, end=', ')"
   ]
  },
  {
   "cell_type": "code",
   "execution_count": 65,
   "metadata": {},
   "outputs": [
    {
     "name": "stdout",
     "output_type": "stream",
     "text": [
      "AAAABBBBCCCCDDDDEEEEFFFFGGGG"
     ]
    }
   ],
   "source": [
    "# Write a program that uses exactly four for loops to print the sequence of letters below.\n",
    "word = 'ABCDEFG'\n",
    "for letter in word: \n",
    "    print(letter*4, end='')"
   ]
  },
  {
   "cell_type": "code",
   "execution_count": 66,
   "metadata": {},
   "outputs": [
    {
     "name": "stdout",
     "output_type": "stream",
     "text": [
      "0, 1, 1, 2, "
     ]
    }
   ],
   "source": [
    "# The Fibonacci numbers are the sequence below, where the first two numbers are 1, and each\n",
    "# number thereafter is the sum of the two preceding numbers. Write a program that asks the\n",
    "# user how many Fibonacci numbers to print and then prints that many.\n",
    "# 1, 1, 2, 3, 5, 8, 13, 21, 34, 55, 89 . .\n",
    "# F0=0, F1=1 AND, for n>1, Fn = Fn-1 + Fn-2\n",
    "\n",
    "# Program to display the Fibonacci sequence up to n-th term where n is provided by the user\n",
    "def fib(n): \n",
    "    if n==1:\n",
    "        return 0\n",
    "    elif n==2: \n",
    "        return 1\n",
    "    else: \n",
    "        fn_2, fn_1 = 0, 1\n",
    "        for i in range(2, n): \n",
    "            fn=fn_1+fn_2\n",
    "            fn_2=fn_1\n",
    "            fn_1=fn\n",
    "        return fn\n",
    "\n",
    "# num=eval(input('how many numbers to print: '))\n",
    "num=4\n",
    "for m in range(1, num+1): \n",
    "    print(fib(m),end=', ')\n"
   ]
  },
  {
   "cell_type": "code",
   "execution_count": 67,
   "metadata": {},
   "outputs": [
    {
     "name": "stdout",
     "output_type": "stream",
     "text": [
      "****\n",
      "****\n",
      "****\n"
     ]
    }
   ],
   "source": [
    "# num_col=eval(input('how many columes to print: '))\n",
    "num_col=4\n",
    "# num_row=eval(input('how many rows to print: '))\n",
    "num_row=3\n",
    "for i in range(1, num_row+1): \n",
    "    print('*'*num_col)"
   ]
  },
  {
   "cell_type": "code",
   "execution_count": 68,
   "metadata": {},
   "outputs": [
    {
     "name": "stdout",
     "output_type": "stream",
     "text": [
      "****\n",
      "*  *\n",
      "****\n"
     ]
    }
   ],
   "source": [
    "# num_col=eval(input('how many columes to print: '))\n",
    "# num_row=eval(input('how many rows to print: '))\n",
    "num_col=4\n",
    "num_row=3\n",
    "print('*'*num_col)\n",
    "for i in range(2, num_row):\n",
    "    print('*',' '*(num_col-4), '*')\n",
    "print('*'*num_col)\n",
    "    "
   ]
  },
  {
   "cell_type": "code",
   "execution_count": 69,
   "metadata": {},
   "outputs": [
    {
     "name": "stdout",
     "output_type": "stream",
     "text": [
      "*\n",
      "**\n",
      "***\n"
     ]
    }
   ],
   "source": [
    "# Use a for loop to print a triangle. Allow the user to specify how high the triangle should be.\n",
    "# n=eval(input('how many columes to print: '))\n",
    "n=3\n",
    "for i in range(1, n+1): \n",
    "    print('*'*i)"
   ]
  },
  {
   "cell_type": "code",
   "execution_count": 70,
   "metadata": {},
   "outputs": [
    {
     "name": "stdout",
     "output_type": "stream",
     "text": [
      "****\n",
      "***\n",
      "**\n",
      "*\n"
     ]
    }
   ],
   "source": [
    "# Use a for loop to print an upside down triangle. Allow the user to specify how high the triangle should be.\n",
    "# n=eval(input('how many columes to print: '))\n",
    "n=4\n",
    "for i in range(-n,0): \n",
    "    print('*'*(-i))"
   ]
  },
  {
   "cell_type": "markdown",
   "metadata": {},
   "source": [
    "## 3. Math"
   ]
  },
  {
   "cell_type": "code",
   "execution_count": 71,
   "metadata": {},
   "outputs": [
    {
     "name": "stdout",
     "output_type": "stream",
     "text": [
      "8%5 =  3\n",
      "8//5 =  1\n"
     ]
    }
   ],
   "source": [
    "# % means remainder. i.e. 8%5=3\n",
    "# // means integer division. i.e. 8//5=1\n",
    "print('8%5 = ', 8%5)\n",
    "print('8//5 = ', 8//5)"
   ]
  },
  {
   "cell_type": "code",
   "execution_count": 72,
   "metadata": {},
   "outputs": [
    {
     "name": "stdout",
     "output_type": "stream",
     "text": [
      "49,30,56,33,48,38,39,45,50,41,"
     ]
    }
   ],
   "source": [
    "# Write a program that generates and print 10 random integers, each between 30 and 60.\n",
    "from random import randint\n",
    "for i in range(10): \n",
    "    print(randint(30,60), end=',')\n"
   ]
  },
  {
   "cell_type": "markdown",
   "metadata": {},
   "source": [
    "## 4. If Statement"
   ]
  },
  {
   "cell_type": "markdown",
   "metadata": {},
   "source": [
    "## 5. Miscellaneous Topics\n"
   ]
  },
  {
   "cell_type": "code",
   "execution_count": 73,
   "metadata": {},
   "outputs": [
    {
     "name": "stdout",
     "output_type": "stream",
     "text": [
      "5\n"
     ]
    }
   ],
   "source": [
    "# Write a program to compute the sum 1 􀀀 2 + 3 􀀀 4 + ... + 9\n",
    "total_n=0\n",
    "for i in range(1, 10): \n",
    "    if i%2==0: \n",
    "        i_new =-i\n",
    "    else: \n",
    "        i_new=i\n",
    "    total_n+=i_new\n",
    "print(total_n)"
   ]
  },
  {
   "cell_type": "code",
   "execution_count": 74,
   "metadata": {},
   "outputs": [
    {
     "name": "stdout",
     "output_type": "stream",
     "text": [
      "[1, 2, 4, 7, 14]\n",
      "28\n",
      "28\n"
     ]
    }
   ],
   "source": [
    "# Write a program that asks the user to enter a number and prints the sum of the divisors of\n",
    "# that number. The sum of the divisors of a number is an important function in number theory.\n",
    "n=28\n",
    "divisors=[]\n",
    "for i in range(1, n): \n",
    "    if n%i==0: \n",
    "        divisors.append(i)\n",
    "print(divisors)\n",
    "print(sum(divisors))\n",
    "\n",
    "# or the following: \n",
    "total =0\n",
    "for i in range(1, n): \n",
    "    if n%i==0: \n",
    "        total+=i\n",
    "print(total)"
   ]
  },
  {
   "cell_type": "code",
   "execution_count": 75,
   "metadata": {},
   "outputs": [
    {
     "name": "stdout",
     "output_type": "stream",
     "text": [
      "6 6\n",
      "28 28\n",
      "496 496\n",
      "8128 8128\n"
     ]
    }
   ],
   "source": [
    "# A number is called a perfect number if it is equal to the sum of all of its divisors, not including\n",
    "# the number itself. For instance, 6 is a perfect number because the divisors of 6 are 1, 2, 3, 6\n",
    "# and 6 = 1 + 2 + 3. As another example, 28 is a perfect number because its divisors are 1, 2, 4,\n",
    "# 7, 14, 28 and 28 = 1 + 2 + 4 + 7 + 14. Write a program that finds all four of the perfect numbers\n",
    "# that are less than 10000.\n",
    "def divisor_total(n): \n",
    "    total = 0\n",
    "    for i in range(1, n): \n",
    "        if n%i==0: \n",
    "            total+=i\n",
    "    return (total)\n",
    "\n",
    "for i in range(1, 10000): \n",
    "    if i==divisor_total(i): \n",
    "        print(i, divisor_total(i))"
   ]
  },
  {
   "cell_type": "code",
   "execution_count": 76,
   "metadata": {},
   "outputs": [
    {
     "name": "stdout",
     "output_type": "stream",
     "text": [
      "[2, 3, 6, 7, 14, 21]\n",
      "42 is a square free number\n",
      "6\n"
     ]
    }
   ],
   "source": [
    "# An integer is called squarefree if it is not divisible by any perfect squares other than 1. For\n",
    "# instance, 42 is squarefree because its divisors are 1, 2, 3, 6, 7, 21, and 42, and none of those\n",
    "# numbers (except 1) is a perfect square. On the other hand, 45 is not squarefree because it is\n",
    "# divisible by 9, which is a perfect square.Write a program that asks the user for an integer and\n",
    "# tells them if it is squarefree or not.\n",
    "\n",
    "n=42\n",
    "#42 is squarefree, 45 is not\n",
    "def devisor_list(n): \n",
    "    devisor_list=[]\n",
    "    for i in range(2, n): \n",
    "        if n%i==0: \n",
    "            devisor_list.append(i)\n",
    "    return devisor_list\n",
    "print(devisor_list(n))\n",
    "\n",
    "from math import sqrt\n",
    "def is_squarefree(n): \n",
    "    if int(sqrt(n))/1.0==sqrt(n): #4, 9, 16,etc. \n",
    "        return 1 # is not one of squares (is squarefree)\n",
    "    else: \n",
    "        return 0 # is one of squares (not square free)\n",
    "\n",
    "count=0\n",
    "for l in devisor_list(n): \n",
    "    if is_squarefree(l)==0:\n",
    "        count+=1\n",
    "    else: \n",
    "        print(n, 'is not a square free number')\n",
    "        break\n",
    "        \n",
    "if count==len(devisor_list(n)): \n",
    "        print(n, 'is a square free number')\n",
    "        print(count)   "
   ]
  },
  {
   "cell_type": "code",
   "execution_count": 77,
   "metadata": {},
   "outputs": [
    {
     "name": "stdout",
     "output_type": "stream",
     "text": [
      "Original input of the three values are:  3 2 1\n",
      "2 1 3\n",
      "1 3 2\n"
     ]
    }
   ],
   "source": [
    "# Write a program that swaps the values of three variables x, y, and z, so that x gets the value\n",
    "# of y, y gets the value of z, and z gets the value of x. i.e. result is: y, z, x\n",
    "\n",
    "# x, y, z = input (\"Enter three scores separated by a comma:\").split(\",\")\n",
    "x, y, z = 3, 2, 1\n",
    "print('Original input of the three values are: ', x, y, z)\n",
    "\n",
    "#method 1\n",
    "temp = x\n",
    "x = y\n",
    "y = z\n",
    "z = temp\n",
    "print(x, y, z)\n",
    "\n",
    "#method 2\n",
    "mylist = [x, y, z]\n",
    "newlist = [y, z, x]\n",
    "x, y, z = mylist[1], mylist[2], mylist[0]\n",
    "print(x, y, z)"
   ]
  },
  {
   "cell_type": "code",
   "execution_count": 78,
   "metadata": {},
   "outputs": [
    {
     "name": "stdout",
     "output_type": "stream",
     "text": [
      "[50, 100, 150, 200, 250]\n",
      "max is 250 , min is 50 , avg is 150.0\n",
      "Removed the max:  [100, 200, 50, 150] and second largest is 200\n",
      "The second highest number is 150\n",
      "you have entered a number >100\n",
      "-----------e---------\n",
      "[50, 100, 150, 200, 250]\n",
      "avg is 200.0\n"
     ]
    }
   ],
   "source": [
    "# Ask the user to enter 5 test scores. Write a program to do the following:\n",
    "# (a) Print out the highest and lowest scores.\n",
    "# (b) Print out the average of the scores.\n",
    "# (c) Print out the second largest score.\n",
    "# (d) If any of the scores is greater than 100, then after all the scores have been entered, print\n",
    "# a message warning the user that a value over 100 has been entered.\n",
    "# (e) Drop the two lowest scores and print out the average of the rest of them.\n",
    "\n",
    "# a, b\n",
    "mylist = list(i*50 for i in range(1,6))\n",
    "print(mylist)\n",
    "print('max is', max(mylist), ', min is', min(mylist), ', avg is', sum(mylist)/len(mylist))\n",
    "\n",
    "#c. Using set. The order is no longer kept\n",
    "myset=set(mylist)\n",
    "myset.remove(max(myset))\n",
    "mylist = list(myset)\n",
    "print('Removed the max: ', mylist, 'and second largest is', max(mylist))\n",
    "#c. Order is kept. \n",
    "mymax = max(mylist)\n",
    "newlist=[]\n",
    "for i in mylist: \n",
    "    if i<mymax: \n",
    "        newlist.append(i)\n",
    "print('The second highest number is', max(newlist))\n",
    "\n",
    "#d\n",
    "for i in mylist: \n",
    "    if i <=100: \n",
    "        pass\n",
    "    else: \n",
    "        print('you have entered a number >100')\n",
    "        break\n",
    "\n",
    "#e\n",
    "print('-----------e---------')\n",
    "mylist = list(i*50 for i in range(1,6))\n",
    "print(mylist)\n",
    "mymin = min(mylist)\n",
    "newlist=[]\n",
    "for i in mylist: \n",
    "    if i>mymin: \n",
    "        newlist.append(i)\n",
    "mymin = min(newlist)\n",
    "newnewlist=[]\n",
    "for i in newlist: \n",
    "    if i > mymin: \n",
    "        newnewlist.append(i)\n",
    "print('avg is', sum(newnewlist)/len(newnewlist))"
   ]
  },
  {
   "cell_type": "code",
   "execution_count": 79,
   "metadata": {},
   "outputs": [
    {
     "name": "stdout",
     "output_type": "stream",
     "text": [
      "[0.334084428403358, 0.2477793220134147, 0.1976184748616791, 0.16704669376425102, 0.14271164100413397, 0.12237278761061947, 0.11610216990952038, 0.09744042365401588, 0.08748626785179267, 0.08382257012393998]\n",
      "[0.6646606888527813, 0.37448805715823147, 0.2643422419995204, 0.2109087264800942, 0.17079787297890983, 0.14564627759072205, 0.12674978002765366, 0.11001466110296605, 0.10131463433607077, 0.08962357657320323]\n"
     ]
    },
    {
     "data": {
      "image/png": "[encoded data removed]",
      "text/plain": [
       "<Figure size 432x288 with 1 Axes>"
      ]
     },
     "metadata": {
      "needs_background": "light"
     },
     "output_type": "display_data"
    }
   ],
   "source": [
    "# This exercise is about the well-known Monty Hall problem. In the problem, you are a contestant\n",
    "# on a game show. The host, Monty Hall, shows you three doors. Behind one of those\n",
    "# doors is a prize, and behind the other two doors are goats. You pick a door. Monty Hall, who\n",
    "# knows behind which door the prize lies, then opens up one of the doors that doesn’t contain\n",
    "# the prize. There are now two doors left, and Monty gives you the opportunity to change your\n",
    "# choice. Should you keep the same door, change doors, or does it not matter?\n",
    "# (a) Write a program that simulates playing this game 10000 times and calculates what percentage\n",
    "# of the time you would win if you switch and what percentage of the time you\n",
    "# would win by not switching.\n",
    "# (b) Try the above but with four doors instead of three. There is still only one prize, and\n",
    "# Monty still opens up one door and then gives you the opportunity to switch\n",
    "\n",
    "import random\n",
    "from random import randint\n",
    "nochangeavgs=[]\n",
    "changedavgs=[]\n",
    "for numofdoors in range(3, 13): \n",
    "    # generate doors\n",
    "    doors=[0]*numofdoors\n",
    "    positions = [i for i in range(0,numofdoors)]\n",
    "    prizeposition = random.choice(positions)\n",
    "    # print(prizeposition)\n",
    "    # print('prizeposition is', prizeposition)\n",
    "    doors[prizeposition]=1\n",
    "#     print(doors)\n",
    "\n",
    "    # simulation\n",
    "    gameresults=[]\n",
    "    changelog=[]\n",
    "    for i in range(0, 100000): \n",
    "        # generate first picked position\n",
    "        positions = [i for i in range(0,numofdoors)]\n",
    "        firstposition=random.choice(positions)\n",
    "\n",
    "        # generate monty position\n",
    "        positions = [i for i in range(0,numofdoors)]\n",
    "        if prizeposition==firstposition: \n",
    "            positions.remove(prizeposition)\n",
    "            montyposition=random.choice(positions)\n",
    "        else: \n",
    "            positions.remove(prizeposition)\n",
    "            positions.remove(firstposition)\n",
    "            montyposition = random.choice(positions)\n",
    "\n",
    "    #     print('prizepositions is', prizeposition, ', firstpositon picked is', firstposition)\n",
    "    #     print('montyposition is', montyposition)\n",
    "\n",
    "        # get second picked position\n",
    "        positions = [i for i in range(0,numofdoors)]\n",
    "        positions.remove(montyposition)\n",
    "        secondpick = random.choice(positions)\n",
    "    #     print('second picked position is', secondpick)\n",
    "        if firstposition==secondpick: \n",
    "            change = 'no change'\n",
    "        else: \n",
    "            change = 'changed'\n",
    "        if doors[secondpick]==1: \n",
    "            gameresult=1\n",
    "        else: \n",
    "            gameresult=0\n",
    "        changelog.append(change)\n",
    "    #     print(change)\n",
    "        gameresults.append(gameresult)\n",
    "    #     print('gameresult is', gameresult)\n",
    "    #     print('\\n')\n",
    "    # print(changelog)\n",
    "    # print(gameresults)\n",
    "\n",
    "    nochangeresults=[gameresults[i] for i, v in enumerate(changelog) if v=='no change']\n",
    "#     print('if no change, avg is ', sum(nochangeresults)/len(nochangeresults))\n",
    "    nochangeavg=sum(nochangeresults)/len(nochangeresults)\n",
    "    nochangeavgs.append(nochangeavg)\n",
    "    \n",
    "    changeresults=[gameresults[i] for i, v in enumerate(changelog) if v=='changed']\n",
    "#     print('if changed, avg is ', sum(changeresults)/len(changeresults))\n",
    "    changedavg=sum(changeresults)/len(changeresults)\n",
    "    changedavgs.append(changedavg)\n",
    "\n",
    "print(nochangeavgs)\n",
    "print(changedavgs)\n",
    "\n",
    "from matplotlib import pyplot as plt\n",
    "plt.plot([x for x in range(3, 13)], [y for y in nochangeavgs], color = 'red', label = 'nochangeavg')\n",
    "plt.plot([x for x in range(3, 13)], [y for y in changedavgs])\n",
    "plt.title('Number of Doors (x) vs. prob of Winning(y), \\n red: no change')\n",
    "plt.show()"
   ]
  },
  {
   "cell_type": "markdown",
   "metadata": {},
   "source": [
    "## 6. Strings"
   ]
  },
  {
   "cell_type": "code",
   "execution_count": 80,
   "metadata": {},
   "outputs": [
    {
     "name": "stdout",
     "output_type": "stream",
     "text": [
      "2\n",
      "1\n",
      "1\n",
      "False\n",
      "abbcccddddbc4\n",
      "ABBCCCDDDDBC4\n",
      "3\n"
     ]
    }
   ],
   "source": [
    "# to count how many occurrence of a certain item\n",
    "mystring='abBcccddddbc4'\n",
    "print(mystring.count('b'))\n",
    "print(mystring.count('bc'))\n",
    "\n",
    "# to return the location of the FIRST occurrence of a certain item\n",
    "print(mystring.index('b'))\n",
    "\n",
    "#returns True if every character of the string is a letter\n",
    "print(mystring.isalpha())\n",
    "\n",
    "#get lower/upper case\n",
    "print(mystring.lower())\n",
    "print(mystring.upper())\n",
    "\n",
    "# lower first then see how many b's\n",
    "print(mystring.lower().count('b'))"
   ]
  },
  {
   "cell_type": "markdown",
   "metadata": {},
   "source": [
    "How to deal with ' (apostrophe)\n",
    "\n",
    "Use \\\\'"
   ]
  },
  {
   "cell_type": "code",
   "execution_count": 81,
   "metadata": {},
   "outputs": [
    {
     "name": "stdout",
     "output_type": "stream",
     "text": [
      "I can't go\n"
     ]
    }
   ],
   "source": [
    "mystring = 'I can\\'t go'\n",
    "print(mystring)"
   ]
  },
  {
   "cell_type": "code",
   "execution_count": 82,
   "metadata": {},
   "outputs": [
    {
     "name": "stdout",
     "output_type": "stream",
     "text": [
      "aaa\n",
      "a\n",
      "a\n",
      "a\n",
      "\n"
     ]
    }
   ],
   "source": [
    "print('a'*3)\n",
    "print('a\\n'*3)"
   ]
  },
  {
   "cell_type": "code",
   "execution_count": 83,
   "metadata": {},
   "outputs": [
    {
     "name": "stdout",
     "output_type": "stream",
     "text": [
      "abcabc\n",
      "0\n",
      "3\n"
     ]
    }
   ],
   "source": [
    "# to find a certain item's index in a string\n",
    "mystring='abcabc'\n",
    "print(mystring)\n",
    "for i in range(len(mystring)):\n",
    "    if mystring[i]=='a':\n",
    "        print(i)"
   ]
  },
  {
   "cell_type": "code",
   "execution_count": 84,
   "metadata": {},
   "outputs": [
    {
     "name": "stdout",
     "output_type": "stream",
     "text": [
      "i know youre out there i can feel you now i know that youre afraid\n"
     ]
    }
   ],
   "source": [
    "# to change to lower case, and to remove all puntuation \n",
    "myline= \"\"\"I know you're out there! I can feel you now. I know that you're afraid\"\"\"\n",
    "\n",
    "for c in ',.;:-?!()\\'\"': \n",
    "    myline=myline.lower().replace(c, '')\n",
    "print(myline)"
   ]
  },
  {
   "cell_type": "code",
   "execution_count": 85,
   "metadata": {},
   "outputs": [
    {
     "name": "stdout",
     "output_type": "stream",
     "text": [
      "14159\n",
      "14159\n",
      "-0.14159000000000077\n",
      "0.8584099999999992 Note when using floor, result is not right\n"
     ]
    }
   ],
   "source": [
    "# Write a program that, given a string that contains a decimal number, prints out the\n",
    "# decimal part of the number. For instance, if given 3.14159, the program should print out .14159.\n",
    "\n",
    "mynum='30.14159'\n",
    "print(mynum[mynum.find('.')+1 : ])\n",
    "print(mynum[mynum.index('.')+1 : ])\n",
    "\n",
    "mynum=-30.14159\n",
    "print(mynum-int(mynum))\n",
    "import math\n",
    "print(mynum-math.floor(mynum), 'Note when using floor, result is not right')"
   ]
  },
  {
   "cell_type": "code",
   "execution_count": 86,
   "metadata": {},
   "outputs": [
    {
     "name": "stdout",
     "output_type": "stream",
     "text": [
      "j dtcw stp\n",
      "i love you\n"
     ]
    }
   ],
   "source": [
    "# A simple and very old method of sending secret messages is the substitution cipher.\n",
    "# Basically, each letter of the alphabet gets replaced by another letter of the alphabet, say every a gets\n",
    "# replaced with an x, and every b gets replaced by a z, etc. Write a program to implement this.\n",
    "\n",
    "original='abcdefghijklmnopqrstuvwxyz'\n",
    "code='xznlwebgjhqdyvtkfuompciasr'\n",
    "# message=input('enter a message here: ')\n",
    "message = 'i love you'\n",
    "def changetocipher(message): \n",
    "\n",
    "    ds=[]\n",
    "    for c in message.lower(): \n",
    "        if c.isalpha(): \n",
    "            d= (code[original.index(c)])\n",
    "        else: \n",
    "            d=(c)\n",
    "        ds.append(d)\n",
    "    return (''.join(ds))\n",
    "print(changetocipher(message))\n",
    "\n",
    "\n",
    "# cipher=input('enter a cipher here: ')\n",
    "cipher = 'j dtcw stp'\n",
    "def changetomessage(cipher): \n",
    "    \n",
    "    ds=[]\n",
    "    for c in cipher:\n",
    "        if c.isalpha(): \n",
    "            d=original[code.index(c)]\n",
    "        else: \n",
    "            d=c\n",
    "        ds.append(d)\n",
    "    return (''.join(ds))\n",
    "\n",
    "\n",
    "print(changetomessage(cipher))"
   ]
  },
  {
   "cell_type": "code",
   "execution_count": 87,
   "metadata": {},
   "outputs": [
    {
     "name": "stdout",
     "output_type": "stream",
     "text": [
      "11\n",
      "8\n",
      "21\n",
      "1980! Be careful of 1980!1980! Be careful of 1980!1980! Be careful of 1980!\n",
      "B\n",
      "------end of #c----------\n",
      "['B', 'e', 'c']\n",
      "['l', 'o', 'f']\n",
      "['B', 'e', 'c']\n",
      "--------end of d, start of e---------\n",
      "['f', 'o', 'l', 'u', 'f', 'e', 'r', 'a', 'c', 'e', 'B']\n",
      "-------start of g---------\n",
      "f\n",
      "---------start of h and i----------\n",
      "['e', 'c', 'a', 'r', 'e', 'f', 'u', 'l', 'o']\n",
      "1980! BE CAREFUL OF 1980!\n",
      "---------start of j------\n",
      "1980! Be cereful of 1980!\n",
      "---------start of k-------\n",
      "1980!               1980!\n"
     ]
    }
   ],
   "source": [
    "# Write a program that asks the user to enter a string. The program should then print the\n",
    "# following:\n",
    "# (a) The total number of numbers(digits) and letters in the string\n",
    "# (b) The string repeated 3 times\n",
    "# (c) The first character of the string (remember that string indices start at 0)\n",
    "# (d) The first three characters of the string\n",
    "# (e) The last three characters of the string\n",
    "# (f) The string backwards\n",
    "# (g) The seventh character of the string if the string is long enough and a message otherwise\n",
    "# (h) The string with its first and last characters removed\n",
    "# (i) The string in all caps\n",
    "# (j) The string with every a replaced with an e\n",
    "mystring='1980! Be careful of 1980!'\n",
    "\n",
    "#a\n",
    "print (len([c for c in mystring if c.isalpha()]))\n",
    "print (len([c for c in mystring if c.isdigit()]))\n",
    "print (len([c for c in mystring if c!=\" \"]))\n",
    "\n",
    "#b\n",
    "print(mystring*3)\n",
    "\n",
    "#c\n",
    "for c in mystring: \n",
    "    if c.isalpha(): \n",
    "        print(c)\n",
    "        break\n",
    "print('------end of #c----------')\n",
    "#d & e\n",
    "# mystring='1980! Be careful of 1980!'\n",
    "cs= [c for c in mystring if c.isalpha()]\n",
    "print(cs[:3])\n",
    "print(cs[-3:])\n",
    "# or the following: \n",
    "cs=[]\n",
    "for c in mystring: \n",
    "    if c.isalpha(): \n",
    "        cs.append(c)\n",
    "    else: \n",
    "        pass\n",
    "    if len(cs)==3: \n",
    "        print(cs)\n",
    "        break\n",
    "\n",
    "print('--------end of d, start of e---------')\n",
    "\n",
    "#e print backward\n",
    "cs= [c for c in mystring if c.isalpha()]\n",
    "print(cs[::-1]) \n",
    "\n",
    "#(g) The seventh character of the string if the string is long enough and a message otherwise\n",
    "print('-------start of g---------')\n",
    "cs=[]\n",
    "for c in mystring: \n",
    "    if c.isalpha(): \n",
    "        cs.append(c)\n",
    "    else: \n",
    "        pass\n",
    "    if len(cs)==7: \n",
    "        print(cs[6]) \n",
    "        break\n",
    "if len(cs)<7: \n",
    "    print(''.join(cs))\n",
    "#Note: you can do it in many other ways but this is the way to minimize computation. \n",
    "\n",
    "#h. The string with its first and last characters removed\n",
    "print('---------start of h and i----------')\n",
    "cs=[c for c in mystring if c.isalpha()]\n",
    "print(cs[1:-1])\n",
    "\n",
    "# i. The string in all caps\n",
    "print(mystring.upper())\n",
    "\n",
    "#j The string with every a replaced with an e\n",
    "print('---------start of j------')\n",
    "print(mystring.replace('a', 'e'))\n",
    "\n",
    "#k The string with every letter replaced by a space\n",
    "print('---------start of k-------')\n",
    "newstring=mystring.lower()\n",
    "for c in \"abcdefghijklmnopqrstuvwxyz\": \n",
    "    newstring=newstring.replace(c, \" \")\n",
    "print(newstring)\n",
    "\n",
    "# cs=[c for c in mystring if c.isalpha==False]\n",
    "# print(cs)"
   ]
  },
  {
   "cell_type": "code",
   "execution_count": 88,
   "metadata": {},
   "outputs": [
    {
     "name": "stdout",
     "output_type": "stream",
     "text": [
      "['l', 'o', 'v', 'e'] ['e', 'v', 'o', 'l']\n",
      "not palindrome\n"
     ]
    }
   ],
   "source": [
    "# Write a program that asks the user to enter a word and determines whether the word is a\n",
    "# palindrome or not. A palindrome is a word that reads the same backwards as forwards.\n",
    "\n",
    "# s=input('please enter a word: ')\n",
    "s='love'\n",
    "mylist=[i for i in s]\n",
    "newlist=mylist[::-1]\n",
    "print(mylist, newlist)\n",
    "if mylist==newlist: \n",
    "    print('is palindrome')\n",
    "else: \n",
    "    print('not palindrome')"
   ]
  },
  {
   "cell_type": "code",
   "execution_count": 89,
   "metadata": {},
   "outputs": [
    {
     "name": "stdout",
     "output_type": "stream",
     "text": [
      "  1\n",
      "    3\n",
      "     4\n",
      "      5\n",
      "   2\n",
      "  1\n",
      "    3\n",
      "     4\n",
      "      5\n",
      "   2\n"
     ]
    }
   ],
   "source": [
    "# Ask the user for a number and then print the following, where the pattern ends at the number\n",
    "# that the user enters.\n",
    "num=13452\n",
    "mystring=[c for c in str(num)]\n",
    "for i in range(len(mystring)): \n",
    "    print(' '*(int(mystring[i])), mystring[i])\n",
    "for i, v in enumerate(mystring): \n",
    "    print(' '*int(v), v)\n",
    "    "
   ]
  },
  {
   "cell_type": "code",
   "execution_count": 90,
   "metadata": {},
   "outputs": [
    {
     "name": "stdout",
     "output_type": "stream",
     "text": [
      "PP\n",
      "AA\n",
      "RR\n",
      "AA\n",
      "DD\n",
      "II\n",
      "SS\n",
      "EE\n"
     ]
    }
   ],
   "source": [
    "# Write a program that asks the user to enter a string, then prints out each letter of the string\n",
    "# doubled and on a separate line. For instance, if the user entered HEY, the output would be\n",
    "\n",
    "mystring='paradise'\n",
    "for c in mystring: \n",
    "    print(c.upper()*2 )"
   ]
  },
  {
   "cell_type": "code",
   "execution_count": 91,
   "metadata": {},
   "outputs": [
    {
     "name": "stdout",
     "output_type": "stream",
     "text": [
      "rHiNoCeRoS\n"
     ]
    }
   ],
   "source": [
    "# Write a program that asks the user to enter a word and then capitalizes every other letter of\n",
    "# that word. So if the user enters rhinoceros, the program should print rHiNoCeRoS.\n",
    "\n",
    "mystring='rhinoceros'\n",
    "cs=[]\n",
    "for i, v in enumerate(mystring): \n",
    "    if i%2!=0: \n",
    "        v=v.upper()\n",
    "    else: \n",
    "        pass\n",
    "    cs.append(v)\n",
    "mystring=''.join(cs)\n",
    "print(mystring)"
   ]
  },
  {
   "cell_type": "code",
   "execution_count": 92,
   "metadata": {},
   "outputs": [
    {
     "name": "stdout",
     "output_type": "stream",
     "text": [
      "aAbBcCdDeE\n"
     ]
    }
   ],
   "source": [
    "# Write a program that asks the user to enter two strings of the same length. The program\n",
    "# should then check to see if the strings are of the same length. If they are not, the program\n",
    "# should print an appropriate message and exit. If they are of the same length, the program\n",
    "# should alternate the characters of the two strings. For example, if the user enters abcde and\n",
    "# ABCDE the program should print out AaBbCcDdEe.\n",
    "\n",
    "mystring1='abcde'\n",
    "mystring2='ABCDE'\n",
    "if len(mystring1)!=len(mystring2): \n",
    "    print('not the same length')\n",
    "else: \n",
    "    cs=[]\n",
    "    for i in range(len(mystring2)): \n",
    "        c1, c2=mystring1[i], mystring2[i]\n",
    "        cs.append(c1)\n",
    "        cs.append(c2)\n",
    "print(''.join(cs))        "
   ]
  },
  {
   "cell_type": "code",
   "execution_count": 93,
   "metadata": {},
   "outputs": [
    {
     "name": "stdout",
     "output_type": "stream",
     "text": [
      "CALCULUS class was really HAPPY today. We learned how to PLAY BASKETBALL today in class. I can't wait for tomorrow's class!\n"
     ]
    }
   ],
   "source": [
    "# When I was a kid, we used to play this game called Mad Libs. The way it worked was a friend\n",
    "# would ask me for some words and then insert those words into a story at specific places\n",
    "# and read the story. The story would often turn out to be pretty funny with the words I had\n",
    "# given since I had no idea what the story was about. The words were usually from a specific\n",
    "# category, like a place, an animal, etc.\n",
    "# For this problem you will write a Mad Libs program. First, you should make up a story and\n",
    "# leave out some words of the story. Your program should ask the user to enter some words\n",
    "# and tell them what types of words to enter. Then print the full story along with the inserted\n",
    "# words. Here is a small example, but you should use your own (longer) example:\n",
    "\n",
    "# CALCULUS class was really HAPPY today. We learned how to\n",
    "# PLAY BASKETBALL today in class. I can't wait for tomorrow's\n",
    "# class!\n",
    "classname='CALCULUS'\n",
    "adjectcive='HAPPY'\n",
    "activity='PLAY BASKETBALL'\n",
    "mysentence = classname + ' class was really '+ adjectcive + ' today. We learned how to '+ activity + ' today in class. I can\\'t wait for tomorrow\\'s class!'\n",
    "print(mysentence)"
   ]
  },
  {
   "cell_type": "code",
   "execution_count": 94,
   "metadata": {},
   "outputs": [
    {
     "name": "stdout",
     "output_type": "stream",
     "text": [
      "abcdefghijklmnopqrstuvwxyz\n",
      "bcdefghijklmnopqrstuvwxyza\n",
      "cdefghijklmnopqrstuvwxyzab\n",
      "defghijklmnopqrstuvwxyzabc\n",
      "efghijklmnopqrstuvwxyzabcd\n",
      "fghijklmnopqrstuvwxyzabcde\n",
      "ghijklmnopqrstuvwxyzabcdef\n",
      "hijklmnopqrstuvwxyzabcdefg\n",
      "ijklmnopqrstuvwxyzabcdefgh\n",
      "jklmnopqrstuvwxyzabcdefghi\n",
      "klmnopqrstuvwxyzabcdefghij\n",
      "lmnopqrstuvwxyzabcdefghijk\n",
      "mnopqrstuvwxyzabcdefghijkl\n",
      "nopqrstuvwxyzabcdefghijklm\n",
      "opqrstuvwxyzabcdefghijklmn\n",
      "pqrstuvwxyzabcdefghijklmno\n",
      "qrstuvwxyzabcdefghijklmnop\n",
      "rstuvwxyzabcdefghijklmnopq\n",
      "stuvwxyzabcdefghijklmnopqr\n",
      "tuvwxyzabcdefghijklmnopqrs\n",
      "uvwxyzabcdefghijklmnopqrst\n",
      "vwxyzabcdefghijklmnopqrstu\n",
      "wxyzabcdefghijklmnopqrstuv\n",
      "xyzabcdefghijklmnopqrstuvw\n",
      "yzabcdefghijklmnopqrstuvwx\n",
      "zabcdefghijklmnopqrstuvwxy\n"
     ]
    }
   ],
   "source": [
    "# Write a program that generates the 26-line block of letters partially shown below. Use a loop\n",
    "# containing one or two print statements.\n",
    "# abcdefghijklmnopqrstuvwxyz\n",
    "# bcdefghijklmnopqrstuvwxyza\n",
    "# cdefghijklmnopqrstuvwxyzab\n",
    "mystring='abcdefghijklmnopqrstuvwxyz'\n",
    "for i in range(len(mystring)): \n",
    "    print((mystring*2)[i:len(mystring)+i])  "
   ]
  },
  {
   "cell_type": "code",
   "execution_count": 95,
   "metadata": {},
   "outputs": [
    {
     "name": "stdout",
     "output_type": "stream",
     "text": [
      "1\n"
     ]
    }
   ],
   "source": [
    "# The goal of this exercise is to see if you can mimic the behavior of the in operator and the\n",
    "# count and index methods using only variables, for loops, and if statements.\n",
    "# (c) Without using the index method, write a program that asks the user for a string and\n",
    "# a letter and prints out the index of the first occurrence of the letter in the string. If the\n",
    "# letter is not in the string, the program should say so.\n",
    "\n",
    "mystring='paradise'\n",
    "myletter='a'\n",
    "for i in range(len(mystring)): \n",
    "    if mystring[i]==myletter:\n",
    "        print(i)\n",
    "        break"
   ]
  },
  {
   "cell_type": "code",
   "execution_count": 96,
   "metadata": {},
   "outputs": [
    {
     "name": "stdout",
     "output_type": "stream",
     "text": [
      "123,456,789\n"
     ]
    }
   ],
   "source": [
    "# Write a program that asks the user for a large integer and inserts commas into it according\n",
    "# to the standard American convention for commas in large numbers. For instance, if the user\n",
    "# enters 1000000, the output should be 1,000,000.\n",
    "# Convert an integer to american convention for commas in large numbers\n",
    "\n",
    "mystring='123456789'\n",
    "numofsets=len(mystring)//3  #7//3=2 # how many sets of 3s\n",
    "# print(numofsets)\n",
    "modnum=len(mystring)%3 #7%3=1\n",
    "# print(modnum)\n",
    "remain=mystring[modnum:]\n",
    "# print('remain is', remain)\n",
    "cs=[c for c in mystring[:modnum]]\n",
    "cs.append(',')\n",
    "# print(cs)\n",
    "for se in range(numofsets): \n",
    "    c=remain[0:3]\n",
    "    cs.append(c)\n",
    "    cs.append(',')\n",
    "    remain=remain[3:]\n",
    "# print('final cs is', cs)\n",
    "if cs[-1]==',' and cs[0]==',': \n",
    "    ns=cs[1:-1]\n",
    "#     print('first and last are quotes')\n",
    "elif cs[-1]==',': \n",
    "    ns=cs[:-1]\n",
    "#     print('last is quote')\n",
    "elif cs[0]==',': \n",
    "    ns=cs[1:]\n",
    "#     print('first is quote')\n",
    "else:\n",
    "    ns=cs\n",
    "# print(ns)\n",
    "   \n",
    "combined = ''.join(ns)\n",
    "print(combined)"
   ]
  },
  {
   "cell_type": "code",
   "execution_count": 106,
   "metadata": {},
   "outputs": [
    {
     "name": "stdout",
     "output_type": "stream",
     "text": [
      "5\n",
      "3\n",
      "positions are [[0, 3, 6, 9, 12], [1, 4, 7, 10, 13], [2, 5, 8, 11]]\n",
      "sr sgeemsectea\n"
     ]
    }
   ],
   "source": [
    "# A more general version of the above technique is the rail fence cipher, where instead of breaking\n",
    "# things into evens and odds, they are broken up by threes, fours or something larger. For\n",
    "# instance, in the case of threes, the string 'secret message' would be broken into three groups. The\n",
    "# first group is sr sg, the characters at indices 0, 3, 6, 9 and 12. The second group is eemse, the\n",
    "# characters at indices 1, 4, 7, 10, and 13. The last group is ctea, the characters at indices 2, 5, 8,\n",
    "# and 11. The encrypted message is sr sgeemsectea.\n",
    "# (a) Write a program the asks the user for a string and uses the rail fence cipher in the threes\n",
    "# case to encrypt the string.\n",
    "# (b) Write a decryption program for the threes case.\n",
    "# (c) Write a program that asks the user for a string, and an integer determining whether to\n",
    "# break things up by threes, fours, or whatever. Encrypt the string using the rail-fence\n",
    "# cipher.\n",
    "# (d) Write a decryption program for the general case.\n",
    "\n",
    "message = 'secret message'\n",
    "numofsets=3\n",
    "import math\n",
    "num_in_each_set=math.ceil(len(message)/numofsets)\n",
    "print(num_in_each_set)\n",
    "gap=math.ceil(len(message)/num_in_each_set)\n",
    "print(gap)\n",
    "\n",
    "# begin_poss=[i for i in range(0, len(message)-1, num_in_each_set)]\n",
    "# print(begin_poss)\n",
    "\n",
    "positionss=[]\n",
    "for i in range(numofsets): \n",
    "    positions=[j for j in range(0+i, len(message), gap)]\n",
    "    positionss.append(positions)\n",
    "print('positions are', positionss)\n",
    "\n",
    "css=[]\n",
    "for positions in positionss: \n",
    "    cs=[]\n",
    "    for position in positions: \n",
    "        c=(message[position])\n",
    "        cs.append(c)\n",
    "    css.append(''.join(cs))\n",
    "print(''.join(css))\n",
    "\n",
    "# answer is\n",
    "# sr sgeemsectea   "
   ]
  },
  {
   "cell_type": "code",
   "execution_count": 171,
   "metadata": {},
   "outputs": [
    {
     "name": "stdout",
     "output_type": "stream",
     "text": [
      "5*(x-1)+3*y\n"
     ]
    }
   ],
   "source": [
    "# In algebraic expressions, the symbol for multiplication is often left out, as in 3x+4y or 3(x+5).\n",
    "# Computers prefer those expressions to include the multiplication symbol, like 3*x+4*y or\n",
    "# 3*(x+5). Write a program that asks the user for an algebraic expression and then inserts\n",
    "# multiplication symbols where appropriate.\n",
    "\n",
    "alg='3x+4y+5(x+1)+4(y-1)'\n",
    "alg='5(x-1)+3y'\n",
    "\n",
    "vs=[]\n",
    "for v in alg: \n",
    "    if v.isalpha(): \n",
    "        v='*'+v\n",
    "    vs.append(v)\n",
    "alg=(''.join(vs))\n",
    "    \n",
    "if '(*' in alg: \n",
    "    alg=alg.replace('(*', '*(')\n",
    "print(alg)"
   ]
  },
  {
   "cell_type": "markdown",
   "metadata": {},
   "source": [
    "## 7. List"
   ]
  },
  {
   "cell_type": "code",
   "execution_count": 208,
   "metadata": {},
   "outputs": [
    {
     "name": "stdout",
     "output_type": "stream",
     "text": [
      "append x to the list:  ['b', 'a', 'c', 'x']\n",
      "sort the list:  ['a', 'b', 'c', 'x']\n",
      "count how many times x occurs in mylist:  1\n",
      "the location of the first occurrence of x is:  3\n",
      "reversed list is: ['x', 'c', 'b', 'a']\n",
      "removed the FIRST occurrence of x from the list:  ['c', 'b', 'a']\n",
      "remove the item at index p=1 and returns index p's value:  b\n",
      "after the pop, current mylist value is:  ['c', 'a']\n",
      "inserts x at index p=1 of the list,after insert, mylist value is: ['c', 'x', 'a']\n"
     ]
    }
   ],
   "source": [
    "mylist=['b', 'a', 'c']\n",
    "x='x'\n",
    "mylist.append(x)  # adds an item to the end of a list / end of the list\n",
    "print('append x to the list: ', mylist)\n",
    "mylist.sort()  # sort the list \n",
    "print('sort the list: ', mylist)\n",
    "mylist.count(x) #returns the number of times x occurs in the list\n",
    "print('count how many times x occurs in mylist: ', mylist.count(x))\n",
    "mylist.index(x) # returns the location of the first occurrence of x\n",
    "print('the location of the first occurrence of x is: ', mylist.index(x))\n",
    "mylist.reverse() # reverse the list\n",
    "print('reversed list is:', mylist)\n",
    "mylist.remove(x) # remove the FIRST occurrence of x from the list\n",
    "print('removed the FIRST occurrence of x from the list: ', mylist)\n",
    "p=1\n",
    "# print(mylist.pop(p)) \n",
    "# remove the item at index p and returns index p's value\n",
    "print(\"remove the item at index p=1 and returns index p's value: \",mylist.pop(p))\n",
    "print('after the pop, current mylist value is: ', mylist)\n",
    "mylist.insert(p, x) #inserts x at index p of the list\n",
    "print('inserts x at index p=1 of the list,after insert, mylist value is:', mylist)"
   ]
  },
  {
   "cell_type": "code",
   "execution_count": 361,
   "metadata": {},
   "outputs": [
    {
     "name": "stdout",
     "output_type": "stream",
     "text": [
      "number of 5s in the list:  2\n",
      "[1, 1.3, 1.5, 3, 5, 5, 7, 9]\n",
      "how many integers are less than 5:  2\n",
      "how many integers are less than 5:  2\n"
     ]
    },
    {
     "data": {
      "text/plain": [
       "True"
      ]
     },
     "execution_count": 361,
     "metadata": {},
     "output_type": "execute_result"
    }
   ],
   "source": [
    "# Write a program that asks the user to enter a list of integers. Do the following:\n",
    "# (e) Print the number of fives in the list.\n",
    "# (f) Remove the first and last items from the list, sort the remaining items, and print the\n",
    "# result.\n",
    "# (g) Print how many integers in the list are less than 5.\n",
    "mylist=[9, 1, 1.3, 1.5, 9, 3, 5, 5, 7, 7]\n",
    "#e\n",
    "print('number of 5s in the list: ', mylist.count(5))\n",
    "\n",
    "#f\n",
    "mylist.pop(0)\n",
    "mylist.pop(-1)\n",
    "mylist.sort()\n",
    "print(mylist)\n",
    "\n",
    "#g\n",
    "mylist=[9, 1, 1.3, 1.5, 9, 3, 5, 5, 7, 7]\n",
    "print('how many integers are less than 5: ', [i<5 and isinstance(i, int) for i in mylist].count(True))\n",
    "print('how many integers are less than 5: ', len([i for i in mylist if i<5 and isinstance(i, int)])) \n",
    "\n",
    "#check to see if an item is an integer: \n",
    "isinstance(5, int)"
   ]
  },
  {
   "cell_type": "code",
   "execution_count": 287,
   "metadata": {},
   "outputs": [
    {
     "name": "stdout",
     "output_type": "stream",
     "text": [
      "[0.0267, 0.05507, 0.08271, 0.10915, 0.14014, 0.16732, 0.13978, 0.11178, 0.08359, 0.05565, 0.02811]\n"
     ]
    },
    {
     "data": {
      "text/plain": [
       "[<matplotlib.lines.Line2D at 0x2a5ea7594e0>]"
      ]
     },
     "execution_count": 287,
     "metadata": {},
     "output_type": "execute_result"
    },
    {
     "data": {
      "image/png": "[encoded data removed]",
      "text/plain": [
       "<Figure size 432x288 with 1 Axes>"
      ]
     },
     "metadata": {
      "needs_background": "light"
     },
     "output_type": "display_data"
    }
   ],
   "source": [
    "# When playing games where you have to roll two dice, it is nice to know the odds of each\n",
    "# roll. To do this, your program should simulate rolling two dice about 10,000\n",
    "# times and compute and print out the percentage of rolls that come out to be 2, 3, 4, . . . , 12.\n",
    "from random import randint\n",
    "results=[]\n",
    "for i in range(100000):\n",
    "    dice1, dice2 = randint(1,6), randint(1,6)\n",
    "    result = dice1+dice2\n",
    "    results.append(result)\n",
    "# print(results)\n",
    "\n",
    "prob2=results.count(2)/len(results)\n",
    "prob3=results.count(3)/len(results)\n",
    "prob4=results.count(4)/len(results)\n",
    "prob5=results.count(5)/len(results)\n",
    "prob6=results.count(6)/len(results)\n",
    "prob7=results.count(7)/len(results)\n",
    "prob8=results.count(8)/len(results)\n",
    "prob9=results.count(9)/len(results)\n",
    "prob10=results.count(10)/len(results)\n",
    "prob11=results.count(11)/len(results)\n",
    "prob12=results.count(12)/len(results)\n",
    "resultlist = [prob2, prob3, prob4, prob5, prob6, prob7, prob8, prob9, prob10, prob11, prob12]\n",
    "print(resultlist)\n",
    "from matplotlib import pyplot as plt\n",
    "plt.plot([i for i in range(2, 13)], resultlist)"
   ]
  },
  {
   "cell_type": "code",
   "execution_count": 304,
   "metadata": {},
   "outputs": [
    {
     "name": "stdout",
     "output_type": "stream",
     "text": [
      "[0, 2, 3, 8]\n",
      "[1, 0, 4]\n",
      "4\n"
     ]
    }
   ],
   "source": [
    "# Write a program that generates 100 random integers that are either 0 or 1. Then find the\n",
    "# longest run of zeros, the largest number of zeros in a row. For instance, the longest run of\n",
    "# zeros in [1,0,1,1,0,0,0,0,1,0,0] is 4.\n",
    "mylist=[1,0,1,1,0,0,0,0,1,0,0]\n",
    "oneposs=[]\n",
    "for i, v in enumerate(mylist): \n",
    "    if v==1: \n",
    "        oneposs.append(i)\n",
    "print(oneposs)\n",
    "# print('length of oneposs is ', len(oneposs))\n",
    "gaps=[]\n",
    "for i in range(len(oneposs)): \n",
    "    if i<len(oneposs)-1: \n",
    "        gap=oneposs[i+1]-oneposs[i]-1\n",
    "        gaps.append(gap)\n",
    "print(gaps)\n",
    "print(max(gaps))"
   ]
  },
  {
   "cell_type": "code",
   "execution_count": 308,
   "metadata": {},
   "outputs": [
    {
     "name": "stdout",
     "output_type": "stream",
     "text": [
      "[1, 2, 3, 4, 0]\n"
     ]
    }
   ],
   "source": [
    "# Write a program that removes any repeated items from a list so that each item appears at most\n",
    "# once. For instance, the list [1,1,2,3,4,3,0,0] would become [1,2,3,4,0].\n",
    "mylist = [1,1,2,3,4,3,0,0]\n",
    "shrinklist = [mylist[0]]\n",
    "for v in mylist: \n",
    "    if v in shrinklist: \n",
    "        pass\n",
    "    else: \n",
    "        shrinklist.append(v)\n",
    "print(shrinklist)"
   ]
  },
  {
   "cell_type": "markdown",
   "metadata": {},
   "source": [
    "## 8. More with Lists"
   ]
  },
  {
   "cell_type": "code",
   "execution_count": 316,
   "metadata": {},
   "outputs": [
    {
     "name": "stdout",
     "output_type": "stream",
     "text": [
      "picks a random item from a list:  3\n",
      "picks a group of n random items from a list: [4, 3, 3, 0]\n",
      "shuffles the list [3, 2, 3, 4, 0, 1, 1, 0]\n"
     ]
    }
   ],
   "source": [
    "mylist = [1,1,2,3,4,3,0,0]\n",
    "\n",
    "from random import choice\n",
    "print('picks a random item from a list: ', choice(mylist)) # picks a random item from a list\n",
    "\n",
    "from random import sample\n",
    "print('picks a group of n random items from a list:', sample(mylist, 4)) #picks a group of n random items from a list\n",
    "\n",
    "from random import shuffle\n",
    "shuffle(mylist)\n",
    "print('shuffles the list', mylist) #shuffles the list"
   ]
  },
  {
   "cell_type": "code",
   "execution_count": 340,
   "metadata": {},
   "outputs": [
    {
     "name": "stdout",
     "output_type": "stream",
     "text": [
      "[['a', 'Bob', 'Sally'], ['b', 'Joe', 'Sue']]\n"
     ]
    }
   ],
   "source": [
    "# to randomly create three-item groups\n",
    "from random import shuffle\n",
    "players = ['Joe', 'Bob', 'Sue', 'Sally', 'a', 'b']\n",
    "shuffle(players)\n",
    "teams=[]\n",
    "for i in range(0, len(players), 3): \n",
    "    teams.append([players[i], players[i+1], players[i+2]])\n",
    "print(teams)"
   ]
  },
  {
   "cell_type": "code",
   "execution_count": 350,
   "metadata": {},
   "outputs": [
    {
     "name": "stdout",
     "output_type": "stream",
     "text": [
      "7801234567\n"
     ]
    }
   ],
   "source": [
    "# Remove all punctuation / remove all special characters in a string\n",
    "s = 'Hi! This is a test.'\n",
    "s = '(789)123-4567'\n",
    "from string import punctuation\n",
    "for c in punctuation: \n",
    "    s = s.replace(c, '')\n",
    "print(s)"
   ]
  },
  {
   "cell_type": "code",
   "execution_count": 353,
   "metadata": {},
   "outputs": [
    {
     "name": "stdout",
     "output_type": "stream",
     "text": [
      "[[0, 0], [0, 1], [1, 0], [1, 1]]\n",
      "[[0, 0], [1, 1], [2, 2], [3, 3]]\n"
     ]
    }
   ],
   "source": [
    "L=[[i,j] for i in range(2) for j in range(2)]\n",
    "print(L)\n",
    "\n",
    "L = [[i,i] for i in range(4)]\n",
    "print(L)"
   ]
  },
  {
   "cell_type": "code",
   "execution_count": 384,
   "metadata": {},
   "outputs": [
    {
     "name": "stdout",
     "output_type": "stream",
     "text": [
      "1 2 3 \n",
      "4 5 6 \n",
      "7 8 9 \n",
      "[[1, 2, 3], [4, 5, 6], [7, 8, 9]]\n",
      "4\n",
      "[[0, 0, 0, 0, 0], [0, 0, 0, 0, 0], [0, 0, 0, 0, 0]]\n",
      "[3, 6, 9]\n"
     ]
    }
   ],
   "source": [
    "L = [[1,2,3],\n",
    "    [4,5,6],\n",
    "    [7,8,9]]\n",
    "for r in range(3):\n",
    "    for c in range(3):\n",
    "        print(L[r][c], end=\" \")\n",
    "    print()\n",
    "    \n",
    "from pprint import pprint\n",
    "pprint(L)\n",
    "\n",
    "count = sum([1 for r in range(3) for c in range(3) if L[r][c]%2==0])\n",
    "print(count)\n",
    "\n",
    "L = [[0]*5 for i in range(3)] # create a 3x5 matrix\n",
    "print(L)\n",
    "\n",
    "# To get the cth column of matrix\n",
    "L = [[1,2,3],\n",
    "    [4,5,6],\n",
    "    [7,8,9]]\n",
    "c=2\n",
    "print([L[i][c] for i in range(len(L))])\n"
   ]
  },
  {
   "cell_type": "code",
   "execution_count": 386,
   "metadata": {},
   "outputs": [
    {
     "name": "stdout",
     "output_type": "stream",
     "text": [
      "[1, 2, 3, 4, 5, 6, 7, 8, 9]\n"
     ]
    }
   ],
   "source": [
    "# to flatten a list\n",
    "L = [[1,2,3],\n",
    "    [4,5,6],\n",
    "    [7,8,9]]\n",
    "newlist = [item for sublist in L for item in sublist]\n",
    "print(newlist)"
   ]
  },
  {
   "cell_type": "code",
   "execution_count": 412,
   "metadata": {},
   "outputs": [
    {
     "name": "stdout",
     "output_type": "stream",
     "text": [
      "['i', 'know', 'youre', 'out', 'there', 'i', 'can', 'feel', 'you', 'now', 'i', 'know', 'that', 'youre', 'afraid', '\\nyoure', 'afraid', 'of', 'us', 'youre', 'afraid', 'of', 'change', 'i', 'dont', 'know', 'the', 'future', '\\ni', 'didnt', 'come', 'here', 'to', 'tell', 'you', 'how', 'this', 'is', 'going', 'to', 'end', 'i', 'came', 'here', 'to', 'tell', 'you', 'how', 'its', 'going', 'to', 'begin', '\\nim', 'going', 'to', 'hang', 'up', 'this', 'phone', 'and', 'then', 'im', 'going', 'to', 'show', 'these', 'people', 'what', 'you', 'dont', 'want', 'them', 'to', 'see', '\\nim', 'going', 'to', 'show', 'them', 'a', 'world', 'without', 'you', 'a', 'world', 'without', 'rules', 'and', 'controls', 'without', 'borders', 'or', 'boundaries', '\\na', 'world', 'where', 'anything', 'is', 'possible', 'where', 'we', 'go', 'from', 'there', 'is', 'a', 'choice', 'i', 'leave', 'to', 'you']\n",
      "out\n",
      "i, out, can, now, that, \n",
      "youre, us, of, dont, future, come, tell, this, to, came, tell, its, begin, to, this, then, to, people, dont, to, going, them, without, world, and, borders, \n",
      "a, anything, where, from, a, leave, \n",
      "\n",
      "----------Randomly rearrange the words of the sentence----------\n",
      "['see.', 'came', 'you', 'you', 'going', '\\nA', 'out', 'afraid', 'to', 'begin.', 'a', 'going', 'them', 'how', 'here', 'know', 'end.', 'a', 'going', 'you.', 'come', 'A', \"\\nI'm\", 'then', 'borders', 'going', \"\\nyou're\", 'want', 'feel', 'possible.', 'to', 'tell', 'anything', 'where', 'this', 'of', 'you', 'of', 'to', 'world', 'is', \"I'm\", 'and', \"don't\", 'afraid', 'show', 'is', 'choice', 'to', 'show', 'them', 'and', 'to', 'I', 'controls,', 'I', 'you', 'change.', 'now.', \"You're\", 'or', 'without', 'boundaries.', 'we', 'here', 'rules', \"didn't\", 'world', 'to', 'without', 'what', 'Where', 'can', \"you're\", 'you.', 'going', 'us.', 'I', 'know', 'that', 'is', 'tell', 'I', 'future.', 'how', \"you're\", 'world', 'these', \"don't\", '\\nI', 'up', 'the', 'phone,', 'this', 'to', 'I', \"it's\", 'there', 'to', 'hang', 'there.', 'I', 'without', \"\\nI'm\", 'leave', 'people', 'afraid...', 'know', 'to', 'from', 'go']\n"
     ]
    }
   ],
   "source": [
    "# (a) Ask the user to enter a sentence and print out the third word of the sentence.\n",
    "# (b) Ask the user to enter a sentence and print out every third word of the sentence.\n",
    "myline= \"\"\"I know you're out there. I can feel you now. I know that you're afraid... \n",
    "you're afraid of us. You're afraid of change. I don't know the future. \n",
    "I didn't come here to tell you how this is going to end. I came here to tell you how it's going to begin. \n",
    "I'm going to hang up this phone, and then I'm going to show these people what you don't want them to see. \n",
    "I'm going to show them a world without you. A world without rules and controls, without borders or boundaries. \n",
    "A world where anything is possible. Where we go from there is a choice I leave to you.\"\"\"\n",
    "\n",
    "from string import punctuation\n",
    "for c in punctuation: \n",
    "    myline = myline.lower().replace(c, '')\n",
    "mylist = myline.split(' ')\n",
    "print(mylist)\n",
    "print(mylist[3])\n",
    "for i in range(0,len(mylist),3): \n",
    "    print(mylist[i], end=', ')\n",
    "    \n",
    "# Randomly rearranges the words of the sentence. \n",
    "print('\\n\\n----------Randomly rearrange the words of the sentence----------')\n",
    "myline= \"\"\"I know you're out there. I can feel you now. I know that you're afraid... \n",
    "you're afraid of us. You're afraid of change. I don't know the future. \n",
    "I didn't come here to tell you how this is going to end. I came here to tell you how it's going to begin. \n",
    "I'm going to hang up this phone, and then I'm going to show these people what you don't want them to see. \n",
    "I'm going to show them a world without you. A world without rules and controls, without borders or boundaries. \n",
    "A world where anything is possible. Where we go from there is a choice I leave to you.\"\"\"\n",
    "mylist = myline.split(' ')\n",
    "from random import shuffle\n",
    "shuffle(mylist)\n",
    "print(mylist)"
   ]
  },
  {
   "cell_type": "code",
   "execution_count": 420,
   "metadata": {},
   "outputs": [
    {
     "name": "stdout",
     "output_type": "stream",
     "text": [
      "[8, 41, 22, 25, 37, 41]\n"
     ]
    }
   ],
   "source": [
    "# Write a simple lottery drawing program for 6/49\n",
    "from random import shuffle, randint\n",
    "shulist=shuffle(list(range(1,49)))\n",
    "poss=[]\n",
    "for i in range(6): \n",
    "    pos = randint(1,49)\n",
    "    poss.append(pos)\n",
    "winnums=[]\n",
    "for i in poss: \n",
    "    winnum=list(range(1,49))[i]            \n",
    "    winnums.append(winnum)\n",
    "print(winnums) "
   ]
  },
  {
   "cell_type": "code",
   "execution_count": 514,
   "metadata": {},
   "outputs": [
    {
     "name": "stdout",
     "output_type": "stream",
     "text": [
      "['331', '447', '5820']\n",
      "ok\n"
     ]
    }
   ],
   "source": [
    "# Write a program that gets a string from the user containing a potential telephone number.\n",
    "# The program should print Valid if it decides the phone number is a real phone number, and\n",
    "# Invalid otherwise. A phone number is considered valid as long as it is written in the form\n",
    "# abc-def-hijk or 1-abc-def-hijk. The dashes must be included, the phone number should contain\n",
    "# only numbers and dashes, and the number of digits in each group must be correct. Test your\n",
    "# program with the output shown below.\n",
    "\n",
    "entry='1-331-447-5820'\n",
    "allnum=entry.split('-')\n",
    "if len(allnum)==4: \n",
    "    allnum.remove(allnum[0])\n",
    "print(allnum)\n",
    "def checkalpha(allnum): \n",
    "    for i in allnum: \n",
    "        for j in i: \n",
    "            if j.isalpha()==True: \n",
    "                return ( 'contains alphabet')\n",
    "                break\n",
    "            else: \n",
    "                return ('ok')\n",
    "def precheck(allnum): \n",
    "    if checkalpha(allnum)=='ok': \n",
    "        for i in allnum: \n",
    "            if ceil(float(i))==floor(float(i)): \n",
    "                return ( 'ok')\n",
    "            else: \n",
    "                return ('contains decimal')\n",
    "                break\n",
    "# print('precheck result: ', precheck(allnum))\n",
    "\n",
    "if precheck(allnum)=='ok':  \n",
    "    allnum=[int(i) for i in allnum]\n",
    "    if 100<=allnum[0]<=999 and 100<=allnum[1]<=999 and 1000<=allnum[2]<=9999: \n",
    "        print('ok')\n",
    "    else: \n",
    "        print('something is wrong')"
   ]
  },
  {
   "cell_type": "code",
   "execution_count": 523,
   "metadata": {},
   "outputs": [
    {
     "name": "stdout",
     "output_type": "stream",
     "text": [
      "2.875\n",
      "4\n",
      "[3, 3, 3, 3]\n"
     ]
    }
   ],
   "source": [
    "# Write a program that finds the average of all of the entries in a 4 x 4 list of integers.\n",
    "mylist = [[1,2,3,4],[2,2,3,4], [3,2,3,4], [4,2,3,4]]\n",
    "newlist = [item for sublist in mylist for item in sublist]\n",
    "def mean(alist): \n",
    "    return sum(alist)/len(alist)\n",
    "print(mean(newlist))\n",
    "print(max(mylist[2]))\n",
    "# find the values in the 3rd column\n",
    "print([mylist[i][2] for i in range(len(mylist))])"
   ]
  },
  {
   "cell_type": "code",
   "execution_count": 538,
   "metadata": {},
   "outputs": [
    {
     "name": "stdout",
     "output_type": "stream",
     "text": [
      "[[1, 1, 1, 1, 0], [0, 0, 1, 1, 1], [1, 1, 0, 0, 0], [0, 0, 1, 0, 1], [1, 1, 1, 1, 1]]\n",
      "[1, 1, 1, 1, 0, 0, 0, 1, 1, 1, 1, 1, 0, 0, 0, 0, 0, 1, 0, 1, 1, 1, 1, 1, 1]\n",
      "[[1, 1, 1, 1, 0], [0, 0, 1, 1, 1], [1, 1, 0, 0, 1], [0, 0, 1, 0, 1], [1, 1, 1, 1, 1]]\n"
     ]
    }
   ],
   "source": [
    "# The following is useful in implementing computer players in a number of different games.\n",
    "# Write a program that creates a 5 x 5 list consisting of zeroes and ones. Your program should\n",
    "# then pick a random location in the list that contains a zero and change it to a one. If all the\n",
    "# entries are one, the program should say so. [Hint: one way to do this is to create a new list\n",
    "# whose items are the coordinates of all the ones in the list and use the choice method to\n",
    "# randomly select one. Use a two-element list to represent a set of coordinates.]\n",
    "\n",
    "j_s=[]\n",
    "for j in range(5): \n",
    "    i_s=[]\n",
    "    for i in range(5): \n",
    "        i=randint(0,1)\n",
    "        i_s.append(i)\n",
    "    j_s.append(i_s)\n",
    "print(j_s)\n",
    "\n",
    "flatlist = [item for subset in j_s for item in subset]\n",
    "print(flatlist)\n",
    "if sum(flatlist)==25: \n",
    "    print('all items are ones')\n",
    "else: \n",
    "    for v in list(range(25)): \n",
    "        i, j = randint(0,4), randint(0,4)\n",
    "#         print(i,j)\n",
    "#         print(j_s[i][j])\n",
    "        if j_s[i][j]==0: \n",
    "#             print('it is zero, now change to one')\n",
    "            j_s[i][j]=1\n",
    "            break\n",
    "print(j_s)\n",
    "        "
   ]
  },
  {
   "cell_type": "markdown",
   "metadata": {},
   "source": [
    "## 9. While"
   ]
  },
  {
   "cell_type": "code",
   "execution_count": 550,
   "metadata": {},
   "outputs": [
    {
     "name": "stdout",
     "output_type": "stream",
     "text": [
      "enter a num: -1000\n",
      "bye\n"
     ]
    }
   ],
   "source": [
    "while True: \n",
    "    temp = eval(input('enter a num: '))\n",
    "    if temp ==-1000: \n",
    "        print('bye')\n",
    "        break\n",
    "    print('converted temp is ',temp*9/5+32 )"
   ]
  },
  {
   "cell_type": "code",
   "execution_count": 546,
   "metadata": {},
   "outputs": [
    {
     "name": "stdout",
     "output_type": "stream",
     "text": [
      "3.141592653589793\n"
     ]
    }
   ],
   "source": [
    "# find the prime numbers from 0 to 10\n",
    "if "
   ]
  }
 ],
 "metadata": {
  "kernelspec": {
   "display_name": "Python 3",
   "language": "python",
   "name": "python3"
  },
  "language_info": {
   "codemirror_mode": {
    "name": "ipython",
    "version": 3
   },
   "file_extension": ".py",
   "mimetype": "text/x-python",
   "name": "python",
   "nbconvert_exporter": "python",
   "pygments_lexer": "ipython3",
   "version": "3.6.8"
  }
 },
 "nbformat": 4,
 "nbformat_minor": 2
}
