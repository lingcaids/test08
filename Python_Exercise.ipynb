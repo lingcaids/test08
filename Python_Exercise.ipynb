{
 "cells": [
  {
   "cell_type": "markdown",
   "metadata": {},
   "source": [
    "# Python Exercise"
   ]
  },
  {
   "cell_type": "markdown",
   "metadata": {},
   "source": [
    "## 1. Input\n"
   ]
  },
  {
   "cell_type": "code",
   "execution_count": 247,
   "metadata": {},
   "outputs": [],
   "source": [
    "import math\n",
    "from math import *\n",
    "from matplotlib import pyplot as plt\n",
    "from random import *\n"
   ]
  },
  {
   "cell_type": "code",
   "execution_count": 248,
   "metadata": {},
   "outputs": [
    {
     "ename": "SyntaxError",
     "evalue": "invalid syntax (<ipython-input-248-6d9eab128aab>, line 3)",
     "output_type": "error",
     "traceback": [
      "\u001b[1;36m  File \u001b[1;32m\"<ipython-input-248-6d9eab128aab>\"\u001b[1;36m, line \u001b[1;32m3\u001b[0m\n\u001b[1;33m    .\u001b[0m\n\u001b[1;37m    ^\u001b[0m\n\u001b[1;31mSyntaxError\u001b[0m\u001b[1;31m:\u001b[0m invalid syntax\n"
     ]
    }
   ],
   "source": [
    "# Write a program that asks the user for their name and how many times to print it. The program\n",
    "# should print out the user’s name the specified number of times.\n",
    ".\n",
    "# uncomment below\n",
    "# num = eval(input('Enter a number then hit ENTER: '))\n",
    "num=3\n",
    "print('Your number squared:', num*num)\n",
    "\n",
    "# input multiple values all at once: \n",
    "# uncomment below\n",
    "# x, y, z = input (\"Enter three scores separated by a comma:\").split(\",\")\n",
    "x, y, z = 1, 2, 3\n",
    "print('You entered three values: ', x, y, z)\n",
    "\n",
    "# input multiple numbers as a list\n",
    "# uncomment below\n",
    "# mylist = [eval(x) for x in input('enter 3 numbers separated by comma and hit ENTER ').split(',')]\n",
    "mylist=[1,2,3]\n",
    "print(mylist)"
   ]
  },
  {
   "cell_type": "code",
   "execution_count": 249,
   "metadata": {},
   "outputs": [
    {
     "name": "stdout",
     "output_type": "stream",
     "text": [
      "alice\n",
      "alice\n",
      "alice\n"
     ]
    }
   ],
   "source": [
    "# Write a program that asks the user for their name and how many times to print it. The program\n",
    "# should print out the user’s name the specified number of times.\n",
    "\n",
    "# uncomment below\n",
    "# username=input('Please enter your name and hit EHTER: ')\n",
    "username='alice'\n",
    "# times = eval(input('How many times to print, then hit NETER: '))\n",
    "times=3\n",
    "\n",
    "for num in range(times): \n",
    "    print(username)"
   ]
  },
  {
   "cell_type": "markdown",
   "metadata": {},
   "source": [
    "## 2. For Loops"
   ]
  },
  {
   "cell_type": "code",
   "execution_count": 250,
   "metadata": {},
   "outputs": [
    {
     "name": "stdout",
     "output_type": "stream",
     "text": [
      "alice\n",
      "alice\n",
      "alice\n"
     ]
    }
   ],
   "source": [
    "# Print your name 3 times.\n",
    "name = 'alice'\n",
    "for i in range(3): \n",
    "    print(name)"
   ]
  },
  {
   "cell_type": "code",
   "execution_count": 251,
   "metadata": {},
   "outputs": [
    {
     "name": "stdout",
     "output_type": "stream",
     "text": [
      "alicealicealicealicealicealicealicealicealicealicealicealicealicealicealicealicealicealicealicealicealicealicealicealicealicealicealicealicealicealicealicealicealicealicealice"
     ]
    }
   ],
   "source": [
    "# Print your name to fill the screen\n",
    "for i in range(35): \n",
    "    print(name, end='')"
   ]
  },
  {
   "cell_type": "code",
   "execution_count": 252,
   "metadata": {},
   "outputs": [
    {
     "name": "stdout",
     "output_type": "stream",
     "text": [
      "8, 11, 14, 17, 20, 23, 26, 29, 32, 35, 38, 41, 44, 47, 50, 53, 56, 59, 62, 65, 68, 71, 74, 77, 80, 83, 86, 89, \n",
      "\n",
      "100, 98, 96, 94, 92, 90, 88, 86, 84, 82, 80, 78, 76, 74, 72, 70, 68, 66, 64, 62, 60, 58, 56, 54, 52, 50, 48, 46, 44, 42, 40, 38, 36, 34, 32, 30, 28, 26, 24, 22, 20, 18, 16, 14, 12, 10, 8, 6, 4, 2, "
     ]
    }
   ],
   "source": [
    "# Write a program that uses a for loop to print the numbers 8, 11, 14, 17, 20, . . . , 83, 86, 89.\n",
    "for i in range(1000): \n",
    "    if 8+i*3<=89: \n",
    "        print(8+i*3,end=', ')\n",
    "print('\\n')\n",
    "\n",
    "# Write a program that uses a for loop to print the numbers 100, 98, 96, . . . , 4, 2.\n",
    "for i in range(1000): \n",
    "    if 100-i*2>0: \n",
    "        print(100-i*2, end=', ')"
   ]
  },
  {
   "cell_type": "code",
   "execution_count": 253,
   "metadata": {},
   "outputs": [
    {
     "name": "stdout",
     "output_type": "stream",
     "text": [
      "AAAABBBBCCCCDDDDEEEEFFFFGGGG"
     ]
    }
   ],
   "source": [
    "# Write a program that uses exactly four for loops to print the sequence of letters below.\n",
    "word = 'ABCDEFG'\n",
    "for letter in word: \n",
    "    print(letter*4, end='')"
   ]
  },
  {
   "cell_type": "code",
   "execution_count": 254,
   "metadata": {},
   "outputs": [
    {
     "name": "stdout",
     "output_type": "stream",
     "text": [
      "0, 1, 1, 2, "
     ]
    }
   ],
   "source": [
    "# The Fibonacci numbers are the sequence below, where the first two numbers are 1, and each\n",
    "# number thereafter is the sum of the two preceding numbers. Write a program that asks the\n",
    "# user how many Fibonacci numbers to print and then prints that many.\n",
    "# 1, 1, 2, 3, 5, 8, 13, 21, 34, 55, 89 . .\n",
    "# F0=0, F1=1 AND, for n>1, Fn = Fn-1 + Fn-2\n",
    "\n",
    "# Program to display the Fibonacci sequence up to n-th term where n is provided by the user\n",
    "def fib(n): \n",
    "    if n==1:\n",
    "        return 0\n",
    "    elif n==2: \n",
    "        return 1\n",
    "    else: \n",
    "        fn_2, fn_1 = 0, 1\n",
    "        for i in range(2, n): \n",
    "            fn=fn_1+fn_2\n",
    "            fn_2=fn_1\n",
    "            fn_1=fn\n",
    "        return fn\n",
    "\n",
    "# num=eval(input('how many numbers to print: '))\n",
    "num=4\n",
    "for m in range(1, num+1): \n",
    "    print(fib(m),end=', ')\n"
   ]
  },
  {
   "cell_type": "code",
   "execution_count": 255,
   "metadata": {},
   "outputs": [
    {
     "name": "stdout",
     "output_type": "stream",
     "text": [
      "****\n",
      "****\n",
      "****\n"
     ]
    }
   ],
   "source": [
    "# num_col=eval(input('how many columes to print: '))\n",
    "num_col=4\n",
    "# num_row=eval(input('how many rows to print: '))\n",
    "num_row=3\n",
    "for i in range(1, num_row+1): \n",
    "    print('*'*num_col)"
   ]
  },
  {
   "cell_type": "code",
   "execution_count": 256,
   "metadata": {},
   "outputs": [
    {
     "name": "stdout",
     "output_type": "stream",
     "text": [
      "****\n",
      "*  *\n",
      "****\n"
     ]
    }
   ],
   "source": [
    "# num_col=eval(input('how many columes to print: '))\n",
    "# num_row=eval(input('how many rows to print: '))\n",
    "num_col=4\n",
    "num_row=3\n",
    "print('*'*num_col)\n",
    "for i in range(2, num_row):\n",
    "    print('*',' '*(num_col-4), '*')\n",
    "print('*'*num_col)\n",
    "    "
   ]
  },
  {
   "cell_type": "code",
   "execution_count": 257,
   "metadata": {},
   "outputs": [
    {
     "name": "stdout",
     "output_type": "stream",
     "text": [
      "*\n",
      "**\n",
      "***\n"
     ]
    }
   ],
   "source": [
    "# Use a for loop to print a triangle. Allow the user to specify how high the triangle should be.\n",
    "# n=eval(input('how many columes to print: '))\n",
    "n=3\n",
    "for i in range(1, n+1): \n",
    "    print('*'*i)"
   ]
  },
  {
   "cell_type": "code",
   "execution_count": 258,
   "metadata": {},
   "outputs": [
    {
     "name": "stdout",
     "output_type": "stream",
     "text": [
      "****\n",
      "***\n",
      "**\n",
      "*\n"
     ]
    }
   ],
   "source": [
    "# Use a for loop to print an upside down triangle. Allow the user to specify how high the triangle should be.\n",
    "# n=eval(input('how many columes to print: '))\n",
    "n=4\n",
    "for i in range(-n,0): \n",
    "    print('*'*(-i))"
   ]
  },
  {
   "cell_type": "markdown",
   "metadata": {},
   "source": [
    "## 3. Math"
   ]
  },
  {
   "cell_type": "code",
   "execution_count": 259,
   "metadata": {},
   "outputs": [
    {
     "name": "stdout",
     "output_type": "stream",
     "text": [
      "8%5 =  3\n",
      "8//5 =  1\n"
     ]
    }
   ],
   "source": [
    "# % means remainder. i.e. 8%5=3\n",
    "# // means integer division. i.e. 8//5=1\n",
    "print('8%5 = ', 8%5)\n",
    "print('8//5 = ', 8//5)"
   ]
  },
  {
   "cell_type": "code",
   "execution_count": 260,
   "metadata": {},
   "outputs": [
    {
     "name": "stdout",
     "output_type": "stream",
     "text": [
      "45,49,39,33,35,58,36,36,54,44,"
     ]
    }
   ],
   "source": [
    "# Write a program that generates and print 10 random integers, each between 30 and 60.\n",
    "from random import randint\n",
    "for i in range(10): \n",
    "    print(randint(30,60), end=',')\n"
   ]
  },
  {
   "cell_type": "markdown",
   "metadata": {},
   "source": [
    "## 4. If Statement"
   ]
  },
  {
   "cell_type": "markdown",
   "metadata": {},
   "source": [
    "## 5. Miscellaneous Topics\n"
   ]
  },
  {
   "cell_type": "code",
   "execution_count": 261,
   "metadata": {},
   "outputs": [
    {
     "name": "stdout",
     "output_type": "stream",
     "text": [
      "5\n"
     ]
    }
   ],
   "source": [
    "# Write a program to compute the sum 1 􀀀 2 + 3 􀀀 4 + ... + 9\n",
    "total_n=0\n",
    "for i in range(1, 10): \n",
    "    if i%2==0: \n",
    "        i_new =-i\n",
    "    else: \n",
    "        i_new=i\n",
    "    total_n+=i_new\n",
    "print(total_n)"
   ]
  },
  {
   "cell_type": "code",
   "execution_count": 262,
   "metadata": {},
   "outputs": [
    {
     "name": "stdout",
     "output_type": "stream",
     "text": [
      "[1, 2, 4, 7, 14]\n",
      "28\n",
      "28\n"
     ]
    }
   ],
   "source": [
    "# Write a program that asks the user to enter a number and prints the sum of the divisors of\n",
    "# that number. The sum of the divisors of a number is an important function in number theory.\n",
    "n=28\n",
    "divisors=[]\n",
    "for i in range(1, n): \n",
    "    if n%i==0: \n",
    "        divisors.append(i)\n",
    "print(divisors)\n",
    "print(sum(divisors))\n",
    "\n",
    "# or the following: \n",
    "total =0\n",
    "for i in range(1, n): \n",
    "    if n%i==0: \n",
    "        total+=i\n",
    "print(total)"
   ]
  },
  {
   "cell_type": "code",
   "execution_count": 263,
   "metadata": {},
   "outputs": [
    {
     "name": "stdout",
     "output_type": "stream",
     "text": [
      "6 6\n",
      "28 28\n",
      "496 496\n",
      "8128 8128\n"
     ]
    }
   ],
   "source": [
    "# A number is called a perfect number if it is equal to the sum of all of its divisors, not including\n",
    "# the number itself. For instance, 6 is a perfect number because the divisors of 6 are 1, 2, 3, 6\n",
    "# and 6 = 1 + 2 + 3. As another example, 28 is a perfect number because its divisors are 1, 2, 4,\n",
    "# 7, 14, 28 and 28 = 1 + 2 + 4 + 7 + 14. Write a program that finds all four of the perfect numbers\n",
    "# that are less than 10000.\n",
    "def divisor_total(n): \n",
    "    total = 0\n",
    "    for i in range(1, n): \n",
    "        if n%i==0: \n",
    "            total+=i\n",
    "    return (total)\n",
    "\n",
    "for i in range(1, 10000): \n",
    "    if i==divisor_total(i): \n",
    "        print(i, divisor_total(i))"
   ]
  },
  {
   "cell_type": "code",
   "execution_count": 264,
   "metadata": {},
   "outputs": [
    {
     "name": "stdout",
     "output_type": "stream",
     "text": [
      "[2, 3, 6, 7, 14, 21]\n",
      "42 is a square free number\n",
      "6\n"
     ]
    }
   ],
   "source": [
    "# An integer is called squarefree if it is not divisible by any perfect squares other than 1. For\n",
    "# instance, 42 is squarefree because its divisors are 1, 2, 3, 6, 7, 21, and 42, and none of those\n",
    "# numbers (except 1) is a perfect square. On the other hand, 45 is not squarefree because it is\n",
    "# divisible by 9, which is a perfect square.Write a program that asks the user for an integer and\n",
    "# tells them if it is squarefree or not.\n",
    "\n",
    "n=42\n",
    "#42 is squarefree, 45 is not\n",
    "def devisor_list(n): \n",
    "    devisor_list=[]\n",
    "    for i in range(2, n): \n",
    "        if n%i==0: \n",
    "            devisor_list.append(i)\n",
    "    return devisor_list\n",
    "print(devisor_list(n))\n",
    "\n",
    "from math import sqrt\n",
    "def is_squarefree(n): \n",
    "    if int(sqrt(n))/1.0==sqrt(n): #4, 9, 16,etc. \n",
    "        return 1 # is not one of squares (is squarefree)\n",
    "    else: \n",
    "        return 0 # is one of squares (not square free)\n",
    "\n",
    "count=0\n",
    "for l in devisor_list(n): \n",
    "    if is_squarefree(l)==0:\n",
    "        count+=1\n",
    "    else: \n",
    "        print(n, 'is not a square free number')\n",
    "        break\n",
    "        \n",
    "if count==len(devisor_list(n)): \n",
    "        print(n, 'is a square free number')\n",
    "        print(count)   "
   ]
  },
  {
   "cell_type": "code",
   "execution_count": 265,
   "metadata": {},
   "outputs": [
    {
     "name": "stdout",
     "output_type": "stream",
     "text": [
      "Original input of the three values are:  3 2 1\n",
      "2 1 3\n",
      "1 3 2\n"
     ]
    }
   ],
   "source": [
    "# Write a program that swaps the values of three variables x, y, and z, so that x gets the value\n",
    "# of y, y gets the value of z, and z gets the value of x. i.e. result is: y, z, x\n",
    "\n",
    "# x, y, z = input (\"Enter three scores separated by a comma:\").split(\",\")\n",
    "x, y, z = 3, 2, 1\n",
    "print('Original input of the three values are: ', x, y, z)\n",
    "\n",
    "#method 1\n",
    "temp = x\n",
    "x = y\n",
    "y = z\n",
    "z = temp\n",
    "print(x, y, z)\n",
    "\n",
    "#method 2\n",
    "mylist = [x, y, z]\n",
    "newlist = [y, z, x]\n",
    "x, y, z = mylist[1], mylist[2], mylist[0]\n",
    "print(x, y, z)"
   ]
  },
  {
   "cell_type": "code",
   "execution_count": 266,
   "metadata": {},
   "outputs": [
    {
     "name": "stdout",
     "output_type": "stream",
     "text": [
      "[50, 100, 150, 200, 250]\n",
      "max is 250 , min is 50 , avg is 150.0\n",
      "Removed the max:  [100, 200, 50, 150] and second largest is 200\n",
      "The second highest number is 150\n",
      "you have entered a number >100\n",
      "-----------e---------\n",
      "[50, 100, 150, 200, 250]\n",
      "avg is 200.0\n"
     ]
    }
   ],
   "source": [
    "# Ask the user to enter 5 test scores. Write a program to do the following:\n",
    "# (a) Print out the highest and lowest scores.\n",
    "# (b) Print out the average of the scores.\n",
    "# (c) Print out the second largest score.\n",
    "# (d) If any of the scores is greater than 100, then after all the scores have been entered, print\n",
    "# a message warning the user that a value over 100 has been entered.\n",
    "# (e) Drop the two lowest scores and print out the average of the rest of them.\n",
    "\n",
    "# a, b\n",
    "mylist = list(i*50 for i in range(1,6))\n",
    "print(mylist)\n",
    "print('max is', max(mylist), ', min is', min(mylist), ', avg is', sum(mylist)/len(mylist))\n",
    "\n",
    "#c. Using set. The order is no longer kept\n",
    "myset=set(mylist)\n",
    "myset.remove(max(myset))\n",
    "mylist = list(myset)\n",
    "print('Removed the max: ', mylist, 'and second largest is', max(mylist))\n",
    "#c. Order is kept. \n",
    "mymax = max(mylist)\n",
    "newlist=[]\n",
    "for i in mylist: \n",
    "    if i<mymax: \n",
    "        newlist.append(i)\n",
    "print('The second highest number is', max(newlist))\n",
    "\n",
    "#d\n",
    "for i in mylist: \n",
    "    if i <=100: \n",
    "        pass\n",
    "    else: \n",
    "        print('you have entered a number >100')\n",
    "        break\n",
    "\n",
    "#e\n",
    "print('-----------e---------')\n",
    "mylist = list(i*50 for i in range(1,6))\n",
    "print(mylist)\n",
    "mymin = min(mylist)\n",
    "newlist=[]\n",
    "for i in mylist: \n",
    "    if i>mymin: \n",
    "        newlist.append(i)\n",
    "mymin = min(newlist)\n",
    "newnewlist=[]\n",
    "for i in newlist: \n",
    "    if i > mymin: \n",
    "        newnewlist.append(i)\n",
    "print('avg is', sum(newnewlist)/len(newnewlist))"
   ]
  },
  {
   "cell_type": "code",
   "execution_count": 267,
   "metadata": {},
   "outputs": [
    {
     "name": "stdout",
     "output_type": "stream",
     "text": [
      "[0.33461306532663315, 0.2496168294515402, 0.20024756428685514, 0.16829667874695925, 0.14002769249292638, 0.12130964040856303, 0.10809742210975802, 0.10395066142295316, 0.09152950622240064, 0.07976190476190476]\n",
      "[0.6642587064676617, 0.3744623454477332, 0.2668765675863173, 0.20685725734750868, 0.1701183609348955, 0.14601078104216741, 0.12523753920827896, 0.11180921497094987, 0.10134834954906927, 0.08920229175848392]\n"
     ]
    },
    {
     "data": {
      "image/png": "[encoded data removed]",
      "text/plain": [
       "<Figure size 432x288 with 1 Axes>"
      ]
     },
     "metadata": {
      "needs_background": "light"
     },
     "output_type": "display_data"
    }
   ],
   "source": [
    "# This exercise is about the well-known Monty Hall problem. In the problem, you are a contestant\n",
    "# on a game show. The host, Monty Hall, shows you three doors. Behind one of those\n",
    "# doors is a prize, and behind the other two doors are goats. You pick a door. Monty Hall, who\n",
    "# knows behind which door the prize lies, then opens up one of the doors that doesn’t contain\n",
    "# the prize. There are now two doors left, and Monty gives you the opportunity to change your\n",
    "# choice. Should you keep the same door, change doors, or does it not matter?\n",
    "# (a) Write a program that simulates playing this game 10000 times and calculates what percentage\n",
    "# of the time you would win if you switch and what percentage of the time you\n",
    "# would win by not switching.\n",
    "# (b) Try the above but with four doors instead of three. There is still only one prize, and\n",
    "# Monty still opens up one door and then gives you the opportunity to switch\n",
    "\n",
    "import random\n",
    "from random import randint\n",
    "nochangeavgs=[]\n",
    "changedavgs=[]\n",
    "for numofdoors in range(3, 13): \n",
    "    # generate doors\n",
    "    doors=[0]*numofdoors\n",
    "    positions = [i for i in range(0,numofdoors)]\n",
    "    prizeposition = random.choice(positions)\n",
    "    # print(prizeposition)\n",
    "    # print('prizeposition is', prizeposition)\n",
    "    doors[prizeposition]=1\n",
    "#     print(doors)\n",
    "\n",
    "    # simulation\n",
    "    gameresults=[]\n",
    "    changelog=[]\n",
    "    for i in range(0, 100000): \n",
    "        # generate first picked position\n",
    "        positions = [i for i in range(0,numofdoors)]\n",
    "        firstposition=random.choice(positions)\n",
    "\n",
    "        # generate monty position\n",
    "        positions = [i for i in range(0,numofdoors)]\n",
    "        if prizeposition==firstposition: \n",
    "            positions.remove(prizeposition)\n",
    "            montyposition=random.choice(positions)\n",
    "        else: \n",
    "            positions.remove(prizeposition)\n",
    "            positions.remove(firstposition)\n",
    "            montyposition = random.choice(positions)\n",
    "\n",
    "    #     print('prizepositions is', prizeposition, ', firstpositon picked is', firstposition)\n",
    "    #     print('montyposition is', montyposition)\n",
    "\n",
    "        # get second picked position\n",
    "        positions = [i for i in range(0,numofdoors)]\n",
    "        positions.remove(montyposition)\n",
    "        secondpick = random.choice(positions)\n",
    "    #     print('second picked position is', secondpick)\n",
    "        if firstposition==secondpick: \n",
    "            change = 'no change'\n",
    "        else: \n",
    "            change = 'changed'\n",
    "        if doors[secondpick]==1: \n",
    "            gameresult=1\n",
    "        else: \n",
    "            gameresult=0\n",
    "        changelog.append(change)\n",
    "    #     print(change)\n",
    "        gameresults.append(gameresult)\n",
    "    #     print('gameresult is', gameresult)\n",
    "    #     print('\\n')\n",
    "    # print(changelog)\n",
    "    # print(gameresults)\n",
    "\n",
    "    nochangeresults=[gameresults[i] for i, v in enumerate(changelog) if v=='no change']\n",
    "#     print('if no change, avg is ', sum(nochangeresults)/len(nochangeresults))\n",
    "    nochangeavg=sum(nochangeresults)/len(nochangeresults)\n",
    "    nochangeavgs.append(nochangeavg)\n",
    "    \n",
    "    changeresults=[gameresults[i] for i, v in enumerate(changelog) if v=='changed']\n",
    "#     print('if changed, avg is ', sum(changeresults)/len(changeresults))\n",
    "    changedavg=sum(changeresults)/len(changeresults)\n",
    "    changedavgs.append(changedavg)\n",
    "\n",
    "print(nochangeavgs)\n",
    "print(changedavgs)\n",
    "\n",
    "from matplotlib import pyplot as plt\n",
    "plt.plot([x for x in range(3, 13)], [y for y in nochangeavgs], color = 'red', label = 'nochangeavg')\n",
    "plt.plot([x for x in range(3, 13)], [y for y in changedavgs])\n",
    "plt.title('Number of Doors (x) vs. prob of Winning(y), \\n red: no change')\n",
    "plt.show()"
   ]
  },
  {
   "cell_type": "markdown",
   "metadata": {},
   "source": [
    "## 6. Strings"
   ]
  },
  {
   "cell_type": "code",
   "execution_count": 268,
   "metadata": {},
   "outputs": [
    {
     "name": "stdout",
     "output_type": "stream",
     "text": [
      "2\n",
      "1\n",
      "1\n",
      "False\n",
      "abbcccddddbc4\n",
      "ABBCCCDDDDBC4\n",
      "3\n"
     ]
    }
   ],
   "source": [
    "# to count how many occurrence of a certain item\n",
    "mystring='abBcccddddbc4'\n",
    "print(mystring.count('b'))\n",
    "print(mystring.count('bc'))\n",
    "\n",
    "# to return the location of the FIRST occurrence of a certain item\n",
    "print(mystring.index('b'))\n",
    "\n",
    "#returns True if every character of the string is a letter\n",
    "print(mystring.isalpha())\n",
    "\n",
    "#get lower/upper case\n",
    "print(mystring.lower())\n",
    "print(mystring.upper())\n",
    "\n",
    "# lower first then see how many b's\n",
    "print(mystring.lower().count('b'))"
   ]
  },
  {
   "cell_type": "markdown",
   "metadata": {},
   "source": [
    "How to deal with ' (apostrophe)\n",
    "\n",
    "Use \\\\'"
   ]
  },
  {
   "cell_type": "code",
   "execution_count": 269,
   "metadata": {},
   "outputs": [
    {
     "name": "stdout",
     "output_type": "stream",
     "text": [
      "I can't go\n"
     ]
    }
   ],
   "source": [
    "mystring = 'I can\\'t go'\n",
    "print(mystring)"
   ]
  },
  {
   "cell_type": "code",
   "execution_count": 270,
   "metadata": {},
   "outputs": [
    {
     "name": "stdout",
     "output_type": "stream",
     "text": [
      "aaa\n",
      "a\n",
      "a\n",
      "a\n",
      "\n"
     ]
    }
   ],
   "source": [
    "print('a'*3)\n",
    "print('a\\n'*3)"
   ]
  },
  {
   "cell_type": "code",
   "execution_count": 271,
   "metadata": {},
   "outputs": [
    {
     "name": "stdout",
     "output_type": "stream",
     "text": [
      "abcabc\n",
      "0\n",
      "3\n"
     ]
    }
   ],
   "source": [
    "# to find a certain item's index in a string\n",
    "mystring='abcabc'\n",
    "print(mystring)\n",
    "for i in range(len(mystring)):\n",
    "    if mystring[i]=='a':\n",
    "        print(i)"
   ]
  },
  {
   "cell_type": "code",
   "execution_count": 272,
   "metadata": {},
   "outputs": [
    {
     "name": "stdout",
     "output_type": "stream",
     "text": [
      "i know youre out there i can feel you now i know that youre afraid\n"
     ]
    }
   ],
   "source": [
    "# to change to lower case, and to remove all puntuation \n",
    "myline= \"\"\"I know you're out there! I can feel you now. I know that you're afraid\"\"\"\n",
    "\n",
    "for c in ',.;:-?!()\\'\"': \n",
    "    myline=myline.lower().replace(c, '')\n",
    "print(myline)"
   ]
  },
  {
   "cell_type": "code",
   "execution_count": 273,
   "metadata": {},
   "outputs": [
    {
     "name": "stdout",
     "output_type": "stream",
     "text": [
      "14159\n",
      "14159\n",
      "-0.14159000000000077\n",
      "0.8584099999999992 Note when using floor, result is not right\n"
     ]
    }
   ],
   "source": [
    "# Write a program that, given a string that contains a decimal number, prints out the\n",
    "# decimal part of the number. For instance, if given 3.14159, the program should print out .14159.\n",
    "\n",
    "mynum='30.14159'\n",
    "print(mynum[mynum.find('.')+1 : ])\n",
    "print(mynum[mynum.index('.')+1 : ])\n",
    "\n",
    "mynum=-30.14159\n",
    "print(mynum-int(mynum))\n",
    "import math\n",
    "print(mynum-math.floor(mynum), 'Note when using floor, result is not right')"
   ]
  },
  {
   "cell_type": "code",
   "execution_count": 274,
   "metadata": {},
   "outputs": [
    {
     "name": "stdout",
     "output_type": "stream",
     "text": [
      "j dtcw stp\n",
      "i love you\n"
     ]
    }
   ],
   "source": [
    "# A simple and very old method of sending secret messages is the substitution cipher.\n",
    "# Basically, each letter of the alphabet gets replaced by another letter of the alphabet, say every a gets\n",
    "# replaced with an x, and every b gets replaced by a z, etc. Write a program to implement this.\n",
    "\n",
    "original='abcdefghijklmnopqrstuvwxyz'\n",
    "code='xznlwebgjhqdyvtkfuompciasr'\n",
    "# message=input('enter a message here: ')\n",
    "message = 'i love you'\n",
    "def changetocipher(message): \n",
    "\n",
    "    ds=[]\n",
    "    for c in message.lower(): \n",
    "        if c.isalpha(): \n",
    "            d= (code[original.index(c)])\n",
    "        else: \n",
    "            d=(c)\n",
    "        ds.append(d)\n",
    "    return (''.join(ds))\n",
    "print(changetocipher(message))\n",
    "\n",
    "\n",
    "# cipher=input('enter a cipher here: ')\n",
    "cipher = 'j dtcw stp'\n",
    "def changetomessage(cipher): \n",
    "    \n",
    "    ds=[]\n",
    "    for c in cipher:\n",
    "        if c.isalpha(): \n",
    "            d=original[code.index(c)]\n",
    "        else: \n",
    "            d=c\n",
    "        ds.append(d)\n",
    "    return (''.join(ds))\n",
    "\n",
    "\n",
    "print(changetomessage(cipher))"
   ]
  },
  {
   "cell_type": "code",
   "execution_count": 275,
   "metadata": {},
   "outputs": [
    {
     "name": "stdout",
     "output_type": "stream",
     "text": [
      "11\n",
      "8\n",
      "21\n",
      "1980! Be careful of 1980!1980! Be careful of 1980!1980! Be careful of 1980!\n",
      "B\n",
      "------end of #c----------\n",
      "['B', 'e', 'c']\n",
      "['l', 'o', 'f']\n",
      "['B', 'e', 'c']\n",
      "--------end of d, start of e---------\n",
      "['f', 'o', 'l', 'u', 'f', 'e', 'r', 'a', 'c', 'e', 'B']\n",
      "-------start of g---------\n",
      "f\n",
      "---------start of h and i----------\n",
      "['e', 'c', 'a', 'r', 'e', 'f', 'u', 'l', 'o']\n",
      "1980! BE CAREFUL OF 1980!\n",
      "---------start of j------\n",
      "1980! Be cereful of 1980!\n",
      "---------start of k-------\n",
      "1980!               1980!\n"
     ]
    }
   ],
   "source": [
    "# Write a program that asks the user to enter a string. The program should then print the\n",
    "# following:\n",
    "# (a) The total number of numbers(digits) and letters in the string\n",
    "# (b) The string repeated 3 times\n",
    "# (c) The first character of the string (remember that string indices start at 0)\n",
    "# (d) The first three characters of the string\n",
    "# (e) The last three characters of the string\n",
    "# (f) The string backwards\n",
    "# (g) The seventh character of the string if the string is long enough and a message otherwise\n",
    "# (h) The string with its first and last characters removed\n",
    "# (i) The string in all caps\n",
    "# (j) The string with every a replaced with an e\n",
    "mystring='1980! Be careful of 1980!'\n",
    "\n",
    "#a\n",
    "print (len([c for c in mystring if c.isalpha()]))\n",
    "print (len([c for c in mystring if c.isdigit()]))\n",
    "print (len([c for c in mystring if c!=\" \"]))\n",
    "\n",
    "#b\n",
    "print(mystring*3)\n",
    "\n",
    "#c\n",
    "for c in mystring: \n",
    "    if c.isalpha(): \n",
    "        print(c)\n",
    "        break\n",
    "print('------end of #c----------')\n",
    "#d & e\n",
    "# mystring='1980! Be careful of 1980!'\n",
    "cs= [c for c in mystring if c.isalpha()]\n",
    "print(cs[:3])\n",
    "print(cs[-3:])\n",
    "# or the following: \n",
    "cs=[]\n",
    "for c in mystring: \n",
    "    if c.isalpha(): \n",
    "        cs.append(c)\n",
    "    else: \n",
    "        pass\n",
    "    if len(cs)==3: \n",
    "        print(cs)\n",
    "        break\n",
    "\n",
    "print('--------end of d, start of e---------')\n",
    "\n",
    "#e print backward\n",
    "cs= [c for c in mystring if c.isalpha()]\n",
    "print(cs[::-1]) \n",
    "\n",
    "#(g) The seventh character of the string if the string is long enough and a message otherwise\n",
    "print('-------start of g---------')\n",
    "cs=[]\n",
    "for c in mystring: \n",
    "    if c.isalpha(): \n",
    "        cs.append(c)\n",
    "    else: \n",
    "        pass\n",
    "    if len(cs)==7: \n",
    "        print(cs[6]) \n",
    "        break\n",
    "if len(cs)<7: \n",
    "    print(''.join(cs))\n",
    "#Note: you can do it in many other ways but this is the way to minimize computation. \n",
    "\n",
    "#h. The string with its first and last characters removed\n",
    "print('---------start of h and i----------')\n",
    "cs=[c for c in mystring if c.isalpha()]\n",
    "print(cs[1:-1])\n",
    "\n",
    "# i. The string in all caps\n",
    "print(mystring.upper())\n",
    "\n",
    "#j The string with every a replaced with an e\n",
    "print('---------start of j------')\n",
    "print(mystring.replace('a', 'e'))\n",
    "\n",
    "#k The string with every letter replaced by a space\n",
    "print('---------start of k-------')\n",
    "newstring=mystring.lower()\n",
    "for c in \"abcdefghijklmnopqrstuvwxyz\": \n",
    "    newstring=newstring.replace(c, \" \")\n",
    "print(newstring)\n",
    "\n",
    "# cs=[c for c in mystring if c.isalpha==False]\n",
    "# print(cs)"
   ]
  },
  {
   "cell_type": "code",
   "execution_count": 276,
   "metadata": {},
   "outputs": [
    {
     "name": "stdout",
     "output_type": "stream",
     "text": [
      "['l', 'o', 'v', 'e'] ['e', 'v', 'o', 'l']\n",
      "not palindrome\n"
     ]
    }
   ],
   "source": [
    "# Write a program that asks the user to enter a word and determines whether the word is a\n",
    "# palindrome or not. A palindrome is a word that reads the same backwards as forwards.\n",
    "\n",
    "# s=input('please enter a word: ')\n",
    "s='love'\n",
    "mylist=[i for i in s]\n",
    "newlist=mylist[::-1]\n",
    "print(mylist, newlist)\n",
    "if mylist==newlist: \n",
    "    print('is palindrome')\n",
    "else: \n",
    "    print('not palindrome')"
   ]
  },
  {
   "cell_type": "code",
   "execution_count": 277,
   "metadata": {},
   "outputs": [
    {
     "name": "stdout",
     "output_type": "stream",
     "text": [
      "  1\n",
      "    3\n",
      "     4\n",
      "      5\n",
      "   2\n",
      "  1\n",
      "    3\n",
      "     4\n",
      "      5\n",
      "   2\n"
     ]
    }
   ],
   "source": [
    "# Ask the user for a number and then print the following, where the pattern ends at the number\n",
    "# that the user enters.\n",
    "num=13452\n",
    "mystring=[c for c in str(num)]\n",
    "for i in range(len(mystring)): \n",
    "    print(' '*(int(mystring[i])), mystring[i])\n",
    "for i, v in enumerate(mystring): \n",
    "    print(' '*int(v), v)\n",
    "    "
   ]
  },
  {
   "cell_type": "code",
   "execution_count": 278,
   "metadata": {},
   "outputs": [
    {
     "name": "stdout",
     "output_type": "stream",
     "text": [
      "PP\n",
      "AA\n",
      "RR\n",
      "AA\n",
      "DD\n",
      "II\n",
      "SS\n",
      "EE\n"
     ]
    }
   ],
   "source": [
    "# Write a program that asks the user to enter a string, then prints out each letter of the string\n",
    "# doubled and on a separate line. For instance, if the user entered HEY, the output would be\n",
    "\n",
    "mystring='paradise'\n",
    "for c in mystring: \n",
    "    print(c.upper()*2 )"
   ]
  },
  {
   "cell_type": "code",
   "execution_count": 279,
   "metadata": {},
   "outputs": [
    {
     "name": "stdout",
     "output_type": "stream",
     "text": [
      "rHiNoCeRoS\n"
     ]
    }
   ],
   "source": [
    "# Write a program that asks the user to enter a word and then capitalizes every other letter of\n",
    "# that word. So if the user enters rhinoceros, the program should print rHiNoCeRoS.\n",
    "\n",
    "mystring='rhinoceros'\n",
    "cs=[]\n",
    "for i, v in enumerate(mystring): \n",
    "    if i%2!=0: \n",
    "        v=v.upper()\n",
    "    else: \n",
    "        pass\n",
    "    cs.append(v)\n",
    "mystring=''.join(cs)\n",
    "print(mystring)"
   ]
  },
  {
   "cell_type": "code",
   "execution_count": 280,
   "metadata": {},
   "outputs": [
    {
     "name": "stdout",
     "output_type": "stream",
     "text": [
      "aAbBcCdDeE\n"
     ]
    }
   ],
   "source": [
    "# Write a program that asks the user to enter two strings of the same length. The program\n",
    "# should then check to see if the strings are of the same length. If they are not, the program\n",
    "# should print an appropriate message and exit. If they are of the same length, the program\n",
    "# should alternate the characters of the two strings. For example, if the user enters abcde and\n",
    "# ABCDE the program should print out AaBbCcDdEe.\n",
    "\n",
    "mystring1='abcde'\n",
    "mystring2='ABCDE'\n",
    "if len(mystring1)!=len(mystring2): \n",
    "    print('not the same length')\n",
    "else: \n",
    "    cs=[]\n",
    "    for i in range(len(mystring2)): \n",
    "        c1, c2=mystring1[i], mystring2[i]\n",
    "        cs.append(c1)\n",
    "        cs.append(c2)\n",
    "print(''.join(cs))        "
   ]
  },
  {
   "cell_type": "code",
   "execution_count": 281,
   "metadata": {},
   "outputs": [
    {
     "name": "stdout",
     "output_type": "stream",
     "text": [
      "CALCULUS class was really HAPPY today. We learned how to PLAY BASKETBALL today in class. I can't wait for tomorrow's class!\n"
     ]
    }
   ],
   "source": [
    "# When I was a kid, we used to play this game called Mad Libs. The way it worked was a friend\n",
    "# would ask me for some words and then insert those words into a story at specific places\n",
    "# and read the story. The story would often turn out to be pretty funny with the words I had\n",
    "# given since I had no idea what the story was about. The words were usually from a specific\n",
    "# category, like a place, an animal, etc.\n",
    "# For this problem you will write a Mad Libs program. First, you should make up a story and\n",
    "# leave out some words of the story. Your program should ask the user to enter some words\n",
    "# and tell them what types of words to enter. Then print the full story along with the inserted\n",
    "# words. Here is a small example, but you should use your own (longer) example:\n",
    "\n",
    "# CALCULUS class was really HAPPY today. We learned how to\n",
    "# PLAY BASKETBALL today in class. I can't wait for tomorrow's\n",
    "# class!\n",
    "classname='CALCULUS'\n",
    "adjectcive='HAPPY'\n",
    "activity='PLAY BASKETBALL'\n",
    "mysentence = classname + ' class was really '+ adjectcive + ' today. We learned how to '+ activity + ' today in class. I can\\'t wait for tomorrow\\'s class!'\n",
    "print(mysentence)"
   ]
  },
  {
   "cell_type": "code",
   "execution_count": 282,
   "metadata": {},
   "outputs": [
    {
     "name": "stdout",
     "output_type": "stream",
     "text": [
      "abcdefghijklmnopqrstuvwxyz\n",
      "bcdefghijklmnopqrstuvwxyza\n",
      "cdefghijklmnopqrstuvwxyzab\n",
      "defghijklmnopqrstuvwxyzabc\n",
      "efghijklmnopqrstuvwxyzabcd\n",
      "fghijklmnopqrstuvwxyzabcde\n",
      "ghijklmnopqrstuvwxyzabcdef\n",
      "hijklmnopqrstuvwxyzabcdefg\n",
      "ijklmnopqrstuvwxyzabcdefgh\n",
      "jklmnopqrstuvwxyzabcdefghi\n",
      "klmnopqrstuvwxyzabcdefghij\n",
      "lmnopqrstuvwxyzabcdefghijk\n",
      "mnopqrstuvwxyzabcdefghijkl\n",
      "nopqrstuvwxyzabcdefghijklm\n",
      "opqrstuvwxyzabcdefghijklmn\n",
      "pqrstuvwxyzabcdefghijklmno\n",
      "qrstuvwxyzabcdefghijklmnop\n",
      "rstuvwxyzabcdefghijklmnopq\n",
      "stuvwxyzabcdefghijklmnopqr\n",
      "tuvwxyzabcdefghijklmnopqrs\n",
      "uvwxyzabcdefghijklmnopqrst\n",
      "vwxyzabcdefghijklmnopqrstu\n",
      "wxyzabcdefghijklmnopqrstuv\n",
      "xyzabcdefghijklmnopqrstuvw\n",
      "yzabcdefghijklmnopqrstuvwx\n",
      "zabcdefghijklmnopqrstuvwxy\n"
     ]
    }
   ],
   "source": [
    "# Write a program that generates the 26-line block of letters partially shown below. Use a loop\n",
    "# containing one or two print statements.\n",
    "# abcdefghijklmnopqrstuvwxyz\n",
    "# bcdefghijklmnopqrstuvwxyza\n",
    "# cdefghijklmnopqrstuvwxyzab\n",
    "mystring='abcdefghijklmnopqrstuvwxyz'\n",
    "for i in range(len(mystring)): \n",
    "    print((mystring*2)[i:len(mystring)+i])  "
   ]
  },
  {
   "cell_type": "code",
   "execution_count": 283,
   "metadata": {},
   "outputs": [
    {
     "name": "stdout",
     "output_type": "stream",
     "text": [
      "1\n"
     ]
    }
   ],
   "source": [
    "# The goal of this exercise is to see if you can mimic the behavior of the in operator and the\n",
    "# count and index methods using only variables, for loops, and if statements.\n",
    "# (c) Without using the index method, write a program that asks the user for a string and\n",
    "# a letter and prints out the index of the first occurrence of the letter in the string. If the\n",
    "# letter is not in the string, the program should say so.\n",
    "\n",
    "mystring='paradise'\n",
    "myletter='a'\n",
    "for i in range(len(mystring)): \n",
    "    if mystring[i]==myletter:\n",
    "        print(i)\n",
    "        break"
   ]
  },
  {
   "cell_type": "code",
   "execution_count": 284,
   "metadata": {},
   "outputs": [
    {
     "name": "stdout",
     "output_type": "stream",
     "text": [
      "123,456,789\n"
     ]
    }
   ],
   "source": [
    "# Write a program that asks the user for a large integer and inserts commas into it according\n",
    "# to the standard American convention for commas in large numbers. For instance, if the user\n",
    "# enters 1000000, the output should be 1,000,000.\n",
    "# Convert an integer to american convention for commas in large numbers\n",
    "\n",
    "mystring='123456789'\n",
    "numofsets=len(mystring)//3  #7//3=2 # how many sets of 3s\n",
    "# print(numofsets)\n",
    "modnum=len(mystring)%3 #7%3=1\n",
    "# print(modnum)\n",
    "remain=mystring[modnum:]\n",
    "# print('remain is', remain)\n",
    "cs=[c for c in mystring[:modnum]]\n",
    "cs.append(',')\n",
    "# print(cs)\n",
    "for se in range(numofsets): \n",
    "    c=remain[0:3]\n",
    "    cs.append(c)\n",
    "    cs.append(',')\n",
    "    remain=remain[3:]\n",
    "# print('final cs is', cs)\n",
    "if cs[-1]==',' and cs[0]==',': \n",
    "    ns=cs[1:-1]\n",
    "#     print('first and last are quotes')\n",
    "elif cs[-1]==',': \n",
    "    ns=cs[:-1]\n",
    "#     print('last is quote')\n",
    "elif cs[0]==',': \n",
    "    ns=cs[1:]\n",
    "#     print('first is quote')\n",
    "else:\n",
    "    ns=cs\n",
    "# print(ns)\n",
    "   \n",
    "combined = ''.join(ns)\n",
    "print(combined)"
   ]
  },
  {
   "cell_type": "code",
   "execution_count": 285,
   "metadata": {},
   "outputs": [
    {
     "name": "stdout",
     "output_type": "stream",
     "text": [
      "5\n",
      "3\n",
      "positions are [[0, 3, 6, 9, 12], [1, 4, 7, 10, 13], [2, 5, 8, 11]]\n",
      "sr sgeemsectea\n"
     ]
    }
   ],
   "source": [
    "# A more general version of the above technique is the rail fence cipher, where instead of breaking\n",
    "# things into evens and odds, they are broken up by threes, fours or something larger. For\n",
    "# instance, in the case of threes, the string 'secret message' would be broken into three groups. The\n",
    "# first group is sr sg, the characters at indices 0, 3, 6, 9 and 12. The second group is eemse, the\n",
    "# characters at indices 1, 4, 7, 10, and 13. The last group is ctea, the characters at indices 2, 5, 8,\n",
    "# and 11. The encrypted message is sr sgeemsectea.\n",
    "# (a) Write a program the asks the user for a string and uses the rail fence cipher in the threes\n",
    "# case to encrypt the string.\n",
    "# (b) Write a decryption program for the threes case.\n",
    "# (c) Write a program that asks the user for a string, and an integer determining whether to\n",
    "# break things up by threes, fours, or whatever. Encrypt the string using the rail-fence\n",
    "# cipher.\n",
    "# (d) Write a decryption program for the general case.\n",
    "\n",
    "message = 'secret message'\n",
    "numofsets=3\n",
    "import math\n",
    "num_in_each_set=math.ceil(len(message)/numofsets)\n",
    "print(num_in_each_set)\n",
    "gap=math.ceil(len(message)/num_in_each_set)\n",
    "print(gap)\n",
    "\n",
    "# begin_poss=[i for i in range(0, len(message)-1, num_in_each_set)]\n",
    "# print(begin_poss)\n",
    "\n",
    "positionss=[]\n",
    "for i in range(numofsets): \n",
    "    positions=[j for j in range(0+i, len(message), gap)]\n",
    "    positionss.append(positions)\n",
    "print('positions are', positionss)\n",
    "\n",
    "css=[]\n",
    "for positions in positionss: \n",
    "    cs=[]\n",
    "    for position in positions: \n",
    "        c=(message[position])\n",
    "        cs.append(c)\n",
    "    css.append(''.join(cs))\n",
    "print(''.join(css))\n",
    "\n",
    "# answer is\n",
    "# sr sgeemsectea   "
   ]
  },
  {
   "cell_type": "code",
   "execution_count": 286,
   "metadata": {},
   "outputs": [
    {
     "name": "stdout",
     "output_type": "stream",
     "text": [
      "5*(x-1)+3*y\n"
     ]
    }
   ],
   "source": [
    "# In algebraic expressions, the symbol for multiplication is often left out, as in 3x+4y or 3(x+5).\n",
    "# Computers prefer those expressions to include the multiplication symbol, like 3*x+4*y or\n",
    "# 3*(x+5). Write a program that asks the user for an algebraic expression and then inserts\n",
    "# multiplication symbols where appropriate.\n",
    "\n",
    "alg='3x+4y+5(x+1)+4(y-1)'\n",
    "alg='5(x-1)+3y'\n",
    "\n",
    "vs=[]\n",
    "for v in alg: \n",
    "    if v.isalpha(): \n",
    "        v='*'+v\n",
    "    vs.append(v)\n",
    "alg=(''.join(vs))\n",
    "    \n",
    "if '(*' in alg: \n",
    "    alg=alg.replace('(*', '*(')\n",
    "print(alg)"
   ]
  },
  {
   "cell_type": "markdown",
   "metadata": {},
   "source": [
    "## 7. List\n",
    "#### List is mutable, while most of the others types (tuple, set, etc.)  are not"
   ]
  },
  {
   "cell_type": "code",
   "execution_count": 287,
   "metadata": {},
   "outputs": [
    {
     "name": "stdout",
     "output_type": "stream",
     "text": [
      "append x to the list:  ['b', 'a', 'c', 'x']\n",
      "sort the list using mylist.sort():  ['a', 'b', 'c', 'x']\n",
      "sort the list using sorted(mylist): ['a', 'b', 'c', 'x']\n",
      "count how many times x occurs in mylist:  1\n",
      "the location of the first occurrence of x is:  3\n",
      "reversed list is: ['x', 'c', 'a', 'b']\n",
      "removed the FIRST occurrence of x from the list:  ['c', 'a', 'b']\n",
      "remove the item at index p=1 and returns index p's value:  a\n",
      "after the pop, current mylist value is:  ['c', 'b']\n",
      "inserts x at index p=1 of the list,after insert, mylist value is: ['c', 'x', 'b']\n"
     ]
    }
   ],
   "source": [
    "mylist=['b', 'a', 'c']\n",
    "x='x'\n",
    "mylist.append(x)  # adds an item to the end of a list / end of the list\n",
    "print('append x to the list: ', mylist)\n",
    "mylist.sort()  # sort the list \n",
    "print('sort the list using mylist.sort(): ', mylist)\n",
    "mylist=['b', 'a', 'c','x']\n",
    "M=sorted(mylist)\n",
    "print('sort the list using sorted(mylist):', M)\n",
    "mylist.count(x) #returns the number of times x occurs in the list\n",
    "print('count how many times x occurs in mylist: ', mylist.count(x))\n",
    "mylist.index(x) # returns the location of the first occurrence of x\n",
    "print('the location of the first occurrence of x is: ', mylist.index(x))\n",
    "mylist.reverse() # reverse the list\n",
    "print('reversed list is:', mylist)\n",
    "mylist.remove(x) # remove the FIRST occurrence of x from the list\n",
    "print('removed the FIRST occurrence of x from the list: ', mylist)\n",
    "p=1\n",
    "# print(mylist.pop(p)) \n",
    "# remove the item at index p and returns index p's value\n",
    "print(\"remove the item at index p=1 and returns index p's value: \",mylist.pop(p))\n",
    "print('after the pop, current mylist value is: ', mylist)\n",
    "mylist.insert(p, x) #inserts x at index p of the list\n",
    "print('inserts x at index p=1 of the list,after insert, mylist value is:', mylist)"
   ]
  },
  {
   "cell_type": "code",
   "execution_count": 288,
   "metadata": {},
   "outputs": [
    {
     "name": "stdout",
     "output_type": "stream",
     "text": [
      "number of 5s in the list:  2\n",
      "[1, 1.3, 1.5, 3, 5, 5, 7, 9]\n",
      "how many integers are less than 5:  2\n",
      "how many integers are less than 5:  2\n"
     ]
    },
    {
     "data": {
      "text/plain": [
       "True"
      ]
     },
     "execution_count": 288,
     "metadata": {},
     "output_type": "execute_result"
    }
   ],
   "source": [
    "# Write a program that asks the user to enter a list of integers. Do the following:\n",
    "# (e) Print the number of fives in the list.\n",
    "# (f) Remove the first and last items from the list, sort the remaining items, and print the\n",
    "# result.\n",
    "# (g) Print how many integers in the list are less than 5.\n",
    "mylist=[9, 1, 1.3, 1.5, 9, 3, 5, 5, 7, 7]\n",
    "#e\n",
    "print('number of 5s in the list: ', mylist.count(5))\n",
    "\n",
    "#f\n",
    "mylist.pop(0)\n",
    "mylist.pop(-1)\n",
    "mylist.sort()\n",
    "print(mylist)\n",
    "\n",
    "#g print items in a list under conditions\n",
    "mylist=[9, 1, 1.3, 1.5, 9, 3, 5, 5, 7, 7]\n",
    "print('how many integers are less than 5: ', [i<5 and isinstance(i, int) for i in mylist].count(True))\n",
    "print('how many integers are less than 5: ', len([i for i in mylist if i<5 and isinstance(i, int)])) \n",
    "\n",
    "#check to see if an item is an integer: \n",
    "isinstance(5, int)"
   ]
  },
  {
   "cell_type": "code",
   "execution_count": 289,
   "metadata": {},
   "outputs": [
    {
     "name": "stdout",
     "output_type": "stream",
     "text": [
      "[0.027, 0.056, 0.08269, 0.11084, 0.13815, 0.16889, 0.13913, 0.11177, 0.08215, 0.05604, 0.02734]\n"
     ]
    },
    {
     "data": {
      "text/plain": [
       "[<matplotlib.lines.Line2D at 0x26ee5f20cf8>]"
      ]
     },
     "execution_count": 289,
     "metadata": {},
     "output_type": "execute_result"
    },
    {
     "data": {
      "image/png": "[encoded data removed]",
      "text/plain": [
       "<Figure size 432x288 with 1 Axes>"
      ]
     },
     "metadata": {
      "needs_background": "light"
     },
     "output_type": "display_data"
    }
   ],
   "source": [
    "# When playing games where you have to roll two dice, it is nice to know the odds of each\n",
    "# roll. To do this, your program should simulate rolling two dice about 10,000\n",
    "# times and compute and print out the percentage of rolls that come out to be 2, 3, 4, . . . , 12.\n",
    "from random import randint\n",
    "results=[]\n",
    "for i in range(100000):\n",
    "    dice1, dice2 = randint(1,6), randint(1,6)\n",
    "    result = dice1+dice2\n",
    "    results.append(result)\n",
    "# print(results)\n",
    "\n",
    "prob2=results.count(2)/len(results)\n",
    "prob3=results.count(3)/len(results)\n",
    "prob4=results.count(4)/len(results)\n",
    "prob5=results.count(5)/len(results)\n",
    "prob6=results.count(6)/len(results)\n",
    "prob7=results.count(7)/len(results)\n",
    "prob8=results.count(8)/len(results)\n",
    "prob9=results.count(9)/len(results)\n",
    "prob10=results.count(10)/len(results)\n",
    "prob11=results.count(11)/len(results)\n",
    "prob12=results.count(12)/len(results)\n",
    "resultlist = [prob2, prob3, prob4, prob5, prob6, prob7, prob8, prob9, prob10, prob11, prob12]\n",
    "print(resultlist)\n",
    "from matplotlib import pyplot as plt\n",
    "plt.plot([i for i in range(2, 13)], resultlist)"
   ]
  },
  {
   "cell_type": "code",
   "execution_count": 290,
   "metadata": {},
   "outputs": [
    {
     "name": "stdout",
     "output_type": "stream",
     "text": [
      "[0, 2, 3, 8]\n",
      "[1, 0, 4]\n",
      "4\n"
     ]
    }
   ],
   "source": [
    "# Write a program that generates 100 random integers that are either 0 or 1. Then find the\n",
    "# longest run of zeros, the largest number of zeros in a row. For instance, the longest run of\n",
    "# zeros in [1,0,1,1,0,0,0,0,1,0,0] is 4.\n",
    "mylist=[1,0,1,1,0,0,0,0,1,0,0]\n",
    "oneposs=[]\n",
    "for i, v in enumerate(mylist): \n",
    "    if v==1: \n",
    "        oneposs.append(i)\n",
    "print(oneposs)\n",
    "# print('length of oneposs is ', len(oneposs))\n",
    "gaps=[]\n",
    "for i in range(len(oneposs)): \n",
    "    if i<len(oneposs)-1: \n",
    "        gap=oneposs[i+1]-oneposs[i]-1\n",
    "        gaps.append(gap)\n",
    "print(gaps)\n",
    "print(max(gaps))"
   ]
  },
  {
   "cell_type": "code",
   "execution_count": 291,
   "metadata": {},
   "outputs": [
    {
     "name": "stdout",
     "output_type": "stream",
     "text": [
      "[1, 2, 3, 4, 0]\n"
     ]
    }
   ],
   "source": [
    "# Write a program that removes any repeated items from a list so that each item appears at most\n",
    "# once. For instance, the list [1,1,2,3,4,3,0,0] would become [1,2,3,4,0].\n",
    "mylist = [1,1,2,3,4,3,0,0]\n",
    "shrinklist = [mylist[0]]\n",
    "for v in mylist: \n",
    "    if v in shrinklist: \n",
    "        pass\n",
    "    else: \n",
    "        shrinklist.append(v)\n",
    "print(shrinklist)"
   ]
  },
  {
   "cell_type": "markdown",
   "metadata": {},
   "source": [
    "## 8. More with Lists"
   ]
  },
  {
   "cell_type": "code",
   "execution_count": 292,
   "metadata": {},
   "outputs": [
    {
     "name": "stdout",
     "output_type": "stream",
     "text": [
      "picks a random item from a list:  1\n",
      "picks a group of n random items from a list: [1, 4, 0, 3]\n",
      "shuffles the list [0, 2, 4, 1, 0, 3, 3, 1]\n"
     ]
    }
   ],
   "source": [
    "mylist = [1,1,2,3,4,3,0,0]\n",
    "\n",
    "from random import choice\n",
    "print('picks a random item from a list: ', choice(mylist)) # picks a random item from a list\n",
    "\n",
    "from random import sample\n",
    "print('picks a group of n random items from a list:', sample(mylist, 4)) #picks a group of n random items from a list\n",
    "\n",
    "from random import shuffle\n",
    "shuffle(mylist)\n",
    "print('shuffles the list', mylist) #shuffles the list"
   ]
  },
  {
   "cell_type": "code",
   "execution_count": 293,
   "metadata": {},
   "outputs": [
    {
     "name": "stdout",
     "output_type": "stream",
     "text": [
      "[['a', 'Sally', 'Sue'], ['Bob', 'b', 'Joe']]\n"
     ]
    }
   ],
   "source": [
    "# to randomly create three-item groups\n",
    "from random import shuffle\n",
    "players = ['Joe', 'Bob', 'Sue', 'Sally', 'a', 'b']\n",
    "shuffle(players)\n",
    "teams=[]\n",
    "for i in range(0, len(players), 3): \n",
    "    teams.append([players[i], players[i+1], players[i+2]])\n",
    "print(teams)"
   ]
  },
  {
   "cell_type": "code",
   "execution_count": 294,
   "metadata": {},
   "outputs": [
    {
     "name": "stdout",
     "output_type": "stream",
     "text": [
      "7891234567\n"
     ]
    }
   ],
   "source": [
    "# Remove all punctuation / remove all special characters in a string\n",
    "s = 'Hi! This is a test.'\n",
    "s = '(789)123-4567'\n",
    "from string import punctuation\n",
    "for c in punctuation: \n",
    "    s = s.replace(c, '')\n",
    "print(s)"
   ]
  },
  {
   "cell_type": "code",
   "execution_count": 295,
   "metadata": {},
   "outputs": [
    {
     "name": "stdout",
     "output_type": "stream",
     "text": [
      "[[0, 0], [0, 1], [1, 0], [1, 1]]\n",
      "[[0, 0], [1, 1], [2, 2], [3, 3]]\n"
     ]
    }
   ],
   "source": [
    "L=[[i,j] for i in range(2) for j in range(2)]\n",
    "print(L)\n",
    "\n",
    "L = [[i,i] for i in range(4)]\n",
    "print(L)"
   ]
  },
  {
   "cell_type": "code",
   "execution_count": 296,
   "metadata": {},
   "outputs": [
    {
     "name": "stdout",
     "output_type": "stream",
     "text": [
      "1 2 3 \n",
      "4 5 6 \n",
      "7 8 9 \n",
      "[[1, 2, 3], [4, 5, 6], [7, 8, 9]]\n",
      "4\n",
      "[[0, 0, 0, 0, 0], [0, 0, 0, 0, 0], [0, 0, 0, 0, 0]]\n",
      "[3, 6, 9]\n"
     ]
    }
   ],
   "source": [
    "L = [[1,2,3],\n",
    "    [4,5,6],\n",
    "    [7,8,9]]\n",
    "for r in range(3):\n",
    "    for c in range(3):\n",
    "        print(L[r][c], end=\" \")\n",
    "    print()\n",
    "    \n",
    "from pprint import pprint\n",
    "pprint(L)\n",
    "\n",
    "count = sum([1 for r in range(3) for c in range(3) if L[r][c]%2==0])\n",
    "print(count)\n",
    "\n",
    "L = [[0]*5 for i in range(3)] # create a 3x5 matrix\n",
    "print(L)\n",
    "\n",
    "# To get the cth column of matrix\n",
    "L = [[1,2,3],\n",
    "    [4,5,6],\n",
    "    [7,8,9]]\n",
    "c=2\n",
    "print([L[i][c] for i in range(len(L))])\n"
   ]
  },
  {
   "cell_type": "code",
   "execution_count": 297,
   "metadata": {},
   "outputs": [
    {
     "name": "stdout",
     "output_type": "stream",
     "text": [
      "[1, 2, 3, 4, 5, 6, 7, 8, 9]\n"
     ]
    }
   ],
   "source": [
    "# to flatten a list\n",
    "L = [[1,2,3],\n",
    "    [4,5,6],\n",
    "    [7,8,9]]\n",
    "newlist = [item for sublist in L for item in sublist]\n",
    "print(newlist)"
   ]
  },
  {
   "cell_type": "code",
   "execution_count": 298,
   "metadata": {},
   "outputs": [
    {
     "name": "stdout",
     "output_type": "stream",
     "text": [
      "['i', 'know', 'youre', 'out', 'there', 'i', 'can', 'feel', 'you', 'now', 'i', 'know', 'that', 'youre', 'afraid', '\\nyoure', 'afraid', 'of', 'us', 'youre', 'afraid', 'of', 'change', 'i', 'dont', 'know', 'the', 'future', '\\ni', 'didnt', 'come', 'here', 'to', 'tell', 'you', 'how', 'this', 'is', 'going', 'to', 'end', 'i', 'came', 'here', 'to', 'tell', 'you', 'how', 'its', 'going', 'to', 'begin', '\\nim', 'going', 'to', 'hang', 'up', 'this', 'phone', 'and', 'then', 'im', 'going', 'to', 'show', 'these', 'people', 'what', 'you', 'dont', 'want', 'them', 'to', 'see', '\\nim', 'going', 'to', 'show', 'them', 'a', 'world', 'without', 'you', 'a', 'world', 'without', 'rules', 'and', 'controls', 'without', 'borders', 'or', 'boundaries', '\\na', 'world', 'where', 'anything', 'is', 'possible', 'where', 'we', 'go', 'from', 'there', 'is', 'a', 'choice', 'i', 'leave', 'to', 'you']\n",
      "out\n",
      "i, out, can, now, that, \n",
      "youre, us, of, dont, future, come, tell, this, to, came, tell, its, begin, to, this, then, to, people, dont, to, going, them, without, world, and, borders, \n",
      "a, anything, where, from, a, leave, \n",
      "\n",
      "----------Randomly rearrange the words of the sentence----------\n",
      "['I', 'this', 'anything', 'feel', \"don't\", 'going', \"You're\", 'came', \"I'm\", 'here', 'here', 'borders', 'you', '\\nI', 'you', 'come', 'without', 'to', '\\nA', 'I', \"\\nI'm\", 'to', 'a', 'leave', 'world', 'people', \"\\nyou're\", 'go', 'a', 'going', 'to', 'know', 'show', 'show', \"you're\", 'we', 'to', 'to', 'out', 'tell', 'begin.', 'this', 'I', 'afraid', 'going', 'future.', 'of', 'controls,', \"it's\", 'to', 'phone,', 'where', 'that', 'now.', 'possible.', 'know', 'is', 'to', 'rules', 'these', 'going', \"don't\", 'there.', 'afraid...', 'to', 'then', 'without', 'world', \"\\nI'm\", 'what', 'you', 'I', \"didn't\", 'want', 'how', 'without', 'up', 'them', 'from', 'how', 'you.', 'I', 'and', 'you', 'tell', 'Where', 'choice', 'you.', 'can', 'and', 'is', \"you're\", 'A', 'them', 'world', 'see.', 'hang', 'end.', 'boundaries.', 'afraid', 'or', 'to', 'is', 'change.', 'I', 'us.', 'of', 'there', 'going', 'the', 'know']\n"
     ]
    }
   ],
   "source": [
    "# (a) Ask the user to enter a sentence and print out the third word of the sentence.\n",
    "# (b) Ask the user to enter a sentence and print out every third word of the sentence.\n",
    "myline= \"\"\"I know you're out there. I can feel you now. I know that you're afraid... \n",
    "you're afraid of us. You're afraid of change. I don't know the future. \n",
    "I didn't come here to tell you how this is going to end. I came here to tell you how it's going to begin. \n",
    "I'm going to hang up this phone, and then I'm going to show these people what you don't want them to see. \n",
    "I'm going to show them a world without you. A world without rules and controls, without borders or boundaries. \n",
    "A world where anything is possible. Where we go from there is a choice I leave to you.\"\"\"\n",
    "\n",
    "from string import punctuation\n",
    "for c in punctuation: \n",
    "    myline = myline.lower().replace(c, '')\n",
    "mylist = myline.split(' ')\n",
    "print(mylist)\n",
    "print(mylist[3])\n",
    "for i in range(0,len(mylist),3): \n",
    "    print(mylist[i], end=', ')\n",
    "    \n",
    "# Randomly rearranges the words of the sentence. \n",
    "print('\\n\\n----------Randomly rearrange the words of the sentence----------')\n",
    "myline= \"\"\"I know you're out there. I can feel you now. I know that you're afraid... \n",
    "you're afraid of us. You're afraid of change. I don't know the future. \n",
    "I didn't come here to tell you how this is going to end. I came here to tell you how it's going to begin. \n",
    "I'm going to hang up this phone, and then I'm going to show these people what you don't want them to see. \n",
    "I'm going to show them a world without you. A world without rules and controls, without borders or boundaries. \n",
    "A world where anything is possible. Where we go from there is a choice I leave to you.\"\"\"\n",
    "mylist = myline.split(' ')\n",
    "from random import shuffle\n",
    "shuffle(mylist)\n",
    "print(mylist)"
   ]
  },
  {
   "cell_type": "code",
   "execution_count": 299,
   "metadata": {},
   "outputs": [
    {
     "name": "stdout",
     "output_type": "stream",
     "text": [
      "[48, 38, 43, 48, 6, 34]\n"
     ]
    }
   ],
   "source": [
    "# Write a simple lottery drawing program for 6/49\n",
    "from random import shuffle, randint\n",
    "shulist=shuffle(list(range(1,49)))\n",
    "poss=[]\n",
    "for i in range(6): \n",
    "    pos = randint(1,49)\n",
    "    poss.append(pos)\n",
    "winnums=[]\n",
    "for i in poss: \n",
    "    winnum=list(range(1,49))[i]            \n",
    "    winnums.append(winnum)\n",
    "print(winnums) "
   ]
  },
  {
   "cell_type": "code",
   "execution_count": 300,
   "metadata": {},
   "outputs": [
    {
     "name": "stdout",
     "output_type": "stream",
     "text": [
      "['331', '447', '5820']\n",
      "ok\n"
     ]
    }
   ],
   "source": [
    "# Write a program that gets a string from the user containing a potential telephone number.\n",
    "# The program should print Valid if it decides the phone number is a real phone number, and\n",
    "# Invalid otherwise. A phone number is considered valid as long as it is written in the form\n",
    "# abc-def-hijk or 1-abc-def-hijk. The dashes must be included, the phone number should contain\n",
    "# only numbers and dashes, and the number of digits in each group must be correct. Test your\n",
    "# program with the output shown below.\n",
    "\n",
    "entry='1-331-447-5820'\n",
    "allnum=entry.split('-')\n",
    "if len(allnum)==4: \n",
    "    allnum.remove(allnum[0])\n",
    "print(allnum)\n",
    "def checkalpha(allnum): \n",
    "    for i in allnum: \n",
    "        for j in i: \n",
    "            if j.isalpha()==True: \n",
    "                return ( 'contains alphabet')\n",
    "                break\n",
    "            else: \n",
    "                return ('ok')\n",
    "def precheck(allnum): \n",
    "    if checkalpha(allnum)=='ok': \n",
    "        for i in allnum: \n",
    "            if ceil(float(i))==floor(float(i)): \n",
    "                return ( 'ok')\n",
    "            else: \n",
    "                return ('contains decimal')\n",
    "                break\n",
    "# print('precheck result: ', precheck(allnum))\n",
    "\n",
    "if precheck(allnum)=='ok':  \n",
    "    allnum=[int(i) for i in allnum]\n",
    "    if 100<=allnum[0]<=999 and 100<=allnum[1]<=999 and 1000<=allnum[2]<=9999: \n",
    "        print('ok')\n",
    "    else: \n",
    "        print('something is wrong')"
   ]
  },
  {
   "cell_type": "code",
   "execution_count": 301,
   "metadata": {},
   "outputs": [
    {
     "name": "stdout",
     "output_type": "stream",
     "text": [
      "2.875\n",
      "4\n",
      "[3, 3, 3, 3]\n"
     ]
    }
   ],
   "source": [
    "# Write a program that finds the average of all of the entries in a 4 x 4 list of integers.\n",
    "mylist = [[1,2,3,4],[2,2,3,4], [3,2,3,4], [4,2,3,4]]\n",
    "newlist = [item for sublist in mylist for item in sublist]\n",
    "def mean(alist): \n",
    "    return sum(alist)/len(alist)\n",
    "print(mean(newlist))\n",
    "print(max(mylist[2]))\n",
    "# find the values in the 3rd column\n",
    "print([mylist[i][2] for i in range(len(mylist))])"
   ]
  },
  {
   "cell_type": "code",
   "execution_count": 302,
   "metadata": {},
   "outputs": [
    {
     "name": "stdout",
     "output_type": "stream",
     "text": [
      "[[0, 0, 1, 0, 1], [1, 1, 0, 1, 0], [0, 0, 1, 0, 0], [1, 1, 0, 0, 0], [0, 0, 1, 0, 0]]\n",
      "[0, 0, 1, 0, 1, 1, 1, 0, 1, 0, 0, 0, 1, 0, 0, 1, 1, 0, 0, 0, 0, 0, 1, 0, 0]\n",
      "[[0, 0, 1, 0, 1], [1, 1, 0, 1, 0], [0, 0, 1, 0, 1], [1, 1, 0, 0, 0], [0, 0, 1, 0, 0]]\n"
     ]
    }
   ],
   "source": [
    "# The following is useful in implementing computer players in a number of different games.\n",
    "# Write a program that creates a 5 x 5 list consisting of zeroes and ones. Your program should\n",
    "# then pick a random location in the list that contains a zero and change it to a one. If all the\n",
    "# entries are one, the program should say so. [Hint: one way to do this is to create a new list\n",
    "# whose items are the coordinates of all the ones in the list and use the choice method to\n",
    "# randomly select one. Use a two-element list to represent a set of coordinates.]\n",
    "\n",
    "j_s=[]\n",
    "for j in range(5): \n",
    "    i_s=[]\n",
    "    for i in range(5): \n",
    "        i=randint(0,1)\n",
    "        i_s.append(i)\n",
    "    j_s.append(i_s)\n",
    "print(j_s)\n",
    "\n",
    "flatlist = [item for subset in j_s for item in subset]\n",
    "print(flatlist)\n",
    "if sum(flatlist)==25: \n",
    "    print('all items are ones')\n",
    "else: \n",
    "    for v in list(range(25)): \n",
    "        i, j = randint(0,4), randint(0,4)\n",
    "#         print(i,j)\n",
    "#         print(j_s[i][j])\n",
    "        if j_s[i][j]==0: \n",
    "#             print('it is zero, now change to one')\n",
    "            j_s[i][j]=1\n",
    "            break\n",
    "print(j_s)\n",
    "        "
   ]
  },
  {
   "cell_type": "markdown",
   "metadata": {},
   "source": [
    "## 9. While"
   ]
  },
  {
   "cell_type": "code",
   "execution_count": 303,
   "metadata": {},
   "outputs": [
    {
     "name": "stdout",
     "output_type": "stream",
     "text": [
      "bye\n"
     ]
    }
   ],
   "source": [
    "while True: \n",
    "#     temp = eval(input('enter a num: '))\n",
    "    temp = -1000 #comment this line and uncomment the above line\n",
    "    if temp ==-1000: \n",
    "        print('bye')\n",
    "        break\n",
    "    print('converted temp is ',temp*9/5+32 )"
   ]
  },
  {
   "cell_type": "code",
   "execution_count": 304,
   "metadata": {},
   "outputs": [],
   "source": [
    "### Guessing game. Everyone can guess 4 times. \n",
    "### Correct codes. Uncomment it to make it work. \n",
    "\n",
    "\n",
    "# from random import randint\n",
    "# secret=randint(0,9)\n",
    "# guesscount=0\n",
    "# myguess=0\n",
    "# while myguess!=secret and guesscount<=4: \n",
    "#     guesscount+=1\n",
    "#     myguess = eval(input('Please enter a number and hit enter: '))\n",
    "#     if myguess > secret: \n",
    "#         print ('Lower')\n",
    "#     elif myguess < secret: \n",
    "#         print('Higher')\n",
    "#     else: \n",
    "#         print('Right')\n",
    "#         break\n",
    "    \n",
    "# if guesscount <=4 and myguess==secret: \n",
    "#     print('You guessed the right number in', guesscount, 'times')\n",
    "# else: \n",
    "#     print('You did\\'t get the right number in 4 times. The right number is', secret)\n",
    "    \n",
    "# # different code. Do not use While\n",
    "# secret=randint(0,9)\n",
    "# myguess=0\n",
    "# for guesscount in range(0,4):\n",
    "#     myguess = eval(input('Please enter a number and hit enter: '))\n",
    "#     if myguess > secret: \n",
    "#         print ('Lower')\n",
    "#     elif myguess < secret: \n",
    "#         print('Higher')\n",
    "#     else: \n",
    "#         print('Right')\n",
    "#         break\n",
    "    \n",
    "# else: \n",
    "#     print('you lose. the correct num is ', secret)\n"
   ]
  },
  {
   "cell_type": "code",
   "execution_count": 305,
   "metadata": {},
   "outputs": [
    {
     "name": "stdout",
     "output_type": "stream",
     "text": [
      "1 Used a for loop\n",
      "2 Used a for loop\n",
      "3 Used a for loop\n",
      "4 Used a for loop\n",
      "1\n",
      "2\n",
      "3\n",
      "4\n"
     ]
    }
   ],
   "source": [
    "# The code below prints the numbers from 1 to 50. Rewrite the code using a while loop to\n",
    "# accomplish the same thing.\n",
    "\n",
    "for i in range(1,5):\n",
    "    print(i, 'Used a for loop')\n",
    "\n",
    "i=1\n",
    "while i<5: \n",
    "    print(i)\n",
    "    i+=1"
   ]
  },
  {
   "cell_type": "code",
   "execution_count": 306,
   "metadata": {},
   "outputs": [
    {
     "name": "stdout",
     "output_type": "stream",
     "text": [
      "y\n",
      "u\n",
      "t\n",
      "i\n",
      "k\n"
     ]
    }
   ],
   "source": [
    "# (a) Write a program that uses a while loop (not a for loop) to read through a string and print\n",
    "# the characters of the string one-by-one on separate lines.\n",
    "# (b) Modify the program above to print out every second character of the string.\n",
    "\n",
    "#b\n",
    "mystring = 'you think'\n",
    "i=0\n",
    "while i < len(mystring): \n",
    "    print(mystring[i])\n",
    "    i+=2  #a: i+=1"
   ]
  },
  {
   "cell_type": "code",
   "execution_count": 307,
   "metadata": {},
   "outputs": [
    {
     "name": "stdout",
     "output_type": "stream",
     "text": [
      "the weight in pound is 4.54\n"
     ]
    }
   ],
   "source": [
    "# A good program will make sure that the data its users enter is valid. Write a program that\n",
    "# asks the user for a weight and converts it from kilograms to pounds. Whenever the user\n",
    "# enters a weight below 0, the program should tell them that their entry is invalid and then ask\n",
    "# them again to enter a weight. [Hint: Use a while loop, not an if statement].\n",
    "\n",
    "myweight = 10\n",
    "while myweight >0: \n",
    "    print('the weight in pound is', myweight/1000*454)\n",
    "    break\n",
    "else: \n",
    "    print('can not be negative') "
   ]
  },
  {
   "cell_type": "code",
   "execution_count": 308,
   "metadata": {},
   "outputs": [
    {
     "name": "stdout",
     "output_type": "stream",
     "text": [
      "wrong password please enter the right one\n",
      "wrong password please enter the right one\n",
      "wrong password please enter the right one\n",
      "wrong password please enter the right one\n",
      "wrong password please enter the right one\n",
      "you are kicked off the system\n"
     ]
    }
   ],
   "source": [
    "# Write a program that asks the user to enter a password. If the user enters the right password,\n",
    "# the program should tell them they are logged in to the system. Otherwise, the program\n",
    "# should ask them to reenter the password. The user should only get five tries to enter the\n",
    "# password, after which point the program should tell them that they are kicked off of the\n",
    "# system.\n",
    "password = '123456'\n",
    "count=0\n",
    "entered = ''\n",
    "while entered != password and count<5:\n",
    "#     entered = eval(input('enter your password ')) #uncomment this line to make it work\n",
    "    count+=1\n",
    "    print('wrong password please enter the right one')\n",
    "if count==5 and entered != password: \n",
    "    print('you are kicked off the system')\n",
    "else: \n",
    "    print('you got the right password')\n",
    "    "
   ]
  },
  {
   "cell_type": "code",
   "execution_count": 309,
   "metadata": {},
   "outputs": [
    {
     "name": "stdout",
     "output_type": "stream",
     "text": [
      "[]\n",
      "0\n"
     ]
    }
   ],
   "source": [
    "### Write a program that allows the user to enter any number of test scores. The user indicates\n",
    "# they are done by entering in a negative number. Print how many of the scores are A’s (90 or\n",
    "# above). Also print out the average.\n",
    "\n",
    "# entered = 1 \n",
    "entered = -10  #comment this line and uncomment the above line\n",
    "enters=[]\n",
    "while entered>0: \n",
    "#     entered = eval(input('Please enter a number ')) #uncomment this line\n",
    "    entered = 3 #comment this line and uncomment the above line\n",
    "    enters.append(entered)\n",
    "    print('enters in while',enters)\n",
    "if entered <0:\n",
    "    enters = enters[:-1]\n",
    "    print(enters)\n",
    "    print(len([i for i in enters if i>5]))"
   ]
  },
  {
   "cell_type": "code",
   "execution_count": 310,
   "metadata": {},
   "outputs": [
    {
     "name": "stdout",
     "output_type": "stream",
     "text": [
      "no z in python exercise\n"
     ]
    }
   ],
   "source": [
    "# Recall that, given a string s, s.index('x') returns the index of the first x in s and an error\n",
    "# if there is no x.\n",
    "# (a) Write a program that asks the user for a string and a letter. Using a while loop, the\n",
    "# program should print the index of the first occurrence of that letter and a message if the\n",
    "# string does not contain the letter.\n",
    "# (b) Write the above program using a for/break loop instead of a while loop.\n",
    "\n",
    "mystring='python exercise'\n",
    "letter = mystring[0]\n",
    "while letter in mystring: \n",
    "#     letter = input('please enter a letter ') #uncomment this line to make it work\n",
    "    letter = 'z' #fake line to make it run all. please delete this line\n",
    "    if letter in mystring: \n",
    "        print(mystring.index(letter))\n",
    "    else: \n",
    "        print('no', letter, 'in',mystring)\n",
    "        break"
   ]
  },
  {
   "cell_type": "code",
   "execution_count": 311,
   "metadata": {},
   "outputs": [
    {
     "name": "stdout",
     "output_type": "stream",
     "text": [
      "have\n"
     ]
    }
   ],
   "source": [
    "# Write a program that has a list of ten words, some of which have repeated letters and some\n",
    "# which don’t. Write a program that picks a random word from the list that does not have any\n",
    "# repeated letters.\n",
    "words = ['some', 'which', 'have', 'repeated', 'letters', 'and', 'write', 'program']\n",
    "repeatresult=False\n",
    "norepeats=[]\n",
    "\n",
    "def repeatedletter(word): \n",
    "    for letter in word: \n",
    "        if word.count(letter)>1: \n",
    "            return True\n",
    "for word in words: \n",
    "    if repeatedletter(word)!=True: \n",
    "        norepeats.append(word)\n",
    "from random import choice\n",
    "print(choice(norepeats))"
   ]
  },
  {
   "cell_type": "code",
   "execution_count": 312,
   "metadata": {},
   "outputs": [
    {
     "name": "stdout",
     "output_type": "stream",
     "text": [
      "60\n",
      "96\n",
      "56\n",
      "16\n",
      "-24\n",
      "chip amount is -24 . End\n"
     ]
    }
   ],
   "source": [
    "# Write a program to play the following simple game. The player starts with $100. On each\n",
    "# turn a coin is flipped and the player has to guess heads or tails. The player wins $18 for each\n",
    "# correct guess and loses $20 for each incorrect guess. The game ends either when the player\n",
    "# runs out of money or gets to $200.\n",
    "from random import choice\n",
    "chips = 100\n",
    "\n",
    "while 0<=chips<200: \n",
    "    coinresult = choice(['head', 'tail'])\n",
    "#     guess = input('head of tail: ') # uncomment this line to make it work\n",
    "    guess = 'head'#comment this line and uncomment the above line\n",
    "    if coinresult ==guess: \n",
    "        chips+=36\n",
    "    else: \n",
    "        chips-=40\n",
    "    print(chips)\n",
    "if chips <0 or chips >=200: \n",
    "    print('chip amount is', chips, '. End')\n"
   ]
  },
  {
   "cell_type": "markdown",
   "metadata": {},
   "source": [
    "## 10. Miscellaneous Topics II"
   ]
  },
  {
   "cell_type": "markdown",
   "metadata": {},
   "source": [
    "### Print Formatting\n",
    "\n",
    "How does the format method work? "
   ]
  },
  {
   "cell_type": "code",
   "execution_count": 313,
   "metadata": {},
   "outputs": [
    {
     "name": "stdout",
     "output_type": "stream",
     "text": [
      "  200\n",
      " 200 \n",
      "200  \n",
      "200\n",
      "1,000\n"
     ]
    }
   ],
   "source": [
    "# format integers:  the formatting code is '{:xd}'.format(int)  \n",
    "print('{:5d}'.format(200))  # right justified. __200\n",
    "print('{:^5d}'.format(200)) # center justified. _200_\n",
    "print('{:<5d}'.format(200)) # left justified. 200__\n",
    "print(200)\n",
    "\n",
    "# put comma into a large integer\n",
    "print('{:,d}'.format(1000))"
   ]
  },
  {
   "cell_type": "code",
   "execution_count": 314,
   "metadata": {},
   "outputs": [
    {
     "name": "stdout",
     "output_type": "stream",
     "text": [
      "   100.000\n",
      " 100.000  \n",
      "100.000   \n",
      "100.000\n"
     ]
    }
   ],
   "source": [
    "# format float: the formatting code is '{:y.xf}'.format(float) which means x decimal, with y spots in total\n",
    "print('{:10.3f}'.format(100.0)) # right justified. ___100.000\n",
    "print('{:^10.3f}'.format(100.0))# center justified. _100.000__\n",
    "print('{:<10.3f}'.format(100.0))# left justified. 100.000___\n",
    "print('{:.3f}'.format(100.0)) "
   ]
  },
  {
   "cell_type": "code",
   "execution_count": 315,
   "metadata": {},
   "outputs": [
    {
     "name": "stdout",
     "output_type": "stream",
     "text": [
      "    hi\n",
      " there\n"
     ]
    }
   ],
   "source": [
    "# format string: The formatting code is '{:xs}'.format(string) which means x spots in total\n",
    "print('{:>6s}'.format('hi')) #right justified\n",
    "print('{:>6s}'.format('there'))#right justified"
   ]
  },
  {
   "cell_type": "code",
   "execution_count": 316,
   "metadata": {},
   "outputs": [
    {
     "name": "stdout",
     "output_type": "stream",
     "text": [
      "Tip: $5.90, Total: $29.50\n"
     ]
    }
   ],
   "source": [
    "bill = 23.60\n",
    "tip = 23.60*.25\n",
    "print('Tip: ${:.2f}, Total: ${:.2f}'.format(tip, bill+tip))"
   ]
  },
  {
   "cell_type": "code",
   "execution_count": 317,
   "metadata": {},
   "outputs": [
    {
     "name": "stdout",
     "output_type": "stream",
     "text": [
      "[3, 6, 9, 12, 15, 18, 21, 24, 27, 30, 33, 36, 39, 42, 45, 48, 51, 54, 57, 60, 63, 66, 69, 72, 75, 78, 81, 84, 87, 90, 93, 96, 99]\n",
      "1 hearts\n",
      "2 hearts\n",
      "3 hearts\n",
      "4 hearts\n",
      "5 hearts\n",
      "6 hearts\n",
      "7 hearts\n",
      "8 hearts\n",
      "9 hearts\n",
      "10 hearts\n",
      "J hearts\n",
      "Q hearts\n",
      "K hearts\n",
      "1 diamonds\n",
      "2 diamonds\n",
      "3 diamonds\n",
      "4 diamonds\n",
      "5 diamonds\n",
      "6 diamonds\n",
      "7 diamonds\n",
      "8 diamonds\n",
      "9 diamonds\n",
      "10 diamonds\n",
      "J diamonds\n",
      "Q diamonds\n",
      "K diamonds\n",
      "1 clubs\n",
      "2 clubs\n",
      "3 clubs\n",
      "4 clubs\n",
      "5 clubs\n",
      "6 clubs\n",
      "7 clubs\n",
      "8 clubs\n",
      "9 clubs\n",
      "10 clubs\n",
      "J clubs\n",
      "Q clubs\n",
      "K clubs\n",
      "1 spades\n",
      "2 spades\n",
      "3 spades\n",
      "4 spades\n",
      "5 spades\n",
      "6 spades\n",
      "7 spades\n",
      "8 spades\n",
      "9 spades\n",
      "10 spades\n",
      "J spades\n",
      "Q spades\n",
      "K spades\n"
     ]
    }
   ],
   "source": [
    "# Write a program that uses list and range to create the list [3,6,9, . . . , 99].\n",
    "print([i*3 for i in range(1,34) ])\n",
    "\n",
    "# write a set of poker\n",
    "suits = ['hearts', 'diamonds', 'clubs', 'spades']\n",
    "values = ['1', '2', '3', '4', '5', '6', '7', '8', '9', '10', 'J', 'Q', 'K']\n",
    "for suit in suits: \n",
    "    for value in values: \n",
    "        print(value, suit)"
   ]
  },
  {
   "cell_type": "code",
   "execution_count": 318,
   "metadata": {},
   "outputs": [
    {
     "name": "stdout",
     "output_type": "stream",
     "text": [
      "non unique values\n"
     ]
    }
   ],
   "source": [
    "# Write a program that uses a boolean flag variable in determining whether two lists have any\n",
    "# items in common.\n",
    "values1 = ['1', '2', '3', '4', '5', '6', '7', '8', '9', '10', 'J', 'Q', 'K']\n",
    "values2 = ['1', '2', '3', '4', 'joker']\n",
    "values = values1+values2\n",
    "uni_values = []\n",
    "for value in values: \n",
    "    if value not in uni_values: \n",
    "        uni_values.append(value)\n",
    "if len(values1)==len(uni_values) and len(values2)==len(uni_values): \n",
    "    print('all unique values')\n",
    "else: \n",
    "    print('non unique values')"
   ]
  },
  {
   "cell_type": "code",
   "execution_count": 319,
   "metadata": {},
   "outputs": [
    {
     "name": "stdout",
     "output_type": "stream",
     "text": [
      "4 18 78\n",
      "8 11 81\n",
      "12 4 84\n"
     ]
    }
   ],
   "source": [
    "# Write a program to find all four solutions to the following problem: If a starfruit is worth $5,\n",
    "# a mango is worth $3, and three oranges together cost $1, how many starfruits, mangoes, and\n",
    "# oranges, totaling 100, can be bought for $100?\n",
    "\n",
    "for s in range(1,100): \n",
    "    for m in range(1, 100): \n",
    "        for o in range(1, 100): \n",
    "            if s*5+m*3+1/3*o==100 and s+m+o==100 : \n",
    "                print(s, m, o)"
   ]
  },
  {
   "cell_type": "markdown",
   "metadata": {},
   "source": [
    "## 11. Dictionaries"
   ]
  },
  {
   "cell_type": "code",
   "execution_count": 320,
   "metadata": {},
   "outputs": [
    {
     "name": "stdout",
     "output_type": "stream",
     "text": [
      "4\n"
     ]
    }
   ],
   "source": [
    "points = {'A':1, 'B':3, 'C':3, 'D':2, 'E':1, 'F':4, 'G':2,'H':4, 'I':1, 'J':8, \n",
    "          'K':5, 'L':1, 'M':3, 'N':1,'O':1, 'P':3, 'Q':10, 'R':1, 'S':1, 'T':1,\n",
    "          'U':1,'V':4, 'W':4, 'X':8, 'Y':4, 'Z':10}\n",
    "total = sum(points[v] for v in ['A','B'])\n",
    "print(total)"
   ]
  },
  {
   "cell_type": "code",
   "execution_count": 321,
   "metadata": {},
   "outputs": [
    {
     "name": "stdout",
     "output_type": "stream",
     "text": [
      "[{'key': 2, 'value': 'spades'}, {'key': 3, 'value': 'spades'}, {'key': 4, 'value': 'spades'}, {'key': 5, 'value': 'spades'}, {'key': 6, 'value': 'spades'}, {'key': 7, 'value': 'spades'}, {'key': 8, 'value': 'spades'}, {'key': 9, 'value': 'spades'}, {'key': 10, 'value': 'spades'}, {'key': 11, 'value': 'spades'}, {'key': 12, 'value': 'spades'}, {'key': 13, 'value': 'spades'}, {'key': 14, 'value': 'spades'}, {'key': 2, 'value': 'clubs'}, {'key': 3, 'value': 'clubs'}, {'key': 4, 'value': 'clubs'}, {'key': 5, 'value': 'clubs'}, {'key': 6, 'value': 'clubs'}, {'key': 7, 'value': 'clubs'}, {'key': 8, 'value': 'clubs'}, {'key': 9, 'value': 'clubs'}, {'key': 10, 'value': 'clubs'}, {'key': 11, 'value': 'clubs'}, {'key': 12, 'value': 'clubs'}, {'key': 13, 'value': 'clubs'}, {'key': 14, 'value': 'clubs'}, {'key': 2, 'value': 'hearts'}, {'key': 3, 'value': 'hearts'}, {'key': 4, 'value': 'hearts'}, {'key': 5, 'value': 'hearts'}, {'key': 6, 'value': 'hearts'}, {'key': 7, 'value': 'hearts'}, {'key': 8, 'value': 'hearts'}, {'key': 9, 'value': 'hearts'}, {'key': 10, 'value': 'hearts'}, {'key': 11, 'value': 'hearts'}, {'key': 12, 'value': 'hearts'}, {'key': 13, 'value': 'hearts'}, {'key': 14, 'value': 'hearts'}, {'key': 2, 'value': 'diamonds'}, {'key': 3, 'value': 'diamonds'}, {'key': 4, 'value': 'diamonds'}, {'key': 5, 'value': 'diamonds'}, {'key': 6, 'value': 'diamonds'}, {'key': 7, 'value': 'diamonds'}, {'key': 8, 'value': 'diamonds'}, {'key': 9, 'value': 'diamonds'}, {'key': 10, 'value': 'diamonds'}, {'key': 11, 'value': 'diamonds'}, {'key': 12, 'value': 'diamonds'}, {'key': 13, 'value': 'diamonds'}, {'key': 14, 'value': 'diamonds'}]\n",
      "2\n"
     ]
    }
   ],
   "source": [
    "# create a deck of cards\n",
    "deck = [{'key':k, 'value': v} \n",
    "for v in ['spades', 'clubs', 'hearts', 'diamonds']\n",
    "for k in range(2,15)]\n",
    "print(deck)\n",
    "print(deck[0]['key'])"
   ]
  },
  {
   "cell_type": "code",
   "execution_count": 322,
   "metadata": {},
   "outputs": [
    {
     "name": "stdout",
     "output_type": "stream",
     "text": [
      "{'A': 1, 'B': 3}\n",
      "['A', 'B']\n",
      "[1, 3]\n",
      "[('A', 1), ('B', 3)]\n"
     ]
    }
   ],
   "source": [
    "# Duplicate a dictionary\n",
    "d={'A':1,'B':3}\n",
    "d2 = d.copy()\n",
    "print(d2)\n",
    "\n",
    "print(list(d))  # get keys of a dictionary\n",
    "print(list(d.values()))  # get values of a dictionary\n",
    "print(list(d.items())) # get key value paires of a dictionary"
   ]
  },
  {
   "cell_type": "code",
   "execution_count": 323,
   "metadata": {},
   "outputs": [
    {
     "name": "stdout",
     "output_type": "stream",
     "text": [
      "{'next': 1, 'comes': 1, 'the': 6, 'dictionary': 2, 'code': 1, 'that': 1, 'does': 1, 'counting': 1, 'keys': 1, 'will': 2, 'be': 2, 'words': 1, 'from': 1, 'text': 1, 'and': 1, 'values': 1, 'counts': 1, 'of': 1, 'how': 1, 'many': 1, 'time': 1, 'each': 1, 'word': 1, 'appears': 1}\n",
      "[('next', 1), ('comes', 1), ('the', 6), ('dictionary', 2), ('code', 1), ('that', 1), ('does', 1), ('counting', 1), ('keys', 1), ('will', 2), ('be', 2), ('words', 1), ('from', 1), ('text', 1), ('and', 1), ('values', 1), ('counts', 1), ('of', 1), ('how', 1), ('many', 1), ('time', 1), ('each', 1), ('word', 1), ('appears', 1)]\n",
      "[(6, 'the'), (2, 'will'), (2, 'dictionary'), (2, 'be'), (1, 'words'), (1, 'word'), (1, 'values'), (1, 'time'), (1, 'that'), (1, 'text'), (1, 'of'), (1, 'next'), (1, 'many'), (1, 'keys'), (1, 'how'), (1, 'from'), (1, 'each'), (1, 'does'), (1, 'counts'), (1, 'counting'), (1, 'comes'), (1, 'code'), (1, 'appears'), (1, 'and')]\n"
     ]
    }
   ],
   "source": [
    "# count number of words in a paragraph\n",
    "text = 'Next comes the dictionary code that does the counting. The dictionary keys will be the words from \\\n",
    "the text and the values will be counts of how many time each word appears.'\n",
    "\n",
    "from string import punctuation\n",
    "for p in punctuation: \n",
    "    text = text.replace(p, '')\n",
    "text = text.lower()\n",
    "words = text.split()\n",
    "\n",
    "d={}\n",
    "for word in words: \n",
    "    if word in d: \n",
    "        d[word] +=1\n",
    "    else: \n",
    "        d[word]=1\n",
    "print(d)     \n",
    "\n",
    "# print the result in frequency in descending order\n",
    "items = list(d.items())\n",
    "print(items)\n",
    "items = [(i[1],i[0]) for i in items]\n",
    "items.sort()\n",
    "items.reverse()\n",
    "print(items)          "
   ]
  },
  {
   "cell_type": "code",
   "execution_count": 324,
   "metadata": {},
   "outputs": [
    {
     "name": "stdout",
     "output_type": "stream",
     "text": [
      "You are now logged in to the systsem\n"
     ]
    }
   ],
   "source": [
    "# Write a program that uses a dictionary that contains ten user names and passwords. The\n",
    "# program should ask the user to enter their username and password. If the username is not in\n",
    "# the dictionary, the program should indicate that the person is not a valid user of the system. If\n",
    "# the username is in the dictionary, but the user does not enter the right password, the program\n",
    "# should say that the password is invalid. If the password is correct, then the program should\n",
    "# tell the user that they are now logged in to the system.\n",
    "\n",
    "d = {'alice': 'a123', 'bob': 'b123', 'charlie': 'c123'}\n",
    "userEntered='charlie'\n",
    "passwordEnter = 'c123'\n",
    "if userEntered in d.keys(): \n",
    "    matchPassword = d[userEntered]\n",
    "    if matchPassword == passwordEnter:\n",
    "        print('You are now logged in to the systsem')\n",
    "    else: \n",
    "        print('Incorrect password')"
   ]
  },
  {
   "cell_type": "code",
   "execution_count": 325,
   "metadata": {},
   "outputs": [
    {
     "name": "stdout",
     "output_type": "stream",
     "text": [
      "0.25\n",
      "[1, 2, 0]\n",
      "['teamA', 'teamB', 'teamC']\n",
      "['teamA', 'teamB']\n"
     ]
    }
   ],
   "source": [
    "# Repeatedly ask the user to enter a team name and the how many games the team won and\n",
    "# how many they lost. Store this information in a dictionary where the keys are the team names\n",
    "# and the values are lists of the form [wins, losses].\n",
    "# (a) Using the dictionary created above, allow the user to enter a team name and print out\n",
    "# the team’s winning percentage.\n",
    "# (b) Using the dictionary, create a list whose entries are the number of wins of each team.\n",
    "# (c) Using the dictionary, create a list of all those teams that have winning records.\n",
    "\n",
    "resultd = {'teamA': [1,3], 'teamB':[2,3], 'teamC':[0,7] }\n",
    "enteredTeam='teamA'\n",
    "result= resultd[enteredTeam]\n",
    "#a\n",
    "print(result[0]/sum(result))\n",
    "#b\n",
    "resultl=list(resultd.values())\n",
    "# print(resultl)\n",
    "wins=[i[0] for i in resultl]\n",
    "print(wins)\n",
    "#c\n",
    "teaml=list(resultd.keys())\n",
    "print(teaml)\n",
    "i_s=[]\n",
    "for i, v in enumerate(wins): \n",
    "    if v >0: \n",
    "        i_s.append(i)\n",
    "winteams=[]\n",
    "for i in i_s: \n",
    "    winteams.append(teaml[i])\n",
    "print(winteams)\n",
    "\n"
   ]
  },
  {
   "cell_type": "code",
   "execution_count": 326,
   "metadata": {},
   "outputs": [
    {
     "data": {
      "text/plain": [
       "['teamA', 'teamB']"
      ]
     },
     "execution_count": 326,
     "metadata": {},
     "output_type": "execute_result"
    }
   ],
   "source": [
    "# get key from dictionary with condition\n",
    "resultd={'teamA':3, 'teamB': 2, 'teamC':0}\n",
    "[key for key, val in resultd.items() if val>0]\n"
   ]
  },
  {
   "cell_type": "markdown",
   "metadata": {},
   "source": [
    "## 12. Text Files\n"
   ]
  },
  {
   "cell_type": "code",
   "execution_count": 327,
   "metadata": {},
   "outputs": [],
   "source": [
    "# read file from a different directory\n",
    "\n",
    "# s = open('c:/users/heinold/desktop/file.txt').read()\n",
    "# s = open('file.txt').read #same directory"
   ]
  },
  {
   "cell_type": "code",
   "execution_count": 328,
   "metadata": {},
   "outputs": [],
   "source": [
    "# Write to a file\n",
    "# file1 = open('ftemps.txt', 'w')\n",
    "# temperatures = [line.strip() for line in open('temps.txt')]\n",
    "# for t in temperatures:\n",
    "#     print(t*9/5+32, file=file1)\n",
    "# file1.close()"
   ]
  },
  {
   "cell_type": "markdown",
   "metadata": {},
   "source": [
    "## 13. Functions"
   ]
  },
  {
   "cell_type": "markdown",
   "metadata": {},
   "source": [
    "## 14. Object Oriented Programming"
   ]
  },
  {
   "cell_type": "code",
   "execution_count": 329,
   "metadata": {},
   "outputs": [
    {
     "name": "stdout",
     "output_type": "stream",
     "text": [
      "14 2\n"
     ]
    }
   ],
   "source": [
    "class Example:\n",
    "    def __init__(self, a, b): # Constructor. To set up the class's variables.\n",
    "        self.a = a # The purpose of self is to distinguish your class’s variables and methods \n",
    "        self.b = b # from other variables and functions in the program.\n",
    "    def add(self): # Function. Define this 'add' function. \n",
    "        return self.a + self.b\n",
    "    def substract(self): \n",
    "        return self.a - self.b\n",
    "e = Example(8, 6)\n",
    "print(e.add(), e.substract())"
   ]
  },
  {
   "cell_type": "code",
   "execution_count": 330,
   "metadata": {},
   "outputs": [
    {
     "name": "stdout",
     "output_type": "stream",
     "text": [
      "['this', 'is', 'a', 'test', 'of', 'the', 'class']\n",
      "Number of words: 7\n",
      "Number of words starting with \"t\": 3\n",
      "Number of 2-letter words: 2\n",
      "7\n",
      "3\n",
      "2\n"
     ]
    }
   ],
   "source": [
    "# Here is a class called Analyzer that performs some simple analysis\n",
    "# on a string. There are methods to return 1. how many words are in the string, 2. how many are of a\n",
    "# given length, and 3. how many start with a given string.\n",
    "\n",
    "from string import punctuation\n",
    "class Analyzer: \n",
    "    \"\"\"Put in your explanation about this class here\"\"\"\n",
    "    def __init__(self, s): \n",
    "        for c in punctuation: \n",
    "            s = s.replace(c, '')\n",
    "        s = s.lower()\n",
    "        self.words = s.split()\n",
    "    def number_of_words(self): # 1.how many words \n",
    "        return (len(self.words))\n",
    "    def starts_with(self, givenString): # 3.how many start with a given string\n",
    "        return len([w for w in self.words if w[:len(givenString)]==givenString])\n",
    "    def number_with_length(self, n): # 2.how many are of a given length\n",
    "        return len([w for w in self.words if len(w)==n])\n",
    "        \n",
    "s = 'This is a test of the class.'\n",
    "analyzer = Analyzer(s)\n",
    "print(analyzer.words)\n",
    "print('Number of words:', analyzer.number_of_words())\n",
    "print('Number of words starting with \"t\":', analyzer.starts_with('t'))\n",
    "print('Number of 2-letter words:', analyzer.number_with_length(2))   \n",
    "# import math\n",
    "# print(math.cos(40))\n",
    "print(Analyzer(s).number_of_words())\n",
    "print(Analyzer(s).starts_with('t'))\n",
    "print(Analyzer(s).number_with_length(2))"
   ]
  },
  {
   "cell_type": "markdown",
   "metadata": {},
   "source": [
    "#### Class inheritance / Inherite from a class Syntax\n",
    "\n",
    "Indicate the parent class in parentheses in the class statement\n",
    "\n",
    "    class Child(Parent):\n",
    "The Child cclass gets all the variables and methods of the Parent class. It can then define additional variables and methods that are not present in the parent class, and can **override** the methods in the Parent class"
   ]
  },
  {
   "cell_type": "code",
   "execution_count": 331,
   "metadata": {},
   "outputs": [
    {
     "name": "stdout",
     "output_type": "stream",
     "text": [
      "hihi\n",
      "Parent method 1:  None\n",
      "hi!!!\n",
      "Parent method 2:  None\n",
      "\n",
      "hihihihihihihi\n",
      "Child method 1:  None\n",
      "hi!!!\n",
      "Child method 2:  None\n",
      "hibye\n",
      "Child method 3:  None\n"
     ]
    }
   ],
   "source": [
    "class Parent:\n",
    "    def __init__(self, a):\n",
    "        self.a = a\n",
    "    def method1(self):\n",
    "        print(self.a*2)\n",
    "    def method2(self):\n",
    "        print(self.a+'!!!')\n",
    "class Child(Parent):\n",
    "    def __init__(self, a, b):\n",
    "        self.a = a\n",
    "        self.b = b\n",
    "    def method1(self): #override Parent's method1\n",
    "        print(self.a*7)\n",
    "    def method3(self):\n",
    "        print(self.a + self.b)\n",
    "p = Parent('hi')\n",
    "c = Child('hi', 'bye')\n",
    "print('Parent method 1: ', p.method1())\n",
    "print('Parent method 2: ', p.method2())\n",
    "print()\n",
    "print('Child method 1: ', c.method1())\n",
    "print('Child method 2: ', c.method2())\n",
    "print('Child method 3: ', c.method3())"
   ]
  },
  {
   "cell_type": "code",
   "execution_count": 332,
   "metadata": {},
   "outputs": [
    {
     "name": "stdout",
     "output_type": "stream",
     "text": [
      "The value of this class's variables are:\n",
      "quiz\n",
      "None\n",
      "------------\n",
      "The value of this class's variables are:\n",
      "test\n",
      "exam\n",
      "None\n"
     ]
    }
   ],
   "source": [
    "class Parent:\n",
    "    def __init__(self, a):\n",
    "        self.a = a\n",
    "    def print_var(self):\n",
    "        print(\"The value of this class's variables are:\")\n",
    "        print(self.a)\n",
    "        \n",
    "class Child(Parent):\n",
    "    def __init__(self, a, b):\n",
    "        Parent.__init__(self, a)\n",
    "        self.b = b\n",
    "    def print_var(self):\n",
    "        Parent.print_var(self)\n",
    "        print(self.b)\n",
    "        \n",
    "p=Parent('quiz')\n",
    "print(p.print_var())\n",
    "print('------------')\n",
    "\n",
    "c = Child('test', 'exam')\n",
    "print(c.print_var())"
   ]
  },
  {
   "cell_type": "code",
   "execution_count": 333,
   "metadata": {},
   "outputs": [
    {
     "name": "stdout",
     "output_type": "stream",
     "text": [
      "\n",
      " 3 of Spades\n",
      "Right! That's 1 in a row!\n",
      "Right! That's 2 in a row!\n"
     ]
    }
   ],
   "source": [
    "# We will create a simple hi-lo card game where the user is given a card and they have to say if \n",
    "# the next card will be higher or lower than it. This game could easily be done without classes, but we will\n",
    "# create classes to represent a card and a deck of cards, and these classes can be reused in other card games.\n",
    "class Card:\n",
    "    \"\"\"Tells how to print out a card\"\"\"\n",
    "    def __init__(self, value, suit):\n",
    "        self.value = value\n",
    "        self.suit = suit\n",
    "    def __str__(self): #tells the print function how to print a Card object\n",
    "        names = ['Jack', 'Queen', 'King', 'Ace']\n",
    "        if self.value <= 10:\n",
    "            return '{} of {}'.format(self.value, self.suit)\n",
    "        else:\n",
    "            return '{} of {}'.format(names[self.value-11], self.suit)\n",
    "\n",
    "# Next we have a class to represent a group of cards. Its data consists of a list of Card objects. It\n",
    "# has a number of methods: nextCard which removes the first card from the list and returns it;\n",
    "# hasCard which returns True or False depending on if there are any cards left in the list; size,\n",
    "# which returns how many cards are in the list; and shuffle, which shuffles the list.\n",
    "import random\n",
    "class Card_group():\n",
    "    def __init__(self, cards=[]):\n",
    "        self.cards = cards\n",
    "    def nextCard(self):\n",
    "        return self.cards.pop(0)\n",
    "    def hasCard(self):\n",
    "        return len(self.cards)>0\n",
    "    def size(self):\n",
    "        return len(self.cards)\n",
    "    def shuffle(self):\n",
    "        random.shuffle(self.cards)\n",
    "\n",
    "# We have one more class Standard_deck, which inherits from Card_group. The idea here is that\n",
    "# Card_group represents an arbitrary group of cards, and Standard_deck represents a specific\n",
    "# group of cards, namely the standard deck of 52 cards used in most card games.\n",
    "class Standard_deck(Card_group):\n",
    "    def __init__(self):\n",
    "        self.cards = []\n",
    "        for s in ['Hearts', 'Diamonds', 'Clubs', 'Spades']:\n",
    "            for v in range(2,15):\n",
    "                self.cards.append(Card(v, s))\n",
    "                \n",
    "# Suppose we had just created a single class that represented a standard deck along with all the\n",
    "# common operations like shuffling. If we wanted to create a new class for a Pinochle game or some\n",
    "# other game that doesn’t use the standard deck, then we would have to copy and paste the standard\n",
    "# deck code and modify lots of things. By doing things more generally, like we’ve done here, each\n",
    "# time we want a new type of deck, we can build off of of (inherit from) what is in Card_group. For\n",
    "# instance, A Pinochle deck has only nines, tens, jacks, queens, kings, and aces. \n",
    "# There are two copies of each card in each suit.\n",
    "# class Pinochle_deck(Card_group):\n",
    "#     def __init__(self):\n",
    "#         self.cards = []\n",
    "#         for s in ['Hearts', 'Diamonds', 'Clubs', 'Spades']*2:\n",
    "#             for v in range(9,15):\n",
    "#                 self.cards.append(Card(v, s))\n",
    "\n",
    "# Now play the hi-low game,we get a new deck of cards, shuffle it, and then deal out the cards \n",
    "# one at a time. When we run out of cards, we get a new deck and shuffle it. A nice feature of \n",
    "# this game is that it deals out all 52 cards of a deck, so a player can use their memory to \n",
    "# help them play the game.\n",
    "\n",
    "deck = Standard_deck()\n",
    "deck.shuffle()\n",
    "new_card = deck.nextCard()\n",
    "\n",
    "print('\\n', new_card)\n",
    "choice = 'h'#Comment this line and replace with: choice = input(\"Enter h (higher) or l (lower): \")\n",
    "streak = 0\n",
    "\n",
    "while (choice=='h' or choice=='l'):\n",
    "    if not deck.hasCard():\n",
    "        deck = Standard_deck()\n",
    "        deck.shuffle()\n",
    "    old_card = new_card\n",
    "    new_card = deck.nextCard()\n",
    "    if (choice.lower()=='h' and new_card.value>old_card.value or \\\n",
    "        choice.lower()=='l' and new_card.value<old_card.value):\n",
    "            streak = streak + 1\n",
    "            print(\"Right! That's\", streak, \"in a row!\")\n",
    "    elif (choice.lower()=='h' and new_card.value<old_card.value or\\\n",
    "          choice.lower()=='l' and new_card.value>old_card.value):\n",
    "            streak = 0\n",
    "            print('Wrong.')\n",
    "    else:\n",
    "        print('Push.')\n",
    "        print('\\n', new_card)\n",
    "#         choice = input(\"Higher (h) or lower (l): \") \n",
    "        choice = 'h'#Comment this line and replace with the above line\n",
    "    if streak==2: #Uncomment this line to make the game plays properly\n",
    "        break #Uncomment this line to make the game plays properly"
   ]
  },
  {
   "cell_type": "code",
   "execution_count": 334,
   "metadata": {},
   "outputs": [],
   "source": [
    "# copying objects. \n",
    "x_copy = x  # this is wrong!!!\n",
    "#proper way is: \n",
    "from copy import copy\n",
    "x_copy = copy(x)\n",
    "\n",
    "# You can save your object.  Save it in a file in the same directory, then use import: \n",
    "# from analyzer import Analyzer"
   ]
  },
  {
   "cell_type": "code",
   "execution_count": 335,
   "metadata": {},
   "outputs": [
    {
     "name": "stdout",
     "output_type": "stream",
     "text": [
      "110.25\n",
      "With a pricipal of $100 and interest rate of 0.053, value after 2 year(s) is $110.88\n"
     ]
    }
   ],
   "source": [
    "# Write a class called Investment with fields called principal and interest. The constructor\n",
    "# should set the values of those fields. There should be a method called value_after that\n",
    "# returns the value of the investment after n years. The formula for this is p(1 + i)n, where p is\n",
    "# the principal, and i is the interest rate. It should also use the special method __str__ so that\n",
    "# printing the object will result in something like below:\n",
    "# Principal - $1000.00, Interest rate - 5.12%\n",
    "\n",
    "class Aftervalue: \n",
    "    def __init__(self, principal, interest, year): \n",
    "        self.principal = principal\n",
    "        self.interest = interest\n",
    "        self.year = year\n",
    "    def value_after(self): \n",
    "        return (1+self.interest)**self.year*self.principal\n",
    "\n",
    "print(Aftervalue(100, 0.05, 2).value_after())\n",
    "\n",
    "class Investment(Aftervalue): \n",
    "    def __init__(self, principal, interest, year): \n",
    "        self.principal = principal\n",
    "        self.interest = interest\n",
    "        self.year = year\n",
    "    def __str__(self): \n",
    "        return 'With a pricipal of ${} and interest rate of {}, value after {} year(s) is ${:.2f}'\\\n",
    "               .format(self.principal, self.interest, self.year, self.value_after())\n",
    "print(Investment(100, 0.053, 2, ))   "
   ]
  },
  {
   "cell_type": "code",
   "execution_count": 336,
   "metadata": {},
   "outputs": [
    {
     "name": "stdout",
     "output_type": "stream",
     "text": [
      "Bought 20 apple for $18.00, quantity left is 980\n"
     ]
    }
   ],
   "source": [
    "# Write a class called Product. The class should have fields called name, amount, and price,\n",
    "# holding the product’s name, the number of items of that product in stock, and the regular\n",
    "# price of the product. There should be a method get_price that receives the number of\n",
    "# items to be bought and returns a the cost of buying that many items, where the regular price\n",
    "# is charged for orders of less than 10 items, a 10% discount is applied for orders of between\n",
    "# 10 and 99 items, and a 20% discount is applied for orders of 100 or more items. There should\n",
    "# also be a method called make_purchase that receives the number of items to be bought and\n",
    "# decreases amount(quanAfter) by that much.\n",
    "# in this exercise I am buying 20 apples w/ regPrice=1.00. Total=$18. 1000 apples before purchase\n",
    "\n",
    "class Discount(): \n",
    "    def __init__(self, quantity): \n",
    "        self.quantity = quantity\n",
    "    def discount(self): \n",
    "        if self.quantity <10: \n",
    "            return 0\n",
    "        elif 10<=self.quantity<=99: \n",
    "            return 0.1\n",
    "        elif self.quantity>=100: \n",
    "            return 0.2\n",
    "# print(Discount(20).discount())\n",
    "\n",
    "class Bill(Discount): \n",
    "    def __init__(self,productName, regPrice, quantity): \n",
    "        self.productName = productName\n",
    "        self.regPrice = regPrice\n",
    "        self.quantity = quantity\n",
    "    def total(self): \n",
    "        return (1-self.discount()) * self.regPrice * self.quantity\n",
    "    def __str__(self): \n",
    "        return 'Bought {} {} for ${:.2f}'.format(self.quantity, self.productName, self.total())\n",
    "# print(Bill('apple', 1.00, 20).total())\n",
    "# print(Bill('apple', 1.00, 20))\n",
    "\n",
    "class Product(Bill):\n",
    "    def __init__(self, productName, regPrice, quantity, quanBefore): \n",
    "        self.productName = productName\n",
    "        self.regPrice = regPrice\n",
    "        self.quantity = quantity\n",
    "        self.quanBefore = quanBefore\n",
    "    def quanAfter(self): \n",
    "        return self.quanBefore - self.quantity\n",
    "    def __str__(self): \n",
    "        return 'Bought {} {} for ${:.2f}, quantity left is {}'.\\\n",
    "                format(self.quantity, self.productName, self.total(), self.quanAfter())\n",
    "print(Product('apple', 1.00, 20, 1000))"
   ]
  },
  {
   "cell_type": "code",
   "execution_count": 337,
   "metadata": {},
   "outputs": [
    {
     "name": "stdout",
     "output_type": "stream",
     "text": [
      "['shp', 'shr']\n",
      "['pdfs', 'xls']\n",
      "['abba', 'pdfs', 'daad']\n",
      "['abba', 'daad']\n",
      "['abba']\n",
      "['pdfs', 'shp', 'shr', 'xls', 'daad']\n"
     ]
    }
   ],
   "source": [
    "# Write a class called Wordplay. It should have a field that holds a list of words. The user\n",
    "# of the class should pass the list of words they want to use to the class. There should be the\n",
    "# following methods:\n",
    "# • words_with_length(length)— returns a list of all the words of length length\n",
    "# • starts_with(s)— returns a list of all the words that start with s\n",
    "# • ends_with(s)— returns a list of all the words that end with s\n",
    "# • palindromes()— returns a list of all the palindromes in the list\n",
    "# • only(L)— returns a list of the words that contain only those letters in L\n",
    "# • avoids(L)— returns a list of the words that contain none of the letters in L\n",
    "# I am going to make it starts/ends with s and L = 'ab'\n",
    "\n",
    "listOfWordsExp3 = ['abba', 'pdfs', 'shp', 'shr', 'xls', 'daad' ]\n",
    "LExp3='ab'\n",
    "startWith=endWith='s'\n",
    "length = 4\n",
    "\n",
    "class cls_get_unique(): \n",
    "    def __init__(self, mylist): \n",
    "        self.mylist = mylist\n",
    "    def get_unique(self): \n",
    "        uni_values = []\n",
    "        for i in self.mylist: \n",
    "            if i not in uni_values: \n",
    "                uni_values.append(i)\n",
    "        return uni_values\n",
    "# print('unique_value of LExp is', cls_get_unique([j for j in LExp]).get_unique())   \n",
    "\n",
    "\n",
    "class cls_get_only(cls_get_unique): \n",
    "    def __init__(self, listOfWordsExp, LExp): \n",
    "        self.listOfWordsExp=listOfWordsExp\n",
    "        self.LExp = LExp\n",
    "    def get_only(self):\n",
    "        i_s=[]\n",
    "        for i in self.listOfWordsExp:\n",
    "            if cls_get_unique([j for j in i]).get_unique()==cls_get_unique([j for j in self.LExp]).get_unique(): \n",
    "                i_s.append(i)\n",
    "        return i_s        \n",
    "# print(cls_get_only(listOfWordsExp, LExp).get_only())\n",
    "\n",
    "class cls_get_avoid(cls_get_only):\n",
    "    def __init__(self, listOfWordsExp, LExp): \n",
    "        self.listOfWordsExp = listOfWordsExp\n",
    "        self.LExp = LExp\n",
    "    def get_avoid(self): \n",
    "        return [i for i in self.listOfWordsExp if i not in cls_get_only(self.listOfWordsExp, self.LExp).get_only()]\n",
    "# print(cls_get_avoid(listOfWordsExp, LExp).get_avoid())\n",
    "# print('--------')\n",
    "\n",
    "class Wordplay(cls_get_avoid): \n",
    "    def __init__(self, listOfWordsExp, startWith, endWith,LExp, length):\n",
    "        self.listOfWordsExp = listOfWordsExp\n",
    "        self.startWith = startWith\n",
    "        self.endWith = endWith\n",
    "        self.length = length\n",
    "        self.LExp=LExp\n",
    "    def start_list(self): \n",
    "        return [i for i in self.listOfWordsExp if i[0]==startWith]\n",
    "    def end_list(self): \n",
    "        return [i for i in self.listOfWordsExp if i[-1]==endWith]\n",
    "    def words_with_length(self): \n",
    "        return [i for i in self.listOfWordsExp if len(i)==length]\n",
    "    def palindrome(self): \n",
    "        return [i for i in self.listOfWordsExp if i[::-1]==i[:]]\n",
    "    def list_of_only(self): \n",
    "        return self.get_only()\n",
    "    def list_of_avoid(self): \n",
    "        return self.get_avoid()\n",
    "\n",
    "print(Wordplay(listOfWordsExp3,startWith,endWith, LExp3, length ).start_list())\n",
    "print(Wordplay(listOfWordsExp3,startWith,endWith, LExp3, length ).end_list())\n",
    "print(Wordplay(listOfWordsExp3,startWith,endWith, LExp3, length ).words_with_length())\n",
    "print(Wordplay(listOfWordsExp3,startWith,endWith, LExp3, length ).palindrome())\n",
    "print(Wordplay(listOfWordsExp3,startWith,endWith, LExp3, length ).list_of_only())\n",
    "print(Wordplay(listOfWordsExp3,startWith,endWith, LExp3, length ).list_of_avoid())"
   ]
  },
  {
   "cell_type": "markdown",
   "metadata": {},
   "source": [
    "## 15. GUI Programming with Tkinter \n",
    "## 16. GUI Programming II\n",
    "## 17. GUI Programming III\n",
    "## 18. GUI Programming Python 2 vs. Python 3\n"
   ]
  },
  {
   "cell_type": "markdown",
   "metadata": {},
   "source": [
    "## 19. Miscellaneous topics III"
   ]
  },
  {
   "cell_type": "markdown",
   "metadata": {},
   "source": [
    "### 19.1 Mutation"
   ]
  },
  {
   "cell_type": "code",
   "execution_count": 338,
   "metadata": {},
   "outputs": [
    {
     "name": "stdout",
     "output_type": "stream",
     "text": [
      "[1, 2, 3] [1, 2, 3]\n",
      "[9, 2, 3] [9, 2, 3]\n",
      "[9, 2, 3] [1, 2, 3]\n"
     ]
    }
   ],
   "source": [
    "### List and Mutate. List is mutable. \n",
    "# when you change one item in the list, the copied list will be mutated. \n",
    "# To keep the original value, use list.copy()\n",
    "mylist = [1,2,3]\n",
    "copylist = mylist\n",
    "print(mylist, copylist)\n",
    "\n",
    "mylist[0]= 9\n",
    "print(mylist, copylist)\n",
    "\n",
    "mylist = [1,2,3]\n",
    "use_copy_func=mylist.copy()\n",
    "mylist[0]=9\n",
    "print(mylist, use_copy_func)\n",
    "      "
   ]
  },
  {
   "cell_type": "markdown",
   "metadata": {},
   "source": [
    "### 19.2 Tuples ()\n",
    "\n",
    "Tuples has pretty much same functionality as list, except that: \n",
    "1. Tuples are NOT mutable (unlike list)\n",
    "2. Tuples has same functions like list: len, count, index. But do NOT have sort() and reverse()"
   ]
  },
  {
   "cell_type": "code",
   "execution_count": 339,
   "metadata": {},
   "outputs": [
    {
     "name": "stdout",
     "output_type": "stream",
     "text": [
      "(1, 2, 3) ('c', 'b', 'a')\n"
     ]
    }
   ],
   "source": [
    "# To convert into tuples, use tuple(object): \n",
    "t1 = tuple([1,2,3])\n",
    "t2 = tuple('cba')\n",
    "print(t1, t2)"
   ]
  },
  {
   "cell_type": "markdown",
   "metadata": {},
   "source": [
    "### 19.3 Sets {}\n",
    "Note the difference sets and dictionary - both use {}.\n",
    "\n",
    "Set is NOT mutable. \n",
    "\n",
    "Set has NO order\n",
    "\n",
    "Set can has NO repeats (No Duplicates)"
   ]
  },
  {
   "cell_type": "code",
   "execution_count": 340,
   "metadata": {},
   "outputs": [
    {
     "name": "stdout",
     "output_type": "stream",
     "text": [
      "{1, 2, 3}\n",
      "{33, 11, 22} {1, 2, 3}\n"
     ]
    }
   ],
   "source": [
    "# set is NOT mutable\n",
    "set1 = set([1,2,3])\n",
    "print(set1)\n",
    "copyset = set1\n",
    "set1={11,22,33}\n",
    "print(set1, copyset)"
   ]
  },
  {
   "cell_type": "code",
   "execution_count": 341,
   "metadata": {},
   "outputs": [
    {
     "name": "stdout",
     "output_type": "stream",
     "text": [
      "{} set()\n",
      "{'e', 't', 'i', 'a', 's', 'h', ' '}\n",
      "{'e', 't', 'i', 'a', 's', 'h', ' '}\n"
     ]
    }
   ],
   "source": [
    "mydict = {}  #create an empty dictionary\n",
    "myset = set() #create an empty set\n",
    "print(mydict, myset)\n",
    "print(set('this is a test'))\n",
    "print(set('test a is this'))"
   ]
  },
  {
   "cell_type": "code",
   "execution_count": 342,
   "metadata": {},
   "outputs": [
    {
     "name": "stdout",
     "output_type": "stream",
     "text": [
      "{1, 2, 3, 4}\n",
      "{1, 3}\n",
      "{2}\n",
      "{2, 4}\n",
      "True\n",
      "---------------------\n",
      "{99, 1, 2, 3}\n",
      "{99, 1, 2}\n",
      "True\n",
      "True\n"
     ]
    }
   ],
   "source": [
    "#Set operator \n",
    "set1 ={1,2,3}\n",
    "set2 ={1,3,4}\n",
    "print(set1|set2) #union\n",
    "print(set1&set2) #intersect\n",
    "print(set1-set2) #difference\n",
    "print(set1^set2) #symmetric difference (Anything except intersect)\n",
    "print(4 in set2) #is an element of\n",
    "print('---------------------')\n",
    "\n",
    "x=99\n",
    "set1 ={1,2,3}\n",
    "set1.add(x) #you can not say set2=set1.add(x). It won't work\n",
    "print(set1)\n",
    "set1.remove(3)\n",
    "print(set1)\n",
    "set3 = {1,2,3,4,5,6,99}\n",
    "print(set1.issubset(set3))\n",
    "set4={1,2}\n",
    "print(set1.issuperset(set4))"
   ]
  },
  {
   "cell_type": "code",
   "execution_count": 343,
   "metadata": {},
   "outputs": [
    {
     "name": "stdout",
     "output_type": "stream",
     "text": [
      "[1, 2, 3]\n"
     ]
    }
   ],
   "source": [
    "# Because set can have no duplicate, we can use this to remove duplicates in a list\n",
    "mylist = [1,2,1,2,3]\n",
    "myset = set(mylist)\n",
    "print(list(myset))"
   ]
  },
  {
   "cell_type": "markdown",
   "metadata": {},
   "source": [
    "### 19.9 Zip"
   ]
  },
  {
   "cell_type": "code",
   "execution_count": 344,
   "metadata": {},
   "outputs": [
    {
     "name": "stdout",
     "output_type": "stream",
     "text": [
      "<zip object at 0x0000026EE5FD3A08>\n",
      "[('a', 10), ('b', 20), ('c', 30)]\n",
      "\n",
      "\n",
      "[(1, 10), (2, 20), (3, 30)]\n",
      "\n",
      "\n",
      "{'alice': 1, 'bob': 2, 'charlie': 3}\n"
     ]
    }
   ],
   "source": [
    "s = 'abc'\n",
    "L = [10, 20, 30]\n",
    "z = zip(s,L)\n",
    "print(z)\n",
    "print(list(z))\n",
    "print('\\n')\n",
    "\n",
    "x=[1,2,3]\n",
    "y=[10,20,30]\n",
    "location = list(zip(x,y))\n",
    "print(location)\n",
    "print('\\n')\n",
    "\n",
    "#using zip to create a dictionary\n",
    "name = ['alice', 'bob', 'charlie']\n",
    "position = [1, 2, 3]\n",
    "mydict = dict(zip(name, position))\n",
    "print(mydict)"
   ]
  },
  {
   "cell_type": "markdown",
   "metadata": {},
   "source": [
    "### 19.10 Copy\n",
    "(shawlow)copy vs. deepcopy"
   ]
  },
  {
   "cell_type": "code",
   "execution_count": 345,
   "metadata": {},
   "outputs": [
    {
     "name": "stdout",
     "output_type": "stream",
     "text": [
      "now change the first first to 99\n",
      "L and Lcopy: Note Lcopy is mutated: [[99, 2, 3], [4, 5, 6]] [[99, 2, 3], [4, 5, 6]]\n",
      "L and Ldeepcopy: Note Ldeepcopy is NOT mutated [[99, 2, 3], [4, 5, 6]] [[1, 2, 3], [4, 5, 6]]\n"
     ]
    }
   ],
   "source": [
    "L =[[1,2,3],[4,5,6]]\n",
    "from copy import copy\n",
    "Lcopy =copy(L)\n",
    "from copy import deepcopy\n",
    "Ldeepcopy = deepcopy(L)\n",
    "\n",
    "print('now change the first first to 99')\n",
    "L[0][0] = 99\n",
    "print('L and Lcopy: Note Lcopy is mutated:', L, Lcopy)\n",
    "print('L and Ldeepcopy: Note Ldeepcopy is NOT mutated',L, Ldeepcopy)"
   ]
  },
  {
   "cell_type": "markdown",
   "metadata": {},
   "source": [
    "### 19.11 More with Strings"
   ]
  },
  {
   "cell_type": "code",
   "execution_count": 346,
   "metadata": {},
   "outputs": [
    {
     "name": "stdout",
     "output_type": "stream",
     "text": [
      "abcdefghijklmnopqrstuvwxyz\n",
      "ejcgmryabndikpzloqstwhvufx\n",
      "-----------\n",
      "this is a secret\n",
      "tabs bs e smcqmt\n"
     ]
    }
   ],
   "source": [
    "# find and replace / substitute. Encipher\n",
    "\n",
    "alphabet = 'abcdefghijklmnopqrstuvwxyz'\n",
    "L = list(alphabet)\n",
    "from random import shuffle\n",
    "shuffle(L)\n",
    "print(alphabet)\n",
    "print(''.join(L))\n",
    "print('-----------')\n",
    "# create the encoding and decoding dictionaries\n",
    "encode_dict = str.maketrans(dict(zip(alphabet, L)))\n",
    "decode_dict = str.maketrans(dict(zip(L, alphabet)))\n",
    "# encode and decode 'this is a secret'\n",
    "s = 'this is a secret'.translate(encode_dict)\n",
    "t = s.translate(decode_dict)\n",
    "print(t, s, sep='\\n')"
   ]
  },
  {
   "cell_type": "code",
   "execution_count": 347,
   "metadata": {},
   "outputs": [
    {
     "name": "stdout",
     "output_type": "stream",
     "text": [
      "Help on function square in module __main__:\n",
      "\n",
      "square(x)\n",
      "    return the square of a number\n",
      "\n"
     ]
    }
   ],
   "source": [
    "# find help for a function\n",
    "def square(x): \n",
    "    \"\"\"return the square of a number\"\"\"\n",
    "    return x*x\n",
    "help(square)"
   ]
  },
  {
   "cell_type": "markdown",
   "metadata": {},
   "source": [
    "## 20. Useful Modules"
   ]
  },
  {
   "cell_type": "markdown",
   "metadata": {},
   "source": [
    "### 20.2 Dates and times"
   ]
  },
  {
   "cell_type": "code",
   "execution_count": 348,
   "metadata": {},
   "outputs": [
    {
     "name": "stdout",
     "output_type": "stream",
     "text": [
      "It took 0.0 seconds.\n"
     ]
    }
   ],
   "source": [
    "from time import time\n",
    "start = time()\n",
    "# do some stuff here\n",
    "print('It took', round(time()-start, 3), 'seconds.')"
   ]
  },
  {
   "cell_type": "code",
   "execution_count": 349,
   "metadata": {},
   "outputs": [
    {
     "name": "stdout",
     "output_type": "stream",
     "text": [
      "16:02 9/25/2019\n",
      "4:2pm  9/25/2019\n"
     ]
    }
   ],
   "source": [
    "#format date/time\n",
    "from datetime import datetime\n",
    "d = datetime(1,1,1).now()\n",
    "print('{}:{:02d} {}/{}/{}'.format(d.hour,d.minute,d.month,d.day,d.year))\n",
    "am_pm = 'am' if d.hour<12 else 'pm'\n",
    "print('{}:{}{}  {}/{}/{}'.format(d.hour%12, d.minute, am_pm, d.month, d.day, d.year))"
   ]
  },
  {
   "cell_type": "code",
   "execution_count": 350,
   "metadata": {},
   "outputs": [
    {
     "name": "stdout",
     "output_type": "stream",
     "text": [
      "Wednesday 09/25/19\n",
      "Wed Sep 25 16:02:15 2019\n",
      "04PM on September 25\n",
      "4PM on September 25\n"
     ]
    }
   ],
   "source": [
    "# format date/time\n",
    "# %c        date and time formatted according to local conventions\n",
    "# %x, %X    %x is the date, and %X is the time, both formatted as with %c\n",
    "# %d        day of the month\n",
    "# %j        day of the year\n",
    "# %a, %A    weekday name (%a is the abbreviated weekday name)\n",
    "# %m        month (01-12)\n",
    "# %b, %B    month name (%b is the abbreviated month name)\n",
    "# %y, %Y    year (%y is 2-digit, %Y is 4-digit)\n",
    "# %H, %I    hour (%H is 24-hour, %I is 12-hour)\n",
    "# %p        am or pm\n",
    "# %M        minute\n",
    "# %S        second\n",
    "\n",
    "print(d.strftime('%A %x'))\n",
    "print(d.strftime('%c'))\n",
    "print(d.strftime('%I%p on %B %d'))\n",
    "print(d.strftime('{}%p on %B {}').format(d.hour%12, d.day))"
   ]
  },
  {
   "cell_type": "code",
   "execution_count": 351,
   "metadata": {},
   "outputs": [
    {
     "name": "stdout",
     "output_type": "stream",
     "text": [
      "2011-02-01 07:33:00\n",
      "2011-02-01 00:00:00\n"
     ]
    }
   ],
   "source": [
    "# create date/time\n",
    "d = datetime(2011, 2, 1, 7, 33)\n",
    "e = datetime(2011, 2, 1)\n",
    "print(d)\n",
    "print(e)"
   ]
  },
  {
   "cell_type": "markdown",
   "metadata": {},
   "source": [
    "## 21. Regular Expression"
   ]
  },
  {
   "cell_type": "markdown",
   "metadata": {},
   "source": [
    "#### Syntax\n",
    "    re.sub(r'from_what_string', 'to_what_string', 'the_whole_file_or_string')\n",
    "#### Regex \n",
    "    [] any of the characters inside the brackets\n",
    "    . any character except the newline\n",
    "    + 1 or more of the preceding\n",
    "    * 0 or more of the preceding\n",
    "    ? 0 or 1 of the preceding\n",
    "    {m} exactly m of the preceding\n",
    "    {m,n} between m and n (inclusive) of the preceding\n",
    "    ? following +, *, ?, {m}, and {m,n}— take as few as possible\n",
    "    \\ escape special characters\n",
    "    | “or”\n",
    "    ^ (at start of pattern) match just the first occurrence\n",
    "    $ (at end of pattern) match just the last occurrence\n",
    "    \\d \\D any digit (non-digit)\n",
    "    \\w \\W any letter or number (non-letter or -number)\n",
    "    \\s \\S any whitespace (non-whitespace)\n",
    "    (?=) only if followed by\n",
    "    (?!) only if not followed by\n",
    "    (?<=) only if preceded by\n",
    "    (?<!) only if not preceded by\n",
    "    (?i) flag to ignore case\n",
    "    (?s) flag to make the . match newlines, too\n",
    "    (?x) flag to enable verbose style"
   ]
  },
  {
   "cell_type": "code",
   "execution_count": 352,
   "metadata": {},
   "outputs": [
    {
     "name": "stdout",
     "output_type": "stream",
     "text": [
      "Locations *** and *** full.\n",
      "This is a raw string. Blackslashes do not do anything special.\n"
     ]
    }
   ],
   "source": [
    "import re \n",
    "#replaces any occurrence of an L, R, U, or D followed by one or more digits with '***'.\n",
    "print(re.sub(r'([LRUD])(\\d+)', '***', 'Locations L3 and D22 full.'))\n",
    "# to mark a string as a raw string, preface it with an r.\n",
    "s=r'This is a raw string. Blackslashes do not do anything special.'\n",
    "print(s)"
   ]
  },
  {
   "cell_type": "code",
   "execution_count": 353,
   "metadata": {},
   "outputs": [
    {
     "name": "stdout",
     "output_type": "stream",
     "text": [
      "*def *xyz\n",
      "*def *xyz\n",
      "*bc*ef\n",
      "* + * + c5 + x2\n"
     ]
    }
   ],
   "source": [
    "# Replace using Regex / Using Regex to replace\n",
    "print( 'abcdef abcxyz'.replace('abc', '*') )#Using replace() way\n",
    "print( re.sub(r'abc', '*', 'abcdef abcxyz') )#using Regex to replace\n",
    "\n",
    "# Replace only certain letters/words using Regex\n",
    "print( re.sub(r'[ad]', '*', 'abcdef') )\n",
    "print( re.sub(r'[abc][123]', '*', 'a1 + b2 + c5 + x2') )"
   ]
  },
  {
   "cell_type": "markdown",
   "metadata": {},
   "source": [
    "#### Range of Values \n",
    "    [A-Z] any capital letter\n",
    "    [0-9] any digit\n",
    "    [A-Za-z0-9] any letter or digit\n",
    "\n",
    "A slightly shorter way to match any digit is \\d, instead of [0-9].\n",
    "\n",
    "To replace any character: use a dot.  "
   ]
  },
  {
   "cell_type": "code",
   "execution_count": 354,
   "metadata": {},
   "outputs": [
    {
     "name": "stdout",
     "output_type": "stream",
     "text": [
      "*** *** AxxB ***\n",
      "*C *C AC\n"
     ]
    }
   ],
   "source": [
    "# To replace any character: use a dot.  \n",
    "print(re.sub(r'A.B', '***', 'A2B AxB AxxB A$B'))#matches an A followed by almost any single character followed by a B.\n",
    "\n",
    "# To replace more than one same character: use +\n",
    "print(re.sub(r'AB+', '*', 'ABC ABBBBBBC AC'))#match an A followed by one or more B's. "
   ]
  },
  {
   "cell_type": "markdown",
   "metadata": {},
   "source": [
    "#### Match\n",
    "    + match 1 or more occurrences\n",
    "    * match 0 or more occurrences\n",
    "    ? match 0 or 1 occurrence\n",
    "    {m} match exactly m occurrences\n",
    "    {m,n} match between m and n occurrences, inclusive"
   ]
  },
  {
   "cell_type": "code",
   "execution_count": 355,
   "metadata": {},
   "outputs": [
    {
     "name": "stdout",
     "output_type": "stream",
     "text": [
      "ABB * * *BBB\n",
      "***B*C*D*\n"
     ]
    }
   ],
   "source": [
    "print(re.sub(r'AB{3,6}', '*', 'ABB ABBB ABBBB ABBBBBBBBB')) #match an A followed by three to six B’s\n",
    "print(re.sub(r'A?', '*','AAABCD'))"
   ]
  },
  {
   "cell_type": "code",
   "execution_count": 356,
   "metadata": {},
   "outputs": [
    {
     "name": "stdout",
     "output_type": "stream",
     "text": [
      "There are 9 B's in 'ABBBBBBBBB'\n",
      "\n",
      "ABB * * *BBB\n",
      "ABB * *B *BBBBBB\n"
     ]
    }
   ],
   "source": [
    "print(\"There are {} B's in 'ABBBBBBBBB'\\n\".format(len('ABBBBBBBBB')-1))\n",
    "print(re.sub(r'AB{3,6}', '*', 'ABB ABBB ABBBB ABBBBBBBBB')) #to take as many B's as allowed. Result: 9B's-6=4 B's\n",
    "print(re.sub(r'AB{3,6}?', '*', 'ABB ABBB ABBBB ABBBBBBBBB')) #to take as few B's as allowed. Result: 9B's-3=7 B's"
   ]
  },
  {
   "cell_type": "code",
   "execution_count": 357,
   "metadata": {},
   "outputs": [
    {
     "name": "stdout",
     "output_type": "stream",
     "text": [
      "*def*123*\n",
      "*defgabc\n",
      "abcdefg*\n",
      "\n",
      "\n",
      "*C\n",
      "*+C\n"
     ]
    }
   ],
   "source": [
    "print(re.sub(r'abc|xyz', '*', 'abcdefxyz123abc')) #abc OR xyz\n",
    "print(re.sub('^abc', '*', 'abcdefgabc')) #regex begin with, use ^\n",
    "print(re.sub('abc$', '*', 'abcdefgabc')) #regex end with, use $\n",
    "print('\\n')\n",
    "\n",
    "#if you need to match the special character, add \\ in front of the special character\n",
    "print(re.sub(r'A+B\\+', '*', 'AAB+C'))\n",
    "print(re.sub(r'A+B+', '*','AAB+C'))"
   ]
  },
  {
   "cell_type": "code",
   "execution_count": 358,
   "metadata": {},
   "outputs": [
    {
     "name": "stdout",
     "output_type": "stream",
     "text": [
      "the dog and * cat\n",
      "here is * dog and the cat.\n",
      "\n",
      "\n",
      "* cat is on * lathe there.\n"
     ]
    }
   ],
   "source": [
    "print(re.sub(r'the(?= cat)', '*', 'the dog and the cat'))# only if followed by\n",
    "print(re.sub(r'(?<= is )the', '*', 'here is the dog and the cat.'))# only if preceded by\n",
    "print('\\n')\n",
    "\n",
    "#replace by the word only. If 'the' is inside a letter, then it will NOT be replaced. \n",
    "print(re.sub(r'(?<!\\w)[Tt]he(?!\\w)', '*', 'The cat is on the lathe there.')) "
   ]
  },
  {
   "cell_type": "code",
   "execution_count": 359,
   "metadata": {},
   "outputs": [
    {
     "name": "stdout",
     "output_type": "stream",
     "text": [
      "* *\n"
     ]
    }
   ],
   "source": [
    "print(re.sub('(?i)ab', '*', 'ab AB')) #ignore case\n",
    "pattern = r\"\"\"(?x)[AB]\\d+ # Match A or B followed by some digits \n",
    "[CD]\\d+ # Match C or D followed by some digits\n",
    "\"\"\" #(?x)is a flag for you to get multi-line format where white space is ignored  \n",
    "# it's not working. Don't know why\n",
    "# print(re.sub(pattern, '*', 'A3C9 and C1B17'))"
   ]
  },
  {
   "cell_type": "markdown",
   "metadata": {},
   "source": [
    "#### Examples\n",
    "\n",
    "    'abc' the exact string abc\n",
    "    '[ABC]' an A, B, or C\n",
    "    '[a-zA-Z][0-9]' match a letter followed by a digit\n",
    "    '[a..]' a followed by any two characters (except newlines)\n",
    "    'a+' one or more a’s\n",
    "    'a*' any number of a’s, even none\n",
    "    'a?' zero or one a\n",
    "    'a{2}' exactly two a’s\n",
    "    'a{2,4}' two, three, or four a’s\n",
    "    'a+?' one or more a’s taking as few as possible\n",
    "    'a\\.' a followed by a period\n",
    "    'ab|zy' an ab or a zy\n",
    "    '^a' first a\n",
    "    'a$' last a\n",
    "    '\\d' every digit\n",
    "    '\\w' every letter or number\n",
    "    '\\s' every whitespace\n",
    "    '\\D' everything except digits\n",
    "    '\\W' everything except letters and numbers\n",
    "    '\\S' everything except whitespace\n",
    "    'a(?=b)' every a followed by a b\n",
    "    'a(?!b)' every a not followed by a b\n",
    "    '(?<=b)a' every a preceded by a b\n",
    "    '(?<!b)a' every a not preceded by a b"
   ]
  },
  {
   "cell_type": "markdown",
   "metadata": {},
   "source": [
    "### 21.4 Groups"
   ]
  },
  {
   "cell_type": "markdown",
   "metadata": {},
   "source": [
    "### 21.5 Other Functions"
   ]
  },
  {
   "cell_type": "code",
   "execution_count": 360,
   "metadata": {},
   "outputs": [
    {
     "name": "stdout",
     "output_type": "stream",
     "text": [
      "*b*bababa\n",
      "['A3', 'B2', 'A9']\n",
      "['you', 'can', 'see', '3', 'ABBBBBBBBB']\n",
      "['3x', '4y', '12x^2', '7']\n"
     ]
    }
   ],
   "source": [
    "print(re.sub(r'a', '*', 'ababababa', count=2))\n",
    "print(re.findall(r'[AB]\\d', 'A3 + B2 + A9'))\n",
    "print(re.findall(r'\\w+', 'you! can see 3! ABBBBBBBBB'))  #better than split because it does not get the puntuation\n",
    "print(re.split(r'\\+|\\-', '3x+4y-12x^2+7'))"
   ]
  },
  {
   "cell_type": "code",
   "execution_count": 361,
   "metadata": {},
   "outputs": [
    {
     "name": "stdout",
     "output_type": "stream",
     "text": [
      "* + *\n",
      "* + *\n"
     ]
    },
    {
     "data": {
      "text/plain": [
       "['B4']"
      ]
     },
     "execution_count": 361,
     "metadata": {},
     "output_type": "execute_result"
    }
   ],
   "source": [
    "pattern = re.compile(r'[AB]\\d')\n",
    "print(pattern.sub('*', 'A3 + B4'))\n",
    "print(pattern.sub('*', 'A8 + B9'))\n",
    "\n",
    "# When you compile an expression, for many of the methods you can specify optional starting\n",
    "# and ending indices in the string. Here is an example:\n",
    "pattern = re.compile(r'[AB]\\d')\n",
    "pattern.findall('A3+B4+C9+D8',2,6)"
   ]
  },
  {
   "cell_type": "markdown",
   "metadata": {},
   "source": [
    "## 22. Math"
   ]
  },
  {
   "cell_type": "markdown",
   "metadata": {},
   "source": [
    "### 22.1 The math module\n",
    "    sin, cos, tan trig functions\n",
    "    asin, acos, atan inverse trig functions\n",
    "    atan2(y,x) gives arctan( y=x) with proper sign behavior\n",
    "    sinh, cosh, tanh hyperbolic functions\n",
    "    asinh, acosh, atanh inverse hyperbolic functions\n",
    "    log, log10 natural log, log base 10\n",
    "    log1p log(1+x), more accurate near 1 than log\n",
    "    exp exponential function ex\n",
    "    degrees, radians convert from radians to degrees or vice-versa\n",
    "    floor floor(x) is the greatest integer <= x\n",
    "    ceil ceil(x) is the least integer >= x\n",
    "    e, pi the constants e and pi\n",
    "    factorial factorial\n",
    "    modf returns a pair (fractional part, integer part)\n",
    "    gamma, erf the gamma function and the Error function"
   ]
  },
  {
   "cell_type": "markdown",
   "metadata": {},
   "source": [
    "## 23. Working with functions"
   ]
  },
  {
   "cell_type": "markdown",
   "metadata": {},
   "source": [
    "## 23.3 Recursion"
   ]
  },
  {
   "cell_type": "code",
   "execution_count": 362,
   "metadata": {},
   "outputs": [
    {
     "name": "stdout",
     "output_type": "stream",
     "text": [
      "1 2 6 24\n"
     ]
    }
   ],
   "source": [
    "def facto(n): \n",
    "    if n ==1: \n",
    "        return 1\n",
    "    else: \n",
    "        return n*facto(n-1)\n",
    "print(facto(1), facto(2), facto(3),facto(4))"
   ]
  },
  {
   "cell_type": "markdown",
   "metadata": {},
   "source": [
    "### 23.4 map, filter, reduce and list comprehensions"
   ]
  },
  {
   "cell_type": "code",
   "execution_count": 363,
   "metadata": {},
   "outputs": [
    {
     "name": "stdout",
     "output_type": "stream",
     "text": [
      "[1, 2, 6, 24]\n",
      "[1, 2, 6, 24]\n"
     ]
    }
   ],
   "source": [
    "# the map function: map(func, iterable)\n",
    "print(list(map(facto, [1,2,3,4])))  #note: see the fact() function listed above\n",
    "print(list(facto(n) for n in [1,2,3,4])) #same as the above"
   ]
  },
  {
   "cell_type": "code",
   "execution_count": 364,
   "metadata": {},
   "outputs": [
    {
     "name": "stdout",
     "output_type": "stream",
     "text": [
      "[3, 4]\n",
      "[3, 4]\n"
     ]
    }
   ],
   "source": [
    "# the filter function: filter(func, iterable).  Returns the TRUE values only\n",
    "print(list(filter(lambda x: facto(x) > 5, [1,2,3,4])))\n",
    "print(list(x for x in [1,2,3,4] if facto(x)>5)) #same as the above"
   ]
  },
  {
   "cell_type": "code",
   "execution_count": 365,
   "metadata": {},
   "outputs": [
    {
     "name": "stdout",
     "output_type": "stream",
     "text": [
      "24\n"
     ]
    }
   ],
   "source": [
    "# the reduce function: reduce(func, iterable)\n",
    "# the reduce applies the function to the element from left to right, accumulating the result. \n",
    "# you must import it first. from functools import reduce \n",
    "from functools import reduce \n",
    "print(reduce(lambda x,y: x*y, [1,2,3,4]))"
   ]
  },
  {
   "cell_type": "code",
   "execution_count": 366,
   "metadata": {},
   "outputs": [
    {
     "name": "stdout",
     "output_type": "stream",
     "text": [
      "12 24\n",
      "---------\n",
      "x **2 :  9\n",
      "y **2 :  16\n",
      "z **2 :  25\n"
     ]
    }
   ],
   "source": [
    "# set up keyword arguments. \n",
    "def product(*nums):\n",
    "    prod = 1\n",
    "    for i in nums:\n",
    "        prod*=i\n",
    "    return prod\n",
    "print(product(3,4), product(2,3,4))\n",
    "print('---------')\n",
    "\n",
    "\n",
    "def f(**keyargs): \n",
    "    for k in keyargs: \n",
    "        print(k, '**2 : ', keyargs[k]**2)\n",
    "f(x=3, y=4, z=5)\n",
    "\n",
    "# The order matters! arguments collected by * have to come after all positional arguments and arguments collected by ** always\n",
    "# come last."
   ]
  },
  {
   "cell_type": "code",
   "execution_count": 367,
   "metadata": {},
   "outputs": [
    {
     "name": "stdout",
     "output_type": "stream",
     "text": [
      "8\n",
      "3\n"
     ]
    }
   ],
   "source": [
    "#calling Functions: \n",
    "def f(a,b): \n",
    "    return (a+b)\n",
    "x=(3,5)\n",
    "print(f(*x))\n",
    "\n",
    "mylist = [(1,2), (3,5), (2,4)]\n",
    "print(f(*mylist[0]))"
   ]
  },
  {
   "cell_type": "markdown",
   "metadata": {},
   "source": [
    "## 24. The *itertools* and *collections* modules"
   ]
  },
  {
   "cell_type": "markdown",
   "metadata": {},
   "source": [
    "### 24.1 *permutations* and *combinations*"
   ]
  },
  {
   "cell_type": "code",
   "execution_count": 368,
   "metadata": {},
   "outputs": [
    {
     "name": "stdout",
     "output_type": "stream",
     "text": [
      "[(1, 2), (1, 3), (2, 1), (2, 3), (3, 1), (3, 2)]\n"
     ]
    }
   ],
   "source": [
    "from itertools import permutations\n",
    "# permutations(iterable, number)\n",
    "print(list(permutations([1,2,3],2)))"
   ]
  },
  {
   "cell_type": "code",
   "execution_count": 369,
   "metadata": {},
   "outputs": [
    {
     "name": "stdout",
     "output_type": "stream",
     "text": [
      "[(1, 2), (1, 3), (2, 3)]\n",
      "[(1, 1), (1, 2), (1, 3), (2, 2), (2, 3), (3, 3)]\n"
     ]
    }
   ],
   "source": [
    "from itertools import combinations\n",
    "from itertools import combinations_with_replacement\n",
    "print(list(combinations([1,2,3],2)))\n",
    "print(list(combinations_with_replacement([1,2,3], 2)))"
   ]
  },
  {
   "cell_type": "markdown",
   "metadata": {},
   "source": [
    "### 24.2 Cartesian *product*"
   ]
  },
  {
   "cell_type": "code",
   "execution_count": 370,
   "metadata": {},
   "outputs": [
    {
     "name": "stdout",
     "output_type": "stream",
     "text": [
      "['a1', 'a2', 'a3', 'b1', 'b2', 'b3', 'c1', 'c2', 'c3']\n",
      "----------------\n"
     ]
    },
    {
     "data": {
      "text/plain": [
       "[(3, 4, 5), (4, 3, 5)]"
      ]
     },
     "execution_count": 370,
     "metadata": {},
     "output_type": "execute_result"
    }
   ],
   "source": [
    "from itertools import product\n",
    "print([''.join(p) for p in product('abc', '123')])\n",
    "print('----------------')\n",
    "X = range(1,10)\n",
    "[(x,y,z) for (x,y,z) in product(X,X,X) if x**2+y**2==z**2]"
   ]
  },
  {
   "cell_type": "markdown",
   "metadata": {},
   "source": [
    "### 24.3 Grouping things"
   ]
  },
  {
   "cell_type": "code",
   "execution_count": 371,
   "metadata": {},
   "outputs": [
    {
     "name": "stdout",
     "output_type": "stream",
     "text": [
      "0 : [0, 0]\n",
      "1 : [1, 1, 1]\n",
      "2 : [2]\n",
      "0 : [0]\n",
      "4 : [4, 4, 4, 4, 4]\n",
      "Note: the above returns two sets of 0s \n",
      "\n",
      "0 : [0, 0, 0]\n",
      "1 : [1, 1, 1]\n",
      "2 : [2]\n",
      "4 : [4, 4, 4, 4, 4]\n",
      "\n",
      "Below is to just show the number of each items\n",
      "0 : 3\n",
      "1 : 3\n",
      "2 : 1\n",
      "4 : 5\n"
     ]
    }
   ],
   "source": [
    "# to find the frequency of each items in a list\n",
    "from itertools import groupby\n",
    "L = [0, 0, 1, 1, 1, 2, 0, 4, 4, 4, 4, 4]\n",
    "for key,group in groupby(L):\n",
    "    print(key, ':', list(group))\n",
    "print('Note: the above returns two sets of 0s \\n')\n",
    "\n",
    "L = sorted(L)\n",
    "for key,group in groupby(L):\n",
    "    print(key, ':', list(group))\n",
    "    \n",
    "print('\\nBelow is to just show the number of each items')\n",
    "for key,group in groupby(L):\n",
    "    print(key, ':', len(list(group)))"
   ]
  },
  {
   "cell_type": "code",
   "execution_count": 372,
   "metadata": {},
   "outputs": [
    {
     "name": "stdout",
     "output_type": "stream",
     "text": [
      "1 : ['a']\n",
      "2 : ['is', 'of']\n",
      "4 : ['this', 'test']\n",
      "7 : ['groupby']\n"
     ]
    }
   ],
   "source": [
    "L = ['this', 'is', 'a', 'test', 'of', 'groupby']\n",
    "L.sort(key = len)\n",
    "for key,group in groupby(L, len):\n",
    "    print(key, ':', list(group))"
   ]
  },
  {
   "cell_type": "code",
   "execution_count": 373,
   "metadata": {},
   "outputs": [
    {
     "data": {
      "text/plain": [
       "5"
      ]
     },
     "execution_count": 373,
     "metadata": {},
     "output_type": "execute_result"
    }
   ],
   "source": [
    "# First, suppose L is a list of zeros and ones, and we want to find out how long the longest run of\n",
    "# ones is. We can do that in one line using groupby:\n",
    "L=[0,0,0,0,1,0,1,1,1,1,1,0,1,1,1,1]\n",
    "max([len(list(group)) for key,group in groupby(L) if key==1])"
   ]
  },
  {
   "cell_type": "code",
   "execution_count": 374,
   "metadata": {},
   "outputs": [],
   "source": [
    "# Second, suppose we have a function called easter that returns the date of Easter in a given year.\n",
    "# The following code will produce a histogram of which dates occur most often from 1900 to 2099.\n",
    "\n",
    "# L = [easter(Y) for Y in range(1900,2100)]\n",
    "# L.sort()\n",
    "# for key,group in groupby(L):\n",
    "# print(key, ':', '*'*(len(list(group)))"
   ]
  },
  {
   "cell_type": "code",
   "execution_count": 375,
   "metadata": {},
   "outputs": [
    {
     "name": "stdout",
     "output_type": "stream",
     "text": [
      "[1, 2, 3, 2, 5, 5, 7, 8, 3]\n",
      "[1, 2, 3, 2, 5, 5]\n"
     ]
    }
   ],
   "source": [
    "# chain\n",
    "# to flatten list of lists\n",
    "from itertools import chain\n",
    "L = [[1,2,3], [2,5,5], [7,8,3]]\n",
    "print(list(chain(*tuple(L))))\n",
    "\n",
    "L = [(1,2,3), (2,5,5)]\n",
    "print(list(chain(*L)))"
   ]
  },
  {
   "cell_type": "markdown",
   "metadata": {},
   "source": [
    "### 24.5 Counting things\n",
    "*Counter* is a subclass of *dict*"
   ]
  },
  {
   "cell_type": "code",
   "execution_count": 376,
   "metadata": {},
   "outputs": [
    {
     "name": "stdout",
     "output_type": "stream",
     "text": [
      "Counter({'a': 5, 'b': 4, 'c': 3, 'd': 2, 'e': 1})\n",
      "[('a', 5), ('b', 4), ('c', 3)]\n",
      "[('d', 2), ('e', 1)]\n",
      "[('e', 1)]\n"
     ]
    }
   ],
   "source": [
    "from collections import Counter\n",
    "print(Counter('aababcabcdabcde'))\n",
    "\n",
    "# get the n most common items\n",
    "print(Counter('aababcabcdabcde').most_common(3))\n",
    "\n",
    "# get the least n common items\n",
    "print(Counter('aababcabcdabcde').most_common()[-2:])\n",
    "print(Counter('aababcabcdabcde').most_common()[:-2:-1])"
   ]
  },
  {
   "cell_type": "code",
   "execution_count": 377,
   "metadata": {},
   "outputs": [],
   "source": [
    "# # get word frequency from a file\n",
    "\n",
    "# from collections import Counter\n",
    "# import re\n",
    "# s = open('filename.txt', read)\n",
    "# words = re.findall('\\w+', s.lower())\n",
    "# c = Counter(words)\n",
    "\n",
    "# To print the ten most common words\n",
    "# for word, freq in c.most_common(10):\n",
    "#     print(word, ':', freq)\n",
    "\n",
    "# To pick out only those words that occur more than five times, we can do the following:\n",
    "# [word for word in c if c[word]>5]"
   ]
  }
 ],
 "metadata": {
  "kernelspec": {
   "display_name": "Python 3",
   "language": "python",
   "name": "python3"
  },
  "language_info": {
   "codemirror_mode": {
    "name": "ipython",
    "version": 3
   },
   "file_extension": ".py",
   "mimetype": "text/x-python",
   "name": "python",
   "nbconvert_exporter": "python",
   "pygments_lexer": "ipython3",
   "version": "3.6.8"
  }
 },
 "nbformat": 4,
 "nbformat_minor": 2
}
