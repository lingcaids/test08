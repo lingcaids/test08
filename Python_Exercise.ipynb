{
 "cells": [
  {
   "cell_type": "markdown",
   "metadata": {},
   "source": [
    "# Python Exercise"
   ]
  },
  {
   "cell_type": "markdown",
   "metadata": {},
   "source": [
    "## 1. Input\n"
   ]
  },
  {
   "cell_type": "code",
   "execution_count": null,
   "metadata": {},
   "outputs": [],
   "source": [
    "# Write a program that asks the user for their name and how many times to print it. The program\n",
    "# should print out the user’s name the specified number of times.\n",
    "num = eval(input('Enter a number then hit ENTER: '))\n",
    "print('Your number squared:', num*num)"
   ]
  },
  {
   "cell_type": "code",
   "execution_count": null,
   "metadata": {},
   "outputs": [],
   "source": [
    "# Write a program that asks the user for their name and how many times to print it. The program\n",
    "# should print out the user’s name the specified number of times.\n",
    "\n",
    "username=input('Please enter your name and hit EHTER: ')\n",
    "times = eval(input('How many times to print, then hit NETER: '))\n",
    "\n",
    "for num in range(times): \n",
    "    print(username)"
   ]
  },
  {
   "cell_type": "markdown",
   "metadata": {},
   "source": [
    "## 2. For Loops"
   ]
  },
  {
   "cell_type": "code",
   "execution_count": null,
   "metadata": {},
   "outputs": [],
   "source": [
    "# Print your name 3 times.\n",
    "name = 'ling'\n",
    "for i in range(3): \n",
    "    print(name)"
   ]
  },
  {
   "cell_type": "code",
   "execution_count": null,
   "metadata": {},
   "outputs": [],
   "source": [
    "# Print your name to fill the screen\n",
    "for i in range(35): \n",
    "    print(name, end='')"
   ]
  },
  {
   "cell_type": "code",
   "execution_count": null,
   "metadata": {},
   "outputs": [],
   "source": [
    "# Write a program that uses a for loop to print the numbers 8, 11, 14, 17, 20, . . . , 83, 86, 89.\n",
    "for i in range(1000): \n",
    "    if 8+i*3<=89: \n",
    "        print(8+i*3,end=', ')\n",
    "print('\\n')\n",
    "\n",
    "# Write a program that uses a for loop to print the numbers 100, 98, 96, . . . , 4, 2.\n",
    "for i in range(1000): \n",
    "    if 100-i*2>0: \n",
    "        print(100-i*2, end=', ')"
   ]
  },
  {
   "cell_type": "code",
   "execution_count": null,
   "metadata": {},
   "outputs": [],
   "source": [
    "# Write a program that uses exactly four for loops to print the sequence of letters below.\n",
    "word = 'ABCDEFG'\n",
    "for letter in word: \n",
    "    print(letter*4, end='')"
   ]
  },
  {
   "cell_type": "code",
   "execution_count": null,
   "metadata": {},
   "outputs": [],
   "source": [
    "# The Fibonacci numbers are the sequence below, where the first two numbers are 1, and each\n",
    "# number thereafter is the sum of the two preceding numbers. Write a program that asks the\n",
    "# user how many Fibonacci numbers to print and then prints that many.\n",
    "# 1, 1, 2, 3, 5, 8, 13, 21, 34, 55, 89 . .\n",
    "# F0=0, F1=1 AND, for n>1, Fn = Fn-1 + Fn-2\n",
    "\n",
    "# Program to display the Fibonacci sequence up to n-th term where n is provided by the user\n",
    "def fib(n): \n",
    "    if n==1:\n",
    "        return 0\n",
    "    elif n==2: \n",
    "        return 1\n",
    "    else: \n",
    "        fn_2, fn_1 = 0, 1\n",
    "        for i in range(2, n): \n",
    "            fn=fn_1+fn_2\n",
    "            fn_2=fn_1\n",
    "            fn_1=fn\n",
    "        return fn\n",
    "\n",
    "num=eval(input('how many numbers to print: '))\n",
    "for m in range(1, num+1): \n",
    "    print(fib(m),end=', ')\n"
   ]
  },
  {
   "cell_type": "code",
   "execution_count": null,
   "metadata": {},
   "outputs": [],
   "source": [
    "num_col=eval(input('how many columes to print: '))\n",
    "num_row=eval(input('how many rows to print: '))\n",
    "for i in range(1, num_row+1): \n",
    "    print('*'*num_col)"
   ]
  },
  {
   "cell_type": "code",
   "execution_count": 9,
   "metadata": {},
   "outputs": [
    {
     "name": "stdout",
     "output_type": "stream",
     "text": [
      "how many columes to print: 40\n",
      "how many rows to print: 5\n",
      "****************************************\n",
      "*                                      *\n",
      "*                                      *\n",
      "*                                      *\n",
      "****************************************\n"
     ]
    }
   ],
   "source": [
    "num_col=eval(input('how many columes to print: '))\n",
    "num_row=eval(input('how many rows to print: '))\n",
    "print('*'*num_col)\n",
    "for i in range(2, num_row):\n",
    "    print('*',' '*(num_col-4), '*')\n",
    "print('*'*num_col)\n",
    "    "
   ]
  },
  {
   "cell_type": "code",
   "execution_count": 13,
   "metadata": {},
   "outputs": [
    {
     "name": "stdout",
     "output_type": "stream",
     "text": [
      "how many columes to print: 5\n",
      "*\n",
      "**\n",
      "***\n",
      "****\n",
      "*****\n"
     ]
    }
   ],
   "source": [
    "# Use a for loop to print a triangle. Allow the user to specify how high the triangle should be.\n",
    "n=eval(input('how many columes to print: '))\n",
    "for i in range(1, n+1): \n",
    "    print('*'*i)"
   ]
  },
  {
   "cell_type": "code",
   "execution_count": 23,
   "metadata": {},
   "outputs": [
    {
     "name": "stdout",
     "output_type": "stream",
     "text": [
      "how many columes to print: 5\n",
      "*****\n",
      "****\n",
      "***\n",
      "**\n",
      "*\n"
     ]
    }
   ],
   "source": [
    "# Use a for loop to print an upside down triangle. Allow the user to specify how high the triangle should be.\n",
    "n=eval(input('how many columes to print: '))\n",
    "for i in range(-n,0): \n",
    "    print('*'*(-i))"
   ]
  },
  {
   "cell_type": "markdown",
   "metadata": {},
   "source": [
    "## 3. Math"
   ]
  },
  {
   "cell_type": "code",
   "execution_count": 41,
   "metadata": {},
   "outputs": [
    {
     "name": "stdout",
     "output_type": "stream",
     "text": [
      "8%5 =  3\n",
      "8//5 =  1\n"
     ]
    }
   ],
   "source": [
    "# % means remainder. i.e. 8%5=3\n",
    "# // means integer division. i.e. 8//5=1\n",
    "print('8%5 = ', 8%5)\n",
    "print('8//5 = ', 8//5)"
   ]
  },
  {
   "cell_type": "code",
   "execution_count": 50,
   "metadata": {},
   "outputs": [
    {
     "name": "stdout",
     "output_type": "stream",
     "text": [
      "45,35,35,57,44,60,42,48,56,47,"
     ]
    }
   ],
   "source": [
    "# Write a program that generates and print 10 random integers, each between 30 and 60.\n",
    "from random import randint\n",
    "for i in range(10): \n",
    "    print(randint(30,60), end=',')\n"
   ]
  },
  {
   "cell_type": "markdown",
   "metadata": {},
   "source": [
    "## 4. If Statement"
   ]
  },
  {
   "cell_type": "markdown",
   "metadata": {},
   "source": [
    "## 5. Miscellaneous Topics\n"
   ]
  },
  {
   "cell_type": "code",
   "execution_count": 125,
   "metadata": {},
   "outputs": [
    {
     "name": "stdout",
     "output_type": "stream",
     "text": [
      "5\n"
     ]
    }
   ],
   "source": [
    "# Write a program to compute the sum 1 􀀀 2 + 3 􀀀 4 + ... + 9\n",
    "total_n=0\n",
    "for i in range(1, 10): \n",
    "    if i%2==0: \n",
    "        i_new =-i\n",
    "    else: \n",
    "        i_new=i\n",
    "    total_n+=i_new\n",
    "print(total_n)"
   ]
  },
  {
   "cell_type": "code",
   "execution_count": 148,
   "metadata": {},
   "outputs": [
    {
     "name": "stdout",
     "output_type": "stream",
     "text": [
      "[1, 2, 4, 7, 14]\n",
      "28\n",
      "28\n"
     ]
    }
   ],
   "source": [
    "# Write a program that asks the user to enter a number and prints the sum of the divisors of\n",
    "# that number. The sum of the divisors of a number is an important function in number theory.\n",
    "n=28\n",
    "divisors=[]\n",
    "for i in range(1, n): \n",
    "    if n%i==0: \n",
    "        divisors.append(i)\n",
    "print(divisors)\n",
    "print(sum(divisors))\n",
    "\n",
    "# or the following: \n",
    "total =0\n",
    "for i in range(1, n): \n",
    "    if n%i==0: \n",
    "        total+=i\n",
    "print(total)"
   ]
  },
  {
   "cell_type": "code",
   "execution_count": 151,
   "metadata": {},
   "outputs": [
    {
     "name": "stdout",
     "output_type": "stream",
     "text": [
      "6 6\n",
      "28 28\n",
      "496 496\n",
      "8128 8128\n"
     ]
    }
   ],
   "source": [
    "# A number is called a perfect number if it is equal to the sum of all of its divisors, not including\n",
    "# the number itself. For instance, 6 is a perfect number because the divisors of 6 are 1, 2, 3, 6\n",
    "# and 6 = 1 + 2 + 3. As another example, 28 is a perfect number because its divisors are 1, 2, 4,\n",
    "# 7, 14, 28 and 28 = 1 + 2 + 4 + 7 + 14. Write a program that finds all four of the perfect numbers\n",
    "# that are less than 10000.\n",
    "def divisor_total(n): \n",
    "    total = 0\n",
    "    for i in range(1, n): \n",
    "        if n%i==0: \n",
    "            total+=i\n",
    "    return (total)\n",
    "\n",
    "for i in range(1, 10000): \n",
    "    if i==divisor_total(i): \n",
    "        print(i, divisor_total(i))"
   ]
  },
  {
   "cell_type": "code",
   "execution_count": 267,
   "metadata": {},
   "outputs": [
    {
     "name": "stdout",
     "output_type": "stream",
     "text": [
      "[3, 5, 9, 15]\n",
      "45 is not a square free number\n"
     ]
    }
   ],
   "source": [
    "# An integer is called squarefree if it is not divisible by any perfect squares other than 1. For\n",
    "# instance, 42 is squarefree because its divisors are 1, 2, 3, 6, 7, 21, and 42, and none of those\n",
    "# numbers (except 1) is a perfect square. On the other hand, 45 is not squarefree because it is\n",
    "# divisible by 9, which is a perfect square.Write a program that asks the user for an integer and\n",
    "# tells them if it is squarefree or not.\n",
    "n=45\n",
    "#42 is squarefree, 45 is not\n",
    "def devisor_list(n): \n",
    "    devisor_list=[]\n",
    "    for i in range(2, n): \n",
    "        if n%i==0: \n",
    "            devisor_list.append(i)\n",
    "    return devisor_list\n",
    "print(devisor_list(n))\n",
    "\n",
    "def is_squarefree(n): \n",
    "    if int(sqrt(n))/1.0==sqrt(n): #4, 9, 16,etc. \n",
    "        return 1 # is not one of squares (is squarefree)\n",
    "    else: \n",
    "        return 0 # is one of squares (not square free)\n",
    "\n",
    "count=0\n",
    "for l in devisor_list(n): \n",
    "    if is_squarefree(l)==0:\n",
    "        count+=1\n",
    "    else: \n",
    "        print(n, 'is not a square free number')\n",
    "        break\n",
    "        \n",
    "if count==len(devisor_list(n)): \n",
    "        print(n, 'is a square free number')\n",
    "        print(count)   "
   ]
  }
 ],
 "metadata": {
  "kernelspec": {
   "display_name": "Python 3",
   "language": "python",
   "name": "python3"
  },
  "language_info": {
   "codemirror_mode": {
    "name": "ipython",
    "version": 3
   },
   "file_extension": ".py",
   "mimetype": "text/x-python",
   "name": "python",
   "nbconvert_exporter": "python",
   "pygments_lexer": "ipython3",
   "version": "3.6.8"
  }
 },
 "nbformat": 4,
 "nbformat_minor": 2
}
