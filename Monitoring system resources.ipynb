{
 "cells": [
  {
   "cell_type": "markdown",
   "metadata": {
    "slideshow": {
     "slide_type": "slide"
    }
   },
   "source": [
    "## Monitoring system resources\n",
    "\n",
    "A large subset of your likely tasks on a UNIX system will be to gather information about your system and resource consumption on the system. "
   ]
  },
  {
   "cell_type": "markdown",
   "metadata": {
    "slideshow": {
     "slide_type": "subslide"
    }
   },
   "source": [
    "## What is our system, exactly?\n",
    "\n",
    "* CPU (Central processing unit): Where the computation actually happens\n",
    "    * A system may have multiple CPUs \n",
    "    * Each physical CPU may be subdivided into smaller logical computational units (core)\n",
    "* RAM (Random access memory): Where data is stored short-term when not required by the CPU\n",
    "* Disk: Where data is stored long-term\n",
    "    * Some disk may be used as memory if there is insufficient RAM\n",
    "* Network: How data is transmitted from and received by the computer"
   ]
  },
  {
   "cell_type": "markdown",
   "metadata": {
    "slideshow": {
     "slide_type": "subslide"
    }
   },
   "source": [
    "## Learning about our system \n",
    "* `/etc`: contains configuration files and data about how the system is configured\n",
    "    * `*-release`\n",
    "    * `hosts`\n",
    "    * `group`\n",
    "    * `profile`\n",
    "    * `shells`\n",
    "    * services\n",
    "* `/bin`\n",
    "* `/usr/bin`\n",
    "* `/proc`\n",
    "    * `cpuinfo`\n",
    "    * `version`\n",
    "    * `devices` "
   ]
  },
  {
   "cell_type": "markdown",
   "metadata": {
    "slideshow": {
     "slide_type": "slide"
    }
   },
   "source": [
    "## What takes up resources?\n",
    "\n",
    "When a program runs, it is run by a new process.\n",
    "* memory (to hold code and data)\n",
    "* resources to handle files, networks\n",
    "\n",
    "(Some processes will start more processes)"
   ]
  },
  {
   "cell_type": "markdown",
   "metadata": {
    "slideshow": {
     "slide_type": "subslide"
    }
   },
   "source": [
    "## When does a process finish?\n",
    "\n",
    "* program ends\n",
    "* process is killed or canceled\n",
    "\n",
    "To find out what process are running, use `ps`\n",
    "\n",
    "To kill a process, use `kill`\n",
    "\n",
    "To interrupt a process, use CTRL-C (interrupt), CTRL-D (close the shell)\n",
    "\n",
    "To put a process in the background so you can do something else, use CTRL-Z (suspend), or the & sign after the command."
   ]
  },
  {
   "cell_type": "markdown",
   "metadata": {
    "slideshow": {
     "slide_type": "subslide"
    }
   },
   "source": [
    "## Monitoring resources\n",
    "\n",
    "`top`: monitor your system in realtime\n",
    "\n",
    "`vmstat`: prints measurements gathered from your system at regular intervals\n",
    "\n",
    "`iostat` (not available as frequently)\n",
    "\n",
    "`netstat` (use -s option)"
   ]
  }
 ],
 "metadata": {
  "celltoolbar": "Slideshow",
  "kernelspec": {
   "display_name": "Python 3",
   "language": "python",
   "name": "python3"
  },
  "language_info": {
   "codemirror_mode": {
    "name": "ipython",
    "version": 3
   },
   "file_extension": ".py",
   "mimetype": "text/x-python",
   "name": "python",
   "nbconvert_exporter": "python",
   "pygments_lexer": "ipython3",
   "version": "3.7.4"
  },
  "rise": {
   "enable_chalkboard": true,
   "scroll": true
  }
 },
 "nbformat": 4,
 "nbformat_minor": 2
}
