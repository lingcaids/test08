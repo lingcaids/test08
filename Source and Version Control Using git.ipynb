{
 "cells": [
  {
   "cell_type": "markdown",
   "metadata": {
    "slideshow": {
     "slide_type": "slide"
    }
   },
   "source": [
    "# Source and Version Control Using git\n",
    "\n",
    "## DATA 691\n",
    "## Leanne Wu (Instructor, Department of Computer Science)\n"
   ]
  },
  {
   "cell_type": "markdown",
   "metadata": {
    "slideshow": {
     "slide_type": "slide"
    }
   },
   "source": [
    "## What is source and version control?\n",
    "These systems allow us to have more control over our code and data\n",
    "* Track changes across multiple versions\n",
    "* Coordinate changes between different individuals\n",
    "* Try out different development pathways for the same project\n",
    "* Provide a way to store code more reliably"
   ]
  },
  {
   "cell_type": "markdown",
   "metadata": {
    "slideshow": {
     "slide_type": "slide"
    }
   },
   "source": [
    "## How git works locally \n",
    "\n",
    "\n",
    "1. A git client on your computer tracks a location (the *working directory*) on your computer, and stores data about it in a *repository*. \n",
    "1. Whenever you make a change in the working directory, these changes are recorded for *staging*. \n",
    "1. Once you decide that these changes should be permanent, you can select what changes which have been staged should be *committed.*\n",
    "1. git then takes a *snapshot* of each file which has been committed and stores this in the repository\n"
   ]
  },
  {
   "cell_type": "markdown",
   "metadata": {
    "slideshow": {
     "slide_type": "slide"
    }
   },
   "source": [
    "## Branches\n",
    "\n",
    "Once code has been committed locally, you can consider how to work with several versions of the same code. Each of these is called a *branch*.\n",
    "\n",
    "You can switch between branches without losing the work that has been committed to either branch. \n",
    "\n"
   ]
  },
  {
   "cell_type": "markdown",
   "metadata": {
    "slideshow": {
     "slide_type": "slide"
    }
   },
   "source": [
    "## Using a remote repository (somebody else's code)\n",
    "\n",
    "To access a remote repository, you need\n",
    "* your own local git repository and a working directory associated with it(where the code will go)\n",
    "* permission to access the remote repository\n",
    "\n",
    "Then you can:\n",
    "* add the repository as a remote (this lets you make changes to the code on that remote repository); or \n",
    "* clone the repository (this lets you make your own copy of what's in that repository, which is not linked to the original remote location)"
   ]
  }
 ],
 "metadata": {
  "celltoolbar": "Slideshow",
  "kernelspec": {
   "display_name": "Python 3",
   "language": "python",
   "name": "python3"
  },
  "language_info": {
   "codemirror_mode": {
    "name": "ipython",
    "version": 3
   },
   "file_extension": ".py",
   "mimetype": "text/x-python",
   "name": "python",
   "nbconvert_exporter": "python",
   "pygments_lexer": "ipython3",
   "version": "3.7.4"
  }
 },
 "nbformat": 4,
 "nbformat_minor": 2
}
