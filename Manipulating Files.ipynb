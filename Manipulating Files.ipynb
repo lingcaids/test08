{
 "cells": [
  {
   "attachments": {},
   "cell_type": "markdown",
   "metadata": {
    "slideshow": {
     "slide_type": "slide"
    }
   },
   "source": [
    "# Manipulating files\n",
    "\n",
    "## DATA 691\n",
    "## Leanne Wu (Instructor, Department of Computer Science)\n"
   ]
  },
  {
   "cell_type": "markdown",
   "metadata": {
    "slideshow": {
     "slide_type": "slide"
    }
   },
   "source": [
    "# Simple file operations\n",
    "\n",
    "* In this module, we're going to create and manipulate simple regular files\n",
    "* Binary files are possible but are less applicable to what you're currently working on"
   ]
  },
  {
   "cell_type": "markdown",
   "metadata": {
    "slideshow": {
     "slide_type": "subslide"
    }
   },
   "source": [
    "## Creating a simple file\n",
    "\n",
    "`touch` : creates an empty regular file\n",
    "\n",
    "You can also use a text editor (see below) to create a text file of your own.\n",
    "\n",
    "File extensions: are a convention only, but help both other programs and users accessing a file to understand its format.\n",
    "\n",
    "What are some popular filenames you've seen?"
   ]
  },
  {
   "cell_type": "markdown",
   "metadata": {
    "slideshow": {
     "slide_type": "subslide"
    }
   },
   "source": [
    "## Moving, copying, and deleting files\n",
    "\n",
    "Convention is usually *command source destination*\n",
    "\n",
    "* `mv`\n",
    "* `cp`\n",
    "* `rm`"
   ]
  },
  {
   "cell_type": "markdown",
   "metadata": {
    "slideshow": {
     "slide_type": "subslide"
    }
   },
   "source": [
    "## Permissions \n",
    "\n",
    "`chmod`: determines what permissions (Read, Write, Execute) a file possesses for the owner, group, everyone\n",
    "\n",
    "* symbolic mode: use symbols to define permissions\n",
    "   * *who symbol permission*\n",
    "   * `chmod a-x file`   (This denies eXecute permission to everyone)\n",
    "   * `chmod a+r file`   (This gives read permission to everybody)\n",
    "   * `chmod u+rwx file`  (This gives read, write, executable permission to the user/owner of the file)\n",
    "* octal: use numbers to define permissions\n",
    "    * three digits abc which define permissions for user/group/world (a fourth is used to provide elevated privilieges)\n",
    "    * a (for owner) b (for group) c (for everyone)\n",
    "    * each digit is a combination of three binary digits\n",
    "     * 4: read\n",
    "     * 2: write\n",
    "     * 1: execute\n",
    "    \n",
    "    `chmod 600 file` gives read and write permission to only the owner\n",
    "    `chmod 644 file` would give read and write permission to only the owner, read permission to the group, write permission to the owner.\n",
    "    \n",
    "Is this confusing? Take a look at the man page documentation at https://ss64.com/bash/chmod.html "
   ]
  },
  {
   "cell_type": "markdown",
   "metadata": {
    "slideshow": {
     "slide_type": "subslide"
    }
   },
   "source": [
    "## Other utilties which may come in handy\n",
    "\n",
    "* Seeing everything in a file: `cat`, `less`, `more`\n",
    "\n",
    "* Seeing part of a file: `head`, `tail`\n",
    "\n",
    "* File statistics: `wc`\n",
    "\n",
    "* File properties: `file`\n",
    "\n",
    "* Looking at the contents of a binary file: `hexdump` or `od` (octaldump), `strings`\n",
    "\n",
    "* Searching for and in files: `find`, `grep`"
   ]
  },
  {
   "cell_type": "markdown",
   "metadata": {
    "slideshow": {
     "slide_type": "subslide"
    }
   },
   "source": [
    "# Editing Text\n",
    "* `vi`\n",
    "* `emacs`\n",
    "* `nano`\n",
    "\n",
    "Some common tasks you may perform with each text editor:\n",
    "* insert text\n",
    "* delete text\n",
    "* navigate\n",
    "* search for text\n",
    "* copy/paste\n",
    "* save\n",
    "* exit"
   ]
  }
 ],
 "metadata": {
  "celltoolbar": "Slideshow",
  "kernelspec": {
   "display_name": "Python 3",
   "language": "python",
   "name": "python3"
  },
  "language_info": {
   "codemirror_mode": {
    "name": "ipython",
    "version": 3
   },
   "file_extension": ".py",
   "mimetype": "text/x-python",
   "name": "python",
   "nbconvert_exporter": "python",
   "pygments_lexer": "ipython3",
   "version": "3.7.4"
  }
 },
 "nbformat": 4,
 "nbformat_minor": 2
}
