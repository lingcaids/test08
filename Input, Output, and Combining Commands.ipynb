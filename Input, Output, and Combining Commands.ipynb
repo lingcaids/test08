{
 "cells": [
  {
   "cell_type": "markdown",
   "metadata": {
    "slideshow": {
     "slide_type": "slide"
    }
   },
   "source": [
    "# Input, Output and Combining Commands\n",
    "\n",
    "## DATA 691\n",
    "## Leanne Wu (Instructor, Department of Computer Science)"
   ]
  },
  {
   "cell_type": "markdown",
   "metadata": {
    "slideshow": {
     "slide_type": "slide"
    }
   },
   "source": [
    "## Input and output in UNIX\n",
    "\n",
    "Unix uses the idea of *streams* to logically represent the flow of data between hardwaare and computational units. \n",
    "\n",
    "* STDIN (standard input, file descriptor 0) : How the system reads in data. This is most typically the keyboard, when we talk about an interactive shell. \n",
    "* STOUT (standard output, file descriptor 1): How the system outputs data. This is most typically the screen, when we talk about an interactive shell.\n",
    "* STDERR (standard error, file descriptor 2): How the system outputs error (this happens independently from standard output. "
   ]
  },
  {
   "cell_type": "markdown",
   "metadata": {
    "slideshow": {
     "slide_type": "subslide"
    }
   },
   "source": [
    "## File Redirection\n",
    "\n",
    "There are a number of special characters you can use to take the output from one source and redirect it to another destination.\n",
    "\n",
    "`commandA > fileB` : Execute commandA, and redirect the output to fileB\n",
    "`commandA >> fileB` : Execute commandA and appeend fileB with the redirected output\n",
    "\n",
    "`commandA < fileB` : Executes commandA using fileB as the input (instead of the keyboard) \n",
    "\n",
    "`commandA > fileB 2>&1` : Executes commandA and redirects the output to file B. STDERR (2) will be redirected to STOUT (1)"
   ]
  },
  {
   "cell_type": "markdown",
   "metadata": {
    "slideshow": {
     "slide_type": "subslide"
    }
   },
   "source": [
    "## Pipes\n",
    "\n",
    "`command1 | command2` takes the output of command1 and uses it as the input for command2\n",
    "\n",
    "What are some examples you could use a pipe with to distinguish useful information?"
   ]
  },
  {
   "cell_type": "markdown",
   "metadata": {
    "slideshow": {
     "slide_type": "subslide"
    }
   },
   "source": [
    "## Other ways to save your output\n",
    "* `tee` : allows standard output to be written to a file and also output to screen\n",
    "* `nohup` : no HUP (hangup). Allows you to run a process to completion even if you are logged out/disconnected before it completes. Output goes automatically to a file named nohup.out (unless otherwise redirected)"
   ]
  },
  {
   "cell_type": "markdown",
   "metadata": {
    "slideshow": {
     "slide_type": "slide"
    }
   },
   "source": [
    "## Shell scripting\n",
    "\n",
    "Reminder that each shell in Unix has its own language. The syntax is similar to Python but different! You can use this interactively at the command line, but also create a *shell script*, which is a simple program which can be run by the shell.\n",
    "\n",
    "Start your file with a line that tells the system how to execute your script:\n",
    "\n",
    "`#!/usr/bin/bash` \n",
    "\n",
    "Comments are indicated by lines that start with a # symbol\n",
    "Print out lines with the `echo` command"
   ]
  },
  {
   "cell_type": "markdown",
   "metadata": {
    "slideshow": {
     "slide_type": "subslide"
    }
   },
   "source": [
    "## Variables\n",
    "\n",
    "Similar to Python but DO NOT INCLUDE ADDITIONAL SPACES.\n",
    "\n",
    "`MyVariable=\"A String\"`\n",
    "\n",
    "When you use the variable, use the variable name without the `$` symbol. If you want to reference the variable, use it with the `$` symbol\n",
    "\n"
   ]
  },
  {
   "cell_type": "markdown",
   "metadata": {
    "slideshow": {
     "slide_type": "subslide"
    }
   },
   "source": [
    "## Parameter expansion\n",
    "\n",
    "You can use `${}` in interesting ways! \n",
    "\n",
    "Anything enclosed within the curly braces will be expanded or run\n",
    "\n",
    "`echo ${MyVariable/A/My`\n",
    "\n",
    "`echo $(pwd)`"
   ]
  },
  {
   "cell_type": "markdown",
   "metadata": {
    "slideshow": {
     "slide_type": "subslide"
    }
   },
   "source": [
    "## Conditionals\n",
    "\n",
    "Conditionals can be enclosed in square brackets if you want to evaluate them. Note that the statements for if statements is quite different\n",
    "\n",
    "``` bash\n",
    "if [ 0 > $NUMBER]\n",
    "then echo \"Negative number\"\n",
    "fi\n",
    "```"
   ]
  },
  {
   "cell_type": "markdown",
   "metadata": {
    "slideshow": {
     "slide_type": "subslide"
    }
   },
   "source": [
    "## Loops\n",
    "\n",
    "Loops are similar. \n",
    "```bash\n",
    "for ((counter = 1; counter <= 3; counter++ ))\n",
    "do\n",
    "   echo \"$counter\"\n",
    "done\n",
    "\n",
    "for counter in {1..3}\n",
    "do\n",
    "   echo $counter\n",
    "done\n",
    "\n",
    "for filename in $(ls)\n",
    "do\n",
    "  cat \"$filename\"\n",
    "done\n",
    "```"
   ]
  },
  {
   "cell_type": "code",
   "execution_count": null,
   "metadata": {},
   "outputs": [],
   "source": []
  }
 ],
 "metadata": {
  "celltoolbar": "Slideshow",
  "kernelspec": {
   "display_name": "Python 3",
   "language": "python",
   "name": "python3"
  },
  "language_info": {
   "codemirror_mode": {
    "name": "ipython",
    "version": 3
   },
   "file_extension": ".py",
   "mimetype": "text/x-python",
   "name": "python",
   "nbconvert_exporter": "python",
   "pygments_lexer": "ipython3",
   "version": "3.7.4"
  }
 },
 "nbformat": 4,
 "nbformat_minor": 2
}
