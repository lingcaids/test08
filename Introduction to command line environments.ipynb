{
 "cells": [
  {
   "attachments": {},
   "cell_type": "markdown",
   "metadata": {
    "slideshow": {
     "slide_type": "slide"
    }
   },
   "source": [
    "# Introduction to command line environments\n",
    "\n",
    "## DATA 691\n",
    "## Leanne Wu (Instructor, Department of Computer Science)\n",
    "\n"
   ]
  },
  {
   "cell_type": "markdown",
   "metadata": {
    "slideshow": {
     "slide_type": "slide"
    }
   },
   "source": [
    "# Introducing the command line\n",
    "\n",
    "Why are we learning tools based on the command line?"
   ]
  },
  {
   "cell_type": "markdown",
   "metadata": {
    "slideshow": {
     "slide_type": "slide"
    }
   },
   "source": [
    "# UNIX\n",
    "\n",
    "Historical basis for many of the modern operating systems we use (starting with Multics in 1964)\n",
    "   * Mac OS and iOS\n",
    "   * Android\n",
    "   * Linux\n",
    "Look for yourself: Search for \"UNIX family tree\"\n",
    "\n"
   ]
  },
  {
   "cell_type": "markdown",
   "metadata": {
    "slideshow": {
     "slide_type": "subslide"
    }
   },
   "source": [
    "### Some general principles:\n",
    "* Everything is a file\n",
    "* You always start in your own (home) directory\n",
    "* Not sure what to do? Use `man` or `--help, -h` options\n"
   ]
  },
  {
   "cell_type": "markdown",
   "metadata": {
    "slideshow": {
     "slide_type": "subslide"
    }
   },
   "source": [
    "### Getting Started\n",
    "\n",
    "* Jupyterhub: Use the terminal \n",
    "* Cybera (more on this later today)\n",
    "* If you own a Mac or have Linux installed on your computer: use a terminal window\n",
    "* online Linux emulators are available"
   ]
  },
  {
   "cell_type": "markdown",
   "metadata": {
    "slideshow": {
     "slide_type": "subslide"
    }
   },
   "source": [
    "### Shells\n",
    "\n",
    "In operating systems, a shell can also be refered to as a _command line interpreter_. \n",
    "* interactive mode (early session)\n",
    "* scripting langauge (later today)\n",
    "\n",
    "Many different shells exist. You may encounter csh (or tcsh), ksh, or zsh. We will be using **bash** today\n",
    "\n",
    "You can change your shell: Use the command `chsh` (generally not recommended unless you have a specific reason)\n",
    "\n",
    "Shortcuts: In bash, you can use the up arrow to revisit previous commands, and the tab key to complete filenames (if they can be found)"
   ]
  },
  {
   "cell_type": "markdown",
   "metadata": {
    "slideshow": {
     "slide_type": "subslide"
    }
   },
   "source": [
    "### Controlling your environment\n",
    "\n",
    "To determine how your shell interacts with  your computer, your shell uses\n",
    "* environment variables:\n",
    "    * use `export` command to set, change or unset variables\n",
    "* `.profile` and `.bashrc` : These files are used to set up your environment when you log in (more about these later).\n",
    "\n",
    "Take one note of a useful environment variable you found. Add it here: "
   ]
  },
  {
   "cell_type": "markdown",
   "metadata": {
    "slideshow": {
     "slide_type": "slide"
    }
   },
   "source": [
    "# Files and Folders\n",
    "\n",
    "There are seven standard Unix file types:\n",
    "* regular\n",
    "* directory (a file which organizes other files)\n",
    "* symbolic link (sometimes called symlink: lets you reference other files quickly)\n",
    "* FIFO special (used for communicating between processes)\n",
    "* Block special (use for communicating with devices)\n",
    "* Character special (used for communicating with devices)\n",
    "* Socket\n"
   ]
  },
  {
   "cell_type": "markdown",
   "metadata": {
    "slideshow": {
     "slide_type": "subslide"
    }
   },
   "source": [
    "## Navigating using the command line\n",
    "* `pwd` : Present working directory\n",
    "* `ls`: List\n",
    "* `cd`: change directory"
   ]
  },
  {
   "cell_type": "markdown",
   "metadata": {
    "slideshow": {
     "slide_type": "subslide"
    }
   },
   "source": [
    "## File shortcuts\n",
    "* `~` : takes you directly to your home directory\n",
    "* `~username` : takes you to the home directory of the specified user (something like `/home/username`)\n",
    "* `.` : the current directory\n",
    "* `..` : the parent directory of your current directory\n",
    "\n",
    "`.` and `..` allow you specify _relative_ pathnames (instead of absolute pathnames, which are fully qualfiied)"
   ]
  },
  {
   "cell_type": "markdown",
   "metadata": {
    "slideshow": {
     "slide_type": "subslide"
    }
   },
   "source": [
    "## Wildcards: When you get tired of typing\n",
    "\n",
    "* UNIX uses the \\* to mean 0-many characters, or ? to mean exactly 1 character"
   ]
  },
  {
   "cell_type": "code",
   "execution_count": null,
   "metadata": {},
   "outputs": [],
   "source": []
  }
 ],
 "metadata": {
  "celltoolbar": "Slideshow",
  "kernelspec": {
   "display_name": "Python 3",
   "language": "python",
   "name": "python3"
  },
  "language_info": {
   "codemirror_mode": {
    "name": "ipython",
    "version": 3
   },
   "file_extension": ".py",
   "mimetype": "text/x-python",
   "name": "python",
   "nbconvert_exporter": "python",
   "pygments_lexer": "ipython3",
   "version": "3.7.4"
  },
  "rise": {
   "scroll": "true",
   "theme": "default"
  }
 },
 "nbformat": 4,
 "nbformat_minor": 2
}
