{
 "cells": [
  {
   "cell_type": "markdown",
   "metadata": {},
   "source": [
    "# Printing Fomatting\n"
   ]
  },
  {
   "cell_type": "markdown",
   "metadata": {},
   "source": [
    "#### There are two types. 1.  f'string typing  2. str.format() typing\n",
    "\n",
    "To print float, use {:xf} where x is the number of decimal that you want to keep"
   ]
  },
  {
   "cell_type": "code",
   "execution_count": 131,
   "metadata": {},
   "outputs": [
    {
     "name": "stdout",
     "output_type": "stream",
     "text": [
      "Overall, 2019 sales is $12345.7.\n",
      "Overall, 2019 sales is $12345.7.\n",
      " 3.14\n",
      "3.14\n"
     ]
    }
   ],
   "source": [
    "## f'string typing format: \n",
    "## f'something to say here {the_value: 0.xf}.'  where x is the number of decimal that you want to keep\n",
    "year = 2019\n",
    "measure = 'sales'\n",
    "sale_num = 12345.67\n",
    "print(f'Overall, {year} {measure} is ${sale_num:.1f}.')\n",
    "\n",
    "## {str}.format() typing format: \n",
    "## {*the_value and format*} and .format() to create print format.  \n",
    "print('Overall, {} {} is ${:.1f}.'.format(year, measure, sale_num))\n",
    "\n",
    "\n",
    "print(f'{3.1415: .2f}')\n",
    "print('{0:.2f}'.format(3.1415))"
   ]
  },
  {
   "cell_type": "markdown",
   "metadata": {},
   "source": [
    "Note: \n",
    "\n",
    "You can use '0.0f' to specify that you want to print out integer. But, be careful of 0.5. The system doesn't seem to have a consistent way to round up/down, or the system seems to want to round up/down to an even integer. See example below.  If you want to have consistent round up/down, use various functions to round up or down towards zero: trunc, floor, ceil, int, round\n"
   ]
  },
  {
   "cell_type": "code",
   "execution_count": 90,
   "metadata": {},
   "outputs": [
    {
     "name": "stdout",
     "output_type": "stream",
     "text": [
      "0\n",
      "2\n",
      "2\n",
      "4\n",
      "4\n",
      "6\n",
      "6\n"
     ]
    }
   ],
   "source": [
    "print('{:0.0f}'.format(0.5))\n",
    "print('{:0.0f}'.format(1.5))\n",
    "print('{:0.0f}'.format(2.5))\n",
    "print('{:0.0f}'.format(3.5))\n",
    "print('{:0.0f}'.format(4.5))\n",
    "print('{:0.0f}'.format(5.5))\n",
    "print('{:0.0f}'.format(6.5))"
   ]
  },
  {
   "cell_type": "markdown",
   "metadata": {},
   "source": [
    "#### Convert float to percentage\n",
    "If you want to convert float to percentage, use \"{:0.x%}\" where x is the number of decimal that you want to keep. You can omit 0\n"
   ]
  },
  {
   "cell_type": "code",
   "execution_count": 91,
   "metadata": {},
   "outputs": [
    {
     "name": "stdout",
     "output_type": "stream",
     "text": [
      "36.2000%\n"
     ]
    }
   ],
   "source": [
    "print(\"{:.4%}\".format(0.362))"
   ]
  },
  {
   "cell_type": "markdown",
   "metadata": {},
   "source": [
    "#### Create a Tab-like format\n",
    "{:xd} Here the x is the number of characters that they take, a nice formatter, like a Tab function. When using this, make sure the number is already an integer. "
   ]
  },
  {
   "cell_type": "code",
   "execution_count": 97,
   "metadata": {},
   "outputs": [
    {
     "name": "stdout",
     "output_type": "stream",
     "text": [
      "key1       ==> 1234567890\n",
      "key2       ==>       2000\n",
      "key3       ==>          3\n",
      "   1    1    1\n",
      "   2    4    8\n",
      "   3    9   27\n",
      "   4   16   64\n",
      "   5   25  125\n",
      "   6   36  216\n",
      "   7   49  343\n",
      "   8   64  512\n",
      "   9   81  729\n",
      "  10  100 1000\n",
      "   1    1    1\n",
      "   2    4    8\n",
      "   3    9   27\n",
      "   4   16   64\n",
      "   5   25  125\n",
      "   6   36  216\n",
      "   7   49  343\n",
      "   8   64  512\n",
      "   9   81  729\n",
      "  10  100 1000\n"
     ]
    }
   ],
   "source": [
    "mydict = {'key1': 1234567890, 'key2': 2000, 'key3': 3}\n",
    "for mykey, myvalue in mydict.items():\n",
    "    print(f'{mykey:10} ==> {myvalue:10d}')\n",
    "\n",
    "for x in range(1, 11):\n",
    "    print('{0:4d} {1:4d} {2:4d}'.format(x, x*x, x*x*x))\n",
    "\n",
    "# alternatively you can use {:-x} to replace {:xd}\n",
    "for x in range(1, 11):\n",
    "    print('{0:-4} {1:-4} {2:-4}'.format(x, x*x, x*x*x))"
   ]
  },
  {
   "cell_type": "markdown",
   "metadata": {},
   "source": [
    "#### Also there is another way: Manual String Formatting\n",
    "Note: str() is the same as repr()\n",
    "\n",
    "The str.rjust() method of string objects right-justifies a string in a field of a given width by padding it with spaces on the left. There are similar methods str.ljust() and str.center()"
   ]
  },
  {
   "cell_type": "code",
   "execution_count": 109,
   "metadata": {},
   "outputs": [
    {
     "name": "stdout",
     "output_type": "stream",
     "text": [
      " 1   1    1\n",
      " 2   4    8\n",
      " 3   9   27\n",
      " 4  16   64\n",
      " 5  25  125\n",
      " 6  36  216\n",
      " 7  49  343\n",
      " 8  64  512\n",
      " 9  81  729\n",
      "10 100 1000\n"
     ]
    }
   ],
   "source": [
    "for x in range(1, 11):\n",
    "    print(str(x).rjust(2), str(x*x).rjust(3), repr(x*x*x).rjust(4), end='\\n')# Note use of 'end' on previous line"
   ]
  },
  {
   "cell_type": "markdown",
   "metadata": {},
   "source": [
    "#### Dealing with the \" ' \" in a string: add \"\\\" in front the \" ' \" "
   ]
  },
  {
   "cell_type": "code",
   "execution_count": 1,
   "metadata": {},
   "outputs": [
    {
     "name": "stdout",
     "output_type": "stream",
     "text": [
      "while I'm away\n"
     ]
    }
   ],
   "source": [
    "print('while I\\'m away')"
   ]
  }
 ],
 "metadata": {
  "kernelspec": {
   "display_name": "Python 3",
   "language": "python",
   "name": "python3"
  },
  "language_info": {
   "codemirror_mode": {
    "name": "ipython",
    "version": 3
   },
   "file_extension": ".py",
   "mimetype": "text/x-python",
   "name": "python",
   "nbconvert_exporter": "python",
   "pygments_lexer": "ipython3",
   "version": "3.6.8"
  }
 },
 "nbformat": 4,
 "nbformat_minor": 2
}
