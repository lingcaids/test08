{
 "cells": [
  {
   "cell_type": "markdown",
   "metadata": {},
   "source": [
    "<p>\n",
    "Prepared by Vytautas Bielinskas. 2020. <br>\n",
    "Download data from: https://finance.yahoo.com/quote/GOOG/history/\n",
    "    \n",
    "https://github.com/vb100/multivariate-lstm/blob/master/LSTM_model_stocks.ipynb    \n",
    "</p>\n",
    "\n",
    "<h2>PART 1. Data Pre-processing</h2>"
   ]
  },
  {
   "cell_type": "markdown",
   "metadata": {},
   "source": [
    "<h3>Step #0. Fire the system</h3>"
   ]
  },
  {
   "cell_type": "code",
   "execution_count": 46,
   "metadata": {
    "tags": []
   },
   "outputs": [],
   "source": [
    "# Import modules and packages\n",
    "import numpy as np\n",
    "import pandas as pd\n",
    "import matplotlib.pyplot as plt\n",
    "import datetime as dt\n",
    "from datetime import datetime\n",
    "\n",
    "from tensorflow.keras.callbacks import EarlyStopping, ReduceLROnPlateau, ModelCheckpoint, TensorBoard\n",
    "\n",
    "%matplotlib inline"
   ]
  },
  {
   "cell_type": "markdown",
   "metadata": {},
   "source": [
    "<h3>Step #1. Read data</h3>"
   ]
  },
  {
   "cell_type": "code",
   "execution_count": 47,
   "metadata": {
    "tags": []
   },
   "outputs": [
    {
     "name": "stdout",
     "output_type": "stream",
     "text": [
      "Training set shape == (4006, 7)\n",
      "All timestamps == 4006\n",
      "Featured selected: ['Open', 'High', 'Low', 'Close', 'Adj Close']\n"
     ]
    },
    {
     "data": {
      "text/html": [
       "<div>\n",
       "<style scoped>\n",
       "    .dataframe tbody tr th:only-of-type {\n",
       "        vertical-align: middle;\n",
       "    }\n",
       "\n",
       "    .dataframe tbody tr th {\n",
       "        vertical-align: top;\n",
       "    }\n",
       "\n",
       "    .dataframe thead th {\n",
       "        text-align: right;\n",
       "    }\n",
       "</style>\n",
       "<table border=\"1\" class=\"dataframe\">\n",
       "  <thead>\n",
       "    <tr style=\"text-align: right;\">\n",
       "      <th></th>\n",
       "      <th>Date</th>\n",
       "      <th>Open</th>\n",
       "      <th>High</th>\n",
       "      <th>Low</th>\n",
       "      <th>Close</th>\n",
       "      <th>Adj Close</th>\n",
       "      <th>Volume</th>\n",
       "    </tr>\n",
       "  </thead>\n",
       "  <tbody>\n",
       "    <tr>\n",
       "      <th>4003</th>\n",
       "      <td>2020-07-15</td>\n",
       "      <td>1523.130005</td>\n",
       "      <td>1535.329956</td>\n",
       "      <td>1498.000000</td>\n",
       "      <td>1513.640015</td>\n",
       "      <td>1513.640015</td>\n",
       "      <td>1610700</td>\n",
       "    </tr>\n",
       "    <tr>\n",
       "      <th>4004</th>\n",
       "      <td>2020-07-16</td>\n",
       "      <td>1500.000000</td>\n",
       "      <td>1518.689941</td>\n",
       "      <td>1486.310059</td>\n",
       "      <td>1518.000000</td>\n",
       "      <td>1518.000000</td>\n",
       "      <td>1519300</td>\n",
       "    </tr>\n",
       "    <tr>\n",
       "      <th>4005</th>\n",
       "      <td>2020-07-17</td>\n",
       "      <td>1521.619995</td>\n",
       "      <td>1523.439941</td>\n",
       "      <td>1498.420044</td>\n",
       "      <td>1515.550049</td>\n",
       "      <td>1515.550049</td>\n",
       "      <td>1456700</td>\n",
       "    </tr>\n",
       "  </tbody>\n",
       "</table>\n",
       "</div>"
      ],
      "text/plain": [
       "            Date         Open         High          Low        Close  \\\n",
       "4003  2020-07-15  1523.130005  1535.329956  1498.000000  1513.640015   \n",
       "4004  2020-07-16  1500.000000  1518.689941  1486.310059  1518.000000   \n",
       "4005  2020-07-17  1521.619995  1523.439941  1498.420044  1515.550049   \n",
       "\n",
       "        Adj Close   Volume  \n",
       "4003  1513.640015  1610700  \n",
       "4004  1518.000000  1519300  \n",
       "4005  1515.550049  1456700  "
      ]
     },
     "metadata": {},
     "output_type": "display_data"
    },
    {
     "name": "stdout",
     "output_type": "stream",
     "text": [
      "[datetime.date(2020, 7, 15), datetime.date(2020, 7, 16), datetime.date(2020, 7, 17)]\n"
     ]
    }
   ],
   "source": [
    "# Importing Training Set\n",
    "dataset_train = pd.read_csv('GOOG.csv')\n",
    "\n",
    "# Select features (columns) to be involved intro training and predictions\n",
    "cols = list(dataset_train)[1:6]\n",
    "\n",
    "# Extract dates (will be used in visualization)\n",
    "datelist_train = list(dataset_train['Date'])\n",
    "datelist_train = [dt.datetime.strptime(date, '%Y-%m-%d').date() for date in datelist_train]\n",
    "\n",
    "print('Training set shape == {}'.format(dataset_train.shape))\n",
    "print('All timestamps == {}'.format(len(datelist_train)))\n",
    "print('Featured selected: {}'.format(cols))\n",
    "\n",
    "display(dataset_train.tail(3))\n",
    "print(datelist_train[-3:])"
   ]
  },
  {
   "cell_type": "markdown",
   "metadata": {},
   "source": [
    "<h3>Step #2. Data pre-processing</h3>\n",
    "<p>\n",
    "Removing all commas and convert data to matrix shape format.\n",
    "</p>"
   ]
  },
  {
   "cell_type": "code",
   "execution_count": 48,
   "metadata": {
    "tags": []
   },
   "outputs": [
    {
     "data": {
      "text/html": [
       "<div>\n",
       "<style scoped>\n",
       "    .dataframe tbody tr th:only-of-type {\n",
       "        vertical-align: middle;\n",
       "    }\n",
       "\n",
       "    .dataframe tbody tr th {\n",
       "        vertical-align: top;\n",
       "    }\n",
       "\n",
       "    .dataframe thead th {\n",
       "        text-align: right;\n",
       "    }\n",
       "</style>\n",
       "<table border=\"1\" class=\"dataframe\">\n",
       "  <thead>\n",
       "    <tr style=\"text-align: right;\">\n",
       "      <th></th>\n",
       "      <th>Open</th>\n",
       "      <th>High</th>\n",
       "      <th>Low</th>\n",
       "      <th>Close</th>\n",
       "      <th>Adj Close</th>\n",
       "    </tr>\n",
       "  </thead>\n",
       "  <tbody>\n",
       "    <tr>\n",
       "      <th>0</th>\n",
       "      <td>49.813286</td>\n",
       "      <td>51.835709</td>\n",
       "      <td>47.800831</td>\n",
       "      <td>49.982655</td>\n",
       "      <td>49.982655</td>\n",
       "    </tr>\n",
       "    <tr>\n",
       "      <th>1</th>\n",
       "      <td>50.316402</td>\n",
       "      <td>54.336334</td>\n",
       "      <td>50.062355</td>\n",
       "      <td>53.952770</td>\n",
       "      <td>53.952770</td>\n",
       "    </tr>\n",
       "    <tr>\n",
       "      <th>2</th>\n",
       "      <td>55.168217</td>\n",
       "      <td>56.528118</td>\n",
       "      <td>54.321388</td>\n",
       "      <td>54.495735</td>\n",
       "      <td>54.495735</td>\n",
       "    </tr>\n",
       "  </tbody>\n",
       "</table>\n",
       "</div>"
      ],
      "text/plain": [
       "        Open       High        Low      Close  Adj Close\n",
       "0  49.813286  51.835709  47.800831  49.982655  49.982655\n",
       "1  50.316402  54.336334  50.062355  53.952770  53.952770\n",
       "2  55.168217  56.528118  54.321388  54.495735  54.495735"
      ]
     },
     "metadata": {},
     "output_type": "display_data"
    },
    {
     "name": "stdout",
     "output_type": "stream",
     "text": [
      "Shape of training set == (4006, 5).\n",
      "first 3 sets of data in training_set\n",
      "[[49.813286 51.835709 47.800831 49.982655 49.982655]\n",
      " [50.316402 54.336334 50.062355 53.95277  53.95277 ]\n",
      " [55.168217 56.528118 54.321388 54.495735 54.495735]]\n"
     ]
    }
   ],
   "source": [
    "dataset_train = dataset_train[cols].astype(str)\n",
    "for i in cols:\n",
    "    for j in range(0, len(dataset_train)):\n",
    "        dataset_train[i][j] = dataset_train[i][j].replace(',', '')\n",
    "\n",
    "dataset_train = dataset_train.astype(float)\n",
    "display(dataset_train.head(3))\n",
    "\n",
    "# Using multiple features (predictors)\n",
    "training_set = dataset_train.values\n",
    "\n",
    "print('Shape of training set == {}.'.format(training_set.shape))\n",
    "print('first 3 sets of data in training_set')\n",
    "print(training_set[:3])"
   ]
  },
  {
   "cell_type": "code",
   "execution_count": 49,
   "metadata": {
    "tags": []
   },
   "outputs": [
    {
     "data": {
      "text/plain": [
       "array([[-1.27195197],\n",
       "       [-1.27058974],\n",
       "       [-1.25745309],\n",
       "       ...,\n",
       "       [ 2.71716347],\n",
       "       [ 2.65453724],\n",
       "       [ 2.713075  ]])"
      ]
     },
     "execution_count": 49,
     "metadata": {},
     "output_type": "execute_result"
    }
   ],
   "source": [
    "# Feature Scaling\n",
    "from sklearn.preprocessing import StandardScaler\n",
    "\n",
    "sc = StandardScaler()\n",
    "training_set_scaled = sc.fit_transform(training_set)\n",
    "\n",
    "sc_predict = StandardScaler()\n",
    "sc_predict.fit_transform(training_set[:, 0:1])"
   ]
  },
  {
   "cell_type": "code",
   "execution_count": 50,
   "metadata": {
    "tags": []
   },
   "outputs": [
    {
     "name": "stdout",
     "output_type": "stream",
     "text": [
      "X_train shape == (3857, 90, 4).\n",
      "y_train shape == (3857, 1).\n"
     ]
    }
   ],
   "source": [
    "# Creating a data structure with 90 timestamps and 1 output\n",
    "X_train = []\n",
    "y_train = []\n",
    "\n",
    "n_future = 60   # Number of days we want top predict into the future\n",
    "n_past = 90     # Number of past days we want to use to predict the future\n",
    "\n",
    "for i in range(n_past, len(training_set_scaled) - n_future +1):\n",
    "    X_train.append(training_set_scaled[i - n_past:i, 0:dataset_train.shape[1] - 1])\n",
    "    y_train.append(training_set_scaled[i + n_future - 1:i + n_future, 0])\n",
    "\n",
    "X_train, y_train = np.array(X_train), np.array(y_train)\n",
    "\n",
    "print('X_train shape == {}.'.format(X_train.shape))\n",
    "print('y_train shape == {}.'.format(y_train.shape))"
   ]
  },
  {
   "cell_type": "markdown",
   "metadata": {},
   "source": [
    "<h2>PART 2. Create a model. Training</h2>"
   ]
  },
  {
   "cell_type": "markdown",
   "metadata": {},
   "source": [
    "<h3>Step #3. Building the LSTM based Neural Network</h3>"
   ]
  },
  {
   "cell_type": "code",
   "execution_count": 51,
   "metadata": {},
   "outputs": [],
   "source": [
    "# Import Libraries and packages from Keras\n",
    "from tensorflow.keras.models import Sequential\n",
    "from tensorflow.keras.layers import Dense\n",
    "from tensorflow.keras.layers import LSTM\n",
    "from tensorflow.keras.layers import Dropout\n",
    "from tensorflow.keras.optimizers import Adam"
   ]
  },
  {
   "cell_type": "code",
   "execution_count": 52,
   "metadata": {
    "tags": []
   },
   "outputs": [],
   "source": [
    "# Initializing the Neural Network based on LSTM\n",
    "model = Sequential()\n",
    "\n",
    "# Adding 1st LSTM layer\n",
    "model.add(LSTM(units=64, return_sequences=True, input_shape=(n_past, dataset_train.shape[1]-1)))\n",
    "\n",
    "# Adding 2nd LSTM layer\n",
    "model.add(LSTM(units=10, return_sequences=False))\n",
    "\n",
    "# Adding Dropout\n",
    "model.add(Dropout(0.25))\n",
    "\n",
    "# Output layer\n",
    "model.add(Dense(units=1, activation='linear'))\n",
    "\n",
    "# Compiling the Neural Network\n",
    "model.compile(optimizer = Adam(learning_rate=0.01), loss='mean_squared_error')"
   ]
  },
  {
   "cell_type": "markdown",
   "metadata": {},
   "source": [
    "<h3>Step #4. Start training</h3>"
   ]
  },
  {
   "cell_type": "code",
   "execution_count": 53,
   "metadata": {
    "tags": []
   },
   "outputs": [
    {
     "name": "stdout",
     "output_type": "stream",
     "text": [
      "Epoch 1/30\n",
      "13/13 [==============================] - 10s 493ms/step - loss: 0.1428 - val_loss: 0.8381\n",
      "\n",
      "Epoch 00001: val_loss improved from inf to 0.83808, saving model to weights.h5\n",
      "Epoch 2/30\n",
      "13/13 [==============================] - 2s 135ms/step - loss: 0.0384 - val_loss: 0.4800\n",
      "\n",
      "Epoch 00002: val_loss improved from 0.83808 to 0.48003, saving model to weights.h5\n",
      "Epoch 3/30\n",
      "13/13 [==============================] - 2s 138ms/step - loss: 0.0358 - val_loss: 0.2828\n",
      "\n",
      "Epoch 00003: val_loss improved from 0.48003 to 0.28284, saving model to weights.h5\n",
      "Epoch 4/30\n",
      "13/13 [==============================] - 2s 139ms/step - loss: 0.0325 - val_loss: 0.2804\n",
      "\n",
      "Epoch 00004: val_loss improved from 0.28284 to 0.28040, saving model to weights.h5\n",
      "Epoch 5/30\n",
      "13/13 [==============================] - 2s 145ms/step - loss: 0.0348 - val_loss: 0.4715\n",
      "\n",
      "Epoch 00005: val_loss did not improve from 0.28040\n",
      "Epoch 6/30\n",
      "13/13 [==============================] - 2s 134ms/step - loss: 0.0300 - val_loss: 0.2979\n",
      "\n",
      "Epoch 00006: val_loss did not improve from 0.28040\n",
      "Epoch 7/30\n",
      "13/13 [==============================] - 2s 136ms/step - loss: 0.0304 - val_loss: 0.2074\n",
      "\n",
      "Epoch 00007: val_loss improved from 0.28040 to 0.20739, saving model to weights.h5\n",
      "Epoch 8/30\n",
      "13/13 [==============================] - 2s 136ms/step - loss: 0.0311 - val_loss: 0.1524\n",
      "\n",
      "Epoch 00008: val_loss improved from 0.20739 to 0.15241, saving model to weights.h5\n",
      "Epoch 9/30\n",
      "13/13 [==============================] - 2s 150ms/step - loss: 0.0287 - val_loss: 0.2408\n",
      "\n",
      "Epoch 00009: val_loss did not improve from 0.15241\n",
      "Epoch 10/30\n",
      "13/13 [==============================] - 2s 143ms/step - loss: 0.0261 - val_loss: 0.1527\n",
      "\n",
      "Epoch 00010: val_loss did not improve from 0.15241\n",
      "Epoch 11/30\n",
      "13/13 [==============================] - 2s 141ms/step - loss: 0.0292 - val_loss: 0.1284\n",
      "\n",
      "Epoch 00011: val_loss improved from 0.15241 to 0.12836, saving model to weights.h5\n",
      "Epoch 12/30\n",
      "13/13 [==============================] - 2s 142ms/step - loss: 0.0266 - val_loss: 0.2737\n",
      "\n",
      "Epoch 00012: val_loss did not improve from 0.12836\n",
      "Epoch 13/30\n",
      "13/13 [==============================] - 2s 145ms/step - loss: 0.0310 - val_loss: 0.4926\n",
      "\n",
      "Epoch 00013: val_loss did not improve from 0.12836\n",
      "Epoch 14/30\n",
      "13/13 [==============================] - 2s 179ms/step - loss: 0.0264 - val_loss: 0.4928\n",
      "\n",
      "Epoch 00014: val_loss did not improve from 0.12836\n",
      "Epoch 15/30\n",
      "13/13 [==============================] - 2s 150ms/step - loss: 0.0264 - val_loss: 0.3284\n",
      "\n",
      "Epoch 00015: val_loss did not improve from 0.12836\n",
      "Epoch 16/30\n",
      "13/13 [==============================] - 2s 147ms/step - loss: 0.0291 - val_loss: 0.2544\n",
      "\n",
      "Epoch 00016: val_loss did not improve from 0.12836\n",
      "Epoch 17/30\n",
      "13/13 [==============================] - 2s 152ms/step - loss: 0.0257 - val_loss: 0.3284\n",
      "\n",
      "Epoch 00017: val_loss did not improve from 0.12836\n",
      "Epoch 18/30\n",
      "13/13 [==============================] - 2s 148ms/step - loss: 0.0261 - val_loss: 0.2501\n",
      "\n",
      "Epoch 00018: val_loss did not improve from 0.12836\n",
      "Epoch 19/30\n",
      "13/13 [==============================] - 2s 147ms/step - loss: 0.0258 - val_loss: 0.2174\n",
      "\n",
      "Epoch 00019: val_loss did not improve from 0.12836\n",
      "Epoch 20/30\n",
      "13/13 [==============================] - 2s 144ms/step - loss: 0.0237 - val_loss: 0.1496\n",
      "\n",
      "Epoch 00020: val_loss did not improve from 0.12836\n",
      "Epoch 21/30\n",
      "13/13 [==============================] - 2s 146ms/step - loss: 0.0277 - val_loss: 0.1166\n",
      "\n",
      "Epoch 00021: val_loss improved from 0.12836 to 0.11655, saving model to weights.h5\n",
      "Epoch 22/30\n",
      "13/13 [==============================] - 2s 179ms/step - loss: 0.0253 - val_loss: 0.1395\n",
      "\n",
      "Epoch 00022: val_loss did not improve from 0.11655\n",
      "Epoch 23/30\n",
      "13/13 [==============================] - 2s 147ms/step - loss: 0.0263 - val_loss: 0.2524\n",
      "\n",
      "Epoch 00023: val_loss did not improve from 0.11655\n",
      "Epoch 24/30\n",
      "13/13 [==============================] - 2s 145ms/step - loss: 0.0311 - val_loss: 0.4791\n",
      "\n",
      "Epoch 00024: val_loss did not improve from 0.11655\n",
      "Epoch 25/30\n",
      "13/13 [==============================] - 2s 147ms/step - loss: 0.0270 - val_loss: 0.2711\n",
      "\n",
      "Epoch 00025: val_loss did not improve from 0.11655\n",
      "Epoch 26/30\n",
      "13/13 [==============================] - 2s 146ms/step - loss: 0.0274 - val_loss: 0.3037\n",
      "\n",
      "Epoch 00026: val_loss did not improve from 0.11655\n",
      "Epoch 27/30\n",
      "13/13 [==============================] - 2s 151ms/step - loss: 0.0255 - val_loss: 0.3317\n",
      "\n",
      "Epoch 00027: val_loss did not improve from 0.11655\n",
      "Epoch 28/30\n",
      "13/13 [==============================] - 2s 153ms/step - loss: 0.0280 - val_loss: 0.2564\n",
      "\n",
      "Epoch 00028: val_loss did not improve from 0.11655\n",
      "Epoch 29/30\n",
      "13/13 [==============================] - 2s 155ms/step - loss: 0.0250 - val_loss: 0.1978\n",
      "\n",
      "Epoch 00029: val_loss did not improve from 0.11655\n",
      "Epoch 30/30\n",
      "13/13 [==============================] - 2s 178ms/step - loss: 0.0243 - val_loss: 0.1947\n",
      "\n",
      "Epoch 00030: val_loss did not improve from 0.11655\n",
      "Wall time: 1min 5s\n"
     ]
    }
   ],
   "source": [
    "%%time\n",
    "es = EarlyStopping(monitor='val_loss', min_delta=1e-10, patience=10, verbose=1)\n",
    "rlr = ReduceLROnPlateau(monitor='val_loss', factor=0.5, patience=10, verbose=1)\n",
    "mcp = ModelCheckpoint(filepath='weights.h5', monitor='val_loss', verbose=1, save_best_only=True, save_weights_only=True)\n",
    "\n",
    "tb = TensorBoard('logs')\n",
    "\n",
    "history = model.fit(X_train, y_train, shuffle=True, epochs=30, callbacks=[es, rlr, mcp, tb], validation_split=0.2, verbose=1, batch_size=256)"
   ]
  },
  {
   "cell_type": "markdown",
   "metadata": {},
   "source": [
    "<p>\n",
    "Notes:<br>\n",
    "<ul>\n",
    "<li><b>EarlyStopping</b> - Stop training when a monitored metric has stopped improving.</li>\n",
    "<li><code>monitor</code> - quantity to be monitored.</li>\n",
    "<li><code>min_delta</code> - minimum change in the monitored quantity to qualify as an improvement, i.e. an absolute change of less than <code>min_delta</code>, will count as no improvement.</li>\n",
    "<li><code>patience</code> - number of epochs with no improvement after which training will be stopped.</li>\n",
    "</ul>\n",
    "\n",
    "<ul>\n",
    "<li><b>ReduceLROnPlateau</b> - Reduce learning rate when a metric has stopped improving.</li>\n",
    "<li><code>factor</code> - factor by which the learning rate will be reduced. <code>new_lr = lr * factor</code>.</li>\n",
    "</ul>\n",
    "</p>\n",
    "\n",
    "<hr>\n",
    "\n",
    "<p>\n",
    "The last date for our training set is <code>30-Dec-2016</code>.<br>\n",
    "</p>\n",
    "\n",
    "<p>\n",
    "We will perform predictions for the next <b>20</b> days, since <b>2017-01-01</b> to <b>2017-01-20</b>.\n",
    "</p>"
   ]
  },
  {
   "cell_type": "markdown",
   "metadata": {},
   "source": [
    "<h2>PART 3. Make future predictions</h2>"
   ]
  },
  {
   "cell_type": "code",
   "execution_count": 54,
   "metadata": {},
   "outputs": [
    {
     "name": "stdout",
     "output_type": "stream",
     "text": [
      "[Timestamp('2020-07-17 00:00:00', freq='D'), Timestamp('2020-07-18 00:00:00', freq='D'), Timestamp('2020-07-19 00:00:00', freq='D')]\n",
      "[Timestamp('2020-09-12 00:00:00', freq='D'), Timestamp('2020-09-13 00:00:00', freq='D'), Timestamp('2020-09-14 00:00:00', freq='D')]\n"
     ]
    }
   ],
   "source": [
    "\n",
    "# Generate list of sequence of days for predictions\n",
    "datelist_future = pd.date_range(datelist_train[-1], periods=n_future, freq='1d').tolist()\n",
    "\n",
    "'''\n",
    "Remeber, we have datelist_train from begining.\n",
    "'''\n",
    "\n",
    "# Convert Pandas Timestamp to Datetime object (for transformation) --> FUTURE\n",
    "datelist_future_ = []\n",
    "for this_timestamp in datelist_future:\n",
    "    datelist_future_.append(this_timestamp.date())\n",
    "print(datelist_future[:3])\n",
    "print(datelist_future[-3:])"
   ]
  },
  {
   "cell_type": "markdown",
   "metadata": {},
   "source": [
    "<h3>Step #5. Make predictions for future dates</h3>"
   ]
  },
  {
   "cell_type": "code",
   "execution_count": 55,
   "metadata": {
    "tags": []
   },
   "outputs": [],
   "source": [
    "# Perform predictions\n",
    "predictions_future = model.predict(X_train[-n_future:])\n",
    "\n",
    "predictions_train = model.predict(X_train[n_past:])"
   ]
  },
  {
   "cell_type": "code",
   "execution_count": 62,
   "metadata": {
    "tags": []
   },
   "outputs": [
    {
     "data": {
      "text/plain": [
       "'below PREDICTIONS_FUTURE is'"
      ]
     },
     "metadata": {},
     "output_type": "display_data"
    },
    {
     "data": {
      "text/html": [
       "<div>\n",
       "<style scoped>\n",
       "    .dataframe tbody tr th:only-of-type {\n",
       "        vertical-align: middle;\n",
       "    }\n",
       "\n",
       "    .dataframe tbody tr th {\n",
       "        vertical-align: top;\n",
       "    }\n",
       "\n",
       "    .dataframe thead th {\n",
       "        text-align: right;\n",
       "    }\n",
       "</style>\n",
       "<table border=\"1\" class=\"dataframe\">\n",
       "  <thead>\n",
       "    <tr style=\"text-align: right;\">\n",
       "      <th></th>\n",
       "      <th>Open</th>\n",
       "    </tr>\n",
       "  </thead>\n",
       "  <tbody>\n",
       "    <tr>\n",
       "      <th>2020-07-17</th>\n",
       "      <td>1157.790039</td>\n",
       "    </tr>\n",
       "    <tr>\n",
       "      <th>2020-07-18</th>\n",
       "      <td>1157.551147</td>\n",
       "    </tr>\n",
       "    <tr>\n",
       "      <th>2020-07-19</th>\n",
       "      <td>1156.943848</td>\n",
       "    </tr>\n",
       "  </tbody>\n",
       "</table>\n",
       "</div>"
      ],
      "text/plain": [
       "                   Open\n",
       "2020-07-17  1157.790039\n",
       "2020-07-18  1157.551147\n",
       "2020-07-19  1156.943848"
      ]
     },
     "metadata": {},
     "output_type": "display_data"
    },
    {
     "data": {
      "text/plain": [
       "'below PREDICTION_TRAIN is'"
      ]
     },
     "metadata": {},
     "output_type": "display_data"
    },
    {
     "data": {
      "text/html": [
       "<div>\n",
       "<style scoped>\n",
       "    .dataframe tbody tr th:only-of-type {\n",
       "        vertical-align: middle;\n",
       "    }\n",
       "\n",
       "    .dataframe tbody tr th {\n",
       "        vertical-align: top;\n",
       "    }\n",
       "\n",
       "    .dataframe thead th {\n",
       "        text-align: right;\n",
       "    }\n",
       "</style>\n",
       "<table border=\"1\" class=\"dataframe\">\n",
       "  <thead>\n",
       "    <tr style=\"text-align: right;\">\n",
       "      <th></th>\n",
       "      <th>Open</th>\n",
       "    </tr>\n",
       "  </thead>\n",
       "  <tbody>\n",
       "    <tr>\n",
       "      <th>2005-08-01</th>\n",
       "      <td>141.223221</td>\n",
       "    </tr>\n",
       "    <tr>\n",
       "      <th>2005-08-02</th>\n",
       "      <td>141.683762</td>\n",
       "    </tr>\n",
       "    <tr>\n",
       "      <th>2005-08-03</th>\n",
       "      <td>141.984604</td>\n",
       "    </tr>\n",
       "  </tbody>\n",
       "</table>\n",
       "</div>"
      ],
      "text/plain": [
       "                  Open\n",
       "2005-08-01  141.223221\n",
       "2005-08-02  141.683762\n",
       "2005-08-03  141.984604"
      ]
     },
     "metadata": {},
     "output_type": "display_data"
    }
   ],
   "source": [
    "# Inverse the predictions to original measurements\n",
    "\n",
    "# ---> Special function: convert <datetime.date> to <Timestamp>\n",
    "def datetime_to_timestamp(x):\n",
    "    '''\n",
    "        x : a given datetime value (datetime.date)\n",
    "    '''\n",
    "    return datetime.strptime(x.strftime('%Y%m%d'), '%Y%m%d')\n",
    "\n",
    "\n",
    "y_pred_future = sc_predict.inverse_transform(predictions_future)\n",
    "y_pred_train = sc_predict.inverse_transform(predictions_train)\n",
    "\n",
    "PREDICTIONS_FUTURE = pd.DataFrame(y_pred_future, columns=['Open']).set_index(\n",
    "    pd.Series(datelist_future))\n",
    "PREDICTION_TRAIN = pd.DataFrame(y_pred_train, columns=['Open']).set_index(\n",
    "    pd.Series(datelist_train[2 * n_past + n_future -1:]))\n",
    "\n",
    "# Convert <datetime.date> to <Timestamp> for PREDCITION_TRAIN\n",
    "PREDICTION_TRAIN.index = PREDICTION_TRAIN.index.to_series().apply(datetime_to_timestamp)\n",
    "\n",
    "display('below PREDICTIONS_FUTURE is', PREDICTIONS_FUTURE.head(3))\n",
    "display('below PREDICTION_TRAIN is', PREDICTION_TRAIN.head(3))"
   ]
  },
  {
   "cell_type": "markdown",
   "metadata": {},
   "source": [
    "<h3>Step #6. Visualize the Predictions</h3>"
   ]
  },
  {
   "cell_type": "code",
   "execution_count": 59,
   "metadata": {},
   "outputs": [
    {
     "data": {
      "image/png": "[encoded data removed]",
      "text/plain": [
       "<Figure size 1008x360 with 1 Axes>"
      ]
     },
     "metadata": {
      "needs_background": "light"
     },
     "output_type": "display_data"
    }
   ],
   "source": [
    "# Set plot size \n",
    "from pylab import rcParams\n",
    "rcParams['figure.figsize'] = 14, 5\n",
    "\n",
    "# Plot parameters\n",
    "START_DATE_FOR_PLOTTING = '2012-06-01'\n",
    "\n",
    "plt.plot(PREDICTIONS_FUTURE.index, PREDICTIONS_FUTURE['Open'], color='r', \n",
    "         label='Predicted Stock Price')\n",
    "plt.plot(PREDICTION_TRAIN.loc[START_DATE_FOR_PLOTTING:].index, \n",
    "         PREDICTION_TRAIN.loc[START_DATE_FOR_PLOTTING:]['Open'], color='orange', \n",
    "         label='Training predictions')\n",
    "plt.plot(dataset_train.loc[START_DATE_FOR_PLOTTING:].index, \n",
    "         dataset_train.loc[START_DATE_FOR_PLOTTING:]['Open'], color='b', \n",
    "         label='Actual Stock Price')\n",
    "\n",
    "plt.axvline(x = min(PREDICTIONS_FUTURE.index), color='green', linewidth=2, linestyle='--')\n",
    "\n",
    "plt.grid(which='major', color='#cccccc', alpha=0.5)\n",
    "\n",
    "plt.legend(shadow=True)\n",
    "plt.title('Predcitions and Acutal Stock Prices', family='Arial', fontsize=12)\n",
    "plt.xlabel('Timeline', family='Arial', fontsize=10)\n",
    "plt.ylabel('Stock Price Value', family='Arial', fontsize=10)\n",
    "plt.xticks(rotation=45, fontsize=8)\n",
    "plt.show()\n",
    "\n",
    "# display(PREDICTION_TRAIN)"
   ]
  },
  {
   "cell_type": "code",
   "execution_count": 58,
   "metadata": {
    "tags": []
   },
   "outputs": [],
   "source": [
    "# Parse training set timestamp for better visualization\n",
    "dataset_train = pd.DataFrame(dataset_train, columns=cols)\n",
    "dataset_train.index = datelist_train\n",
    "dataset_train.index = pd.to_datetime(dataset_train.index)"
   ]
  }
 ],
 "metadata": {
  "kernelspec": {
   "display_name": "Python 3",
   "language": "python",
   "name": "python3"
  },
  "language_info": {
   "codemirror_mode": {
    "name": "ipython",
    "version": 3
   },
   "file_extension": ".py",
   "mimetype": "text/x-python",
   "name": "python",
   "nbconvert_exporter": "python",
   "pygments_lexer": "ipython3",
   "version": "3.8.5"
  }
 },
 "nbformat": 4,
 "nbformat_minor": 2
}
